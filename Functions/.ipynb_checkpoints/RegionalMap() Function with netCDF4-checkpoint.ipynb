{
 "cells": [
  {
   "cell_type": "markdown",
   "metadata": {},
   "source": [
    "## Reformat NetCDF4 File for Function Call"
   ]
  },
  {
   "cell_type": "code",
   "execution_count": 26,
   "metadata": {},
   "outputs": [],
   "source": [
    "import opedia\n",
    "import math\n",
    "import common as com\n",
    "from opedia import plotRegional as REG\n",
    "import netCDF4\n",
    "import xarray as xr\n",
    "import numpy as np\n",
    "from datetime import datetime\n",
    "from dateutil.parser import parse\n",
    "from bokeh.plotting import figure, show, output_file\n",
    "from bokeh.layouts import column\n",
    "from bokeh.palettes import all_palettes\n",
    "from bokeh.models import HoverTool, LinearColorMapper, BasicTicker, ColorBar, DatetimeTickFormatter\n",
    "from bokeh.models.annotations import Title\n",
    "from bokeh.embed import components\n",
    "from tqdm import tqdm_notebook as tqdm\n",
    "from netCDF4 import num2date, date2num\n",
    "\n",
    "tFile = netCDF4.Dataset('http://engaging-opendap.mit.edu:8080/thredds/dodsC/las/id-a1d60eba44/data_usr_local_tomcat_content_cbiomes_20190510_20_darwin_v0.2_cs510_darwin_v0.2_cs510_nutrients.nc.jnl')\n"
   ]
  },
  {
   "cell_type": "code",
   "execution_count": 88,
   "metadata": {
    "scrolled": false
   },
   "outputs": [
    {
     "data": {
      "application/vnd.jupyter.widget-view+json": {
       "model_id": "ba4e258d49134955bac0420e6a164baa",
       "version_major": 2,
       "version_minor": 0
      },
      "text/plain": [
       "HBox(children=(IntProgress(value=0, description='overall', max=1, style=ProgressStyle(description_width='initi…"
      ]
     },
     "metadata": {},
     "output_type": "display_data"
    },
    {
     "name": "stdout",
     "output_type": "stream",
     "text": [
      "(1, 41, 41)\n"
     ]
    },
    {
     "data": {
      "text/html": [
       "\n",
       "\n",
       "\n",
       "\n",
       "\n",
       "\n",
       "  <div class=\"bk-root\" id=\"85eb0d91-9b50-4151-9e6c-4c606c876b2a\" data-root-id=\"8418\"></div>\n"
      ]
     },
     "metadata": {},
     "output_type": "display_data"
    },
    {
     "data": {
      "application/javascript": [
       "(function(root) {\n",
       "  function embed_document(root) {\n",
       "    \n",
       "  var docs_json = {\"f4e5a54b-0464-4980-b884-4a906253cd8e\":{\"roots\":{\"references\":[{\"attributes\":{\"children\":[{\"id\":\"8368\",\"subtype\":\"Figure\",\"type\":\"Plot\"}]},\"id\":\"8418\",\"type\":\"Column\"},{\"attributes\":{\"callback\":null,\"end\":9.75,\"start\":-10.25},\"id\":\"8372\",\"type\":\"Range1d\"},{\"attributes\":{},\"id\":\"8395\",\"type\":\"SaveTool\"},{\"attributes\":{},\"id\":\"8374\",\"type\":\"LinearScale\"},{\"attributes\":{},\"id\":\"8376\",\"type\":\"LinearScale\"},{\"attributes\":{\"bottom_units\":\"screen\",\"fill_alpha\":{\"value\":0.5},\"fill_color\":{\"value\":\"lightgrey\"},\"left_units\":\"screen\",\"level\":\"overlay\",\"line_alpha\":{\"value\":1.0},\"line_color\":{\"value\":\"black\"},\"line_dash\":[4,4],\"line_width\":{\"value\":2},\"plot\":null,\"render_mode\":\"css\",\"right_units\":\"screen\",\"top_units\":\"screen\"},\"id\":\"8401\",\"type\":\"BoxAnnotation\"},{\"attributes\":{\"axis_label\":\"Longitude\",\"formatter\":{\"id\":\"8690\",\"type\":\"BasicTickFormatter\"},\"plot\":{\"id\":\"8368\",\"subtype\":\"Figure\",\"type\":\"Plot\"},\"ticker\":{\"id\":\"8379\",\"type\":\"BasicTicker\"}},\"id\":\"8378\",\"type\":\"LinearAxis\"},{\"attributes\":{\"color_mapper\":{\"id\":\"8407\",\"type\":\"LinearColorMapper\"},\"dh\":{\"units\":\"data\",\"value\":20.0},\"dw\":{\"units\":\"data\",\"value\":20.0},\"image\":{\"field\":\"image\"},\"x\":{\"value\":-10.25},\"y\":{\"value\":-10.25}},\"id\":\"8410\",\"type\":\"Image\"},{\"attributes\":{},\"id\":\"8379\",\"type\":\"BasicTicker\"},{\"attributes\":{\"data_source\":{\"id\":\"8408\",\"type\":\"ColumnDataSource\"},\"glyph\":{\"id\":\"8409\",\"type\":\"Image\"},\"hover_glyph\":null,\"muted_glyph\":null,\"nonselection_glyph\":{\"id\":\"8410\",\"type\":\"Image\"},\"selection_glyph\":null,\"view\":{\"id\":\"8412\",\"type\":\"CDSView\"}},\"id\":\"8411\",\"type\":\"GlyphRenderer\"},{\"attributes\":{\"plot\":{\"id\":\"8368\",\"subtype\":\"Figure\",\"type\":\"Plot\"},\"ticker\":{\"id\":\"8379\",\"type\":\"BasicTicker\"}},\"id\":\"8382\",\"type\":\"Grid\"},{\"attributes\":{\"source\":{\"id\":\"8408\",\"type\":\"ColumnDataSource\"}},\"id\":\"8412\",\"type\":\"CDSView\"},{\"attributes\":{\"axis_label\":\"Latitude\",\"formatter\":{\"id\":\"8692\",\"type\":\"BasicTickFormatter\"},\"plot\":{\"id\":\"8368\",\"subtype\":\"Figure\",\"type\":\"Plot\"},\"ticker\":{\"id\":\"8384\",\"type\":\"BasicTicker\"}},\"id\":\"8383\",\"type\":\"LinearAxis\"},{\"attributes\":{\"callback\":null,\"tooltips\":[[\"longitude\",\"$x\"],[\"latitude\",\"$y\"],[\"O[O2 [mmol O/m^3], time: 1969-12-31]\",\"@image\"]]},\"id\":\"8413\",\"type\":\"HoverTool\"},{\"attributes\":{},\"id\":\"8384\",\"type\":\"BasicTicker\"},{\"attributes\":{},\"id\":\"8415\",\"type\":\"BasicTicker\"},{\"attributes\":{\"dimension\":1,\"plot\":{\"id\":\"8368\",\"subtype\":\"Figure\",\"type\":\"Plot\"},\"ticker\":{\"id\":\"8384\",\"type\":\"BasicTicker\"}},\"id\":\"8387\",\"type\":\"Grid\"},{\"attributes\":{\"color_mapper\":{\"id\":\"8407\",\"type\":\"LinearColorMapper\"},\"formatter\":{\"id\":\"8694\",\"type\":\"BasicTickFormatter\"},\"label_standoff\":12,\"location\":[0,0],\"plot\":{\"id\":\"8368\",\"subtype\":\"Figure\",\"type\":\"Plot\"},\"ticker\":{\"id\":\"8415\",\"type\":\"BasicTicker\"}},\"id\":\"8416\",\"type\":\"ColorBar\"},{\"attributes\":{\"color_mapper\":{\"id\":\"8407\",\"type\":\"LinearColorMapper\"},\"dh\":{\"units\":\"data\",\"value\":20.0},\"dw\":{\"units\":\"data\",\"value\":20.0},\"image\":{\"field\":\"image\"},\"x\":{\"value\":-10.25},\"y\":{\"value\":-10.25}},\"id\":\"8409\",\"type\":\"Image\"},{\"attributes\":{\"callback\":null,\"data\":{\"image\":[{\"__ndarray__\":\"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\",\"dtype\":\"float32\",\"shape\":[41,41]}]},\"selected\":{\"id\":\"8696\",\"type\":\"Selection\"},\"selection_policy\":{\"id\":\"8695\",\"type\":\"UnionRenderers\"}},\"id\":\"8408\",\"type\":\"ColumnDataSource\"},{\"attributes\":{},\"id\":\"8692\",\"type\":\"BasicTickFormatter\"},{\"attributes\":{},\"id\":\"8690\",\"type\":\"BasicTickFormatter\"},{\"attributes\":{},\"id\":\"8696\",\"type\":\"Selection\"},{\"attributes\":{\"active_drag\":\"auto\",\"active_inspect\":\"auto\",\"active_multi\":null,\"active_scroll\":\"auto\",\"active_tap\":\"auto\",\"tools\":[{\"id\":\"8388\",\"type\":\"CrosshairTool\"},{\"id\":\"8389\",\"type\":\"PanTool\"},{\"id\":\"8390\",\"type\":\"ZoomInTool\"},{\"id\":\"8391\",\"type\":\"WheelZoomTool\"},{\"id\":\"8392\",\"type\":\"ZoomOutTool\"},{\"id\":\"8393\",\"type\":\"BoxZoomTool\"},{\"id\":\"8394\",\"type\":\"ResetTool\"},{\"id\":\"8395\",\"type\":\"SaveTool\"},{\"id\":\"8413\",\"type\":\"HoverTool\"}]},\"id\":\"8396\",\"type\":\"Toolbar\"},{\"attributes\":{\"high\":225.05816650390625,\"low\":200.27218627929688,\"palette\":[\"#440154\",\"#440255\",\"#440357\",\"#450558\",\"#45065A\",\"#45085B\",\"#46095C\",\"#460B5E\",\"#460C5F\",\"#460E61\",\"#470F62\",\"#471163\",\"#471265\",\"#471466\",\"#471567\",\"#471669\",\"#47186A\",\"#48196B\",\"#481A6C\",\"#481C6E\",\"#481D6F\",\"#481E70\",\"#482071\",\"#482172\",\"#482273\",\"#482374\",\"#472575\",\"#472676\",\"#472777\",\"#472878\",\"#472A79\",\"#472B7A\",\"#472C7B\",\"#462D7C\",\"#462F7C\",\"#46307D\",\"#46317E\",\"#45327F\",\"#45347F\",\"#453580\",\"#453681\",\"#443781\",\"#443982\",\"#433A83\",\"#433B83\",\"#433C84\",\"#423D84\",\"#423E85\",\"#424085\",\"#414186\",\"#414286\",\"#404387\",\"#404487\",\"#3F4587\",\"#3F4788\",\"#3E4888\",\"#3E4989\",\"#3D4A89\",\"#3D4B89\",\"#3D4C89\",\"#3C4D8A\",\"#3C4E8A\",\"#3B508A\",\"#3B518A\",\"#3A528B\",\"#3A538B\",\"#39548B\",\"#39558B\",\"#38568B\",\"#38578C\",\"#37588C\",\"#37598C\",\"#365A8C\",\"#365B8C\",\"#355C8C\",\"#355D8C\",\"#345E8D\",\"#345F8D\",\"#33608D\",\"#33618D\",\"#32628D\",\"#32638D\",\"#31648D\",\"#31658D\",\"#31668D\",\"#30678D\",\"#30688D\",\"#2F698D\",\"#2F6A8D\",\"#2E6B8E\",\"#2E6C8E\",\"#2E6D8E\",\"#2D6E8E\",\"#2D6F8E\",\"#2C708E\",\"#2C718E\",\"#2C728E\",\"#2B738E\",\"#2B748E\",\"#2A758E\",\"#2A768E\",\"#2A778E\",\"#29788E\",\"#29798E\",\"#287A8E\",\"#287A8E\",\"#287B8E\",\"#277C8E\",\"#277D8E\",\"#277E8E\",\"#267F8E\",\"#26808E\",\"#26818E\",\"#25828E\",\"#25838D\",\"#24848D\",\"#24858D\",\"#24868D\",\"#23878D\",\"#23888D\",\"#23898D\",\"#22898D\",\"#228A8D\",\"#228B8D\",\"#218C8D\",\"#218D8C\",\"#218E8C\",\"#208F8C\",\"#20908C\",\"#20918C\",\"#1F928C\",\"#1F938B\",\"#1F948B\",\"#1F958B\",\"#1F968B\",\"#1E978A\",\"#1E988A\",\"#1E998A\",\"#1E998A\",\"#1E9A89\",\"#1E9B89\",\"#1E9C89\",\"#1E9D88\",\"#1E9E88\",\"#1E9F88\",\"#1EA087\",\"#1FA187\",\"#1FA286\",\"#1FA386\",\"#20A485\",\"#20A585\",\"#21A685\",\"#21A784\",\"#22A784\",\"#23A883\",\"#23A982\",\"#24AA82\",\"#25AB81\",\"#26AC81\",\"#27AD80\",\"#28AE7F\",\"#29AF7F\",\"#2AB07E\",\"#2BB17D\",\"#2CB17D\",\"#2EB27C\",\"#2FB37B\",\"#30B47A\",\"#32B57A\",\"#33B679\",\"#35B778\",\"#36B877\",\"#38B976\",\"#39B976\",\"#3BBA75\",\"#3DBB74\",\"#3EBC73\",\"#40BD72\",\"#42BE71\",\"#44BE70\",\"#45BF6F\",\"#47C06E\",\"#49C16D\",\"#4BC26C\",\"#4DC26B\",\"#4FC369\",\"#51C468\",\"#53C567\",\"#55C666\",\"#57C665\",\"#59C764\",\"#5BC862\",\"#5EC961\",\"#60C960\",\"#62CA5F\",\"#64CB5D\",\"#67CC5C\",\"#69CC5B\",\"#6BCD59\",\"#6DCE58\",\"#70CE56\",\"#72CF55\",\"#74D054\",\"#77D052\",\"#79D151\",\"#7CD24F\",\"#7ED24E\",\"#81D34C\",\"#83D34B\",\"#86D449\",\"#88D547\",\"#8BD546\",\"#8DD644\",\"#90D643\",\"#92D741\",\"#95D73F\",\"#97D83E\",\"#9AD83C\",\"#9DD93A\",\"#9FD938\",\"#A2DA37\",\"#A5DA35\",\"#A7DB33\",\"#AADB32\",\"#ADDC30\",\"#AFDC2E\",\"#B2DD2C\",\"#B5DD2B\",\"#B7DD29\",\"#BADE27\",\"#BDDE26\",\"#BFDF24\",\"#C2DF22\",\"#C5DF21\",\"#C7E01F\",\"#CAE01E\",\"#CDE01D\",\"#CFE11C\",\"#D2E11B\",\"#D4E11A\",\"#D7E219\",\"#DAE218\",\"#DCE218\",\"#DFE318\",\"#E1E318\",\"#E4E318\",\"#E7E419\",\"#E9E419\",\"#ECE41A\",\"#EEE51B\",\"#F1E51C\",\"#F3E51E\",\"#F6E61F\",\"#F8E621\",\"#FAE622\",\"#FDE724\"]},\"id\":\"8407\",\"type\":\"LinearColorMapper\"},{\"attributes\":{},\"id\":\"8388\",\"type\":\"CrosshairTool\"},{\"attributes\":{},\"id\":\"8695\",\"type\":\"UnionRenderers\"},{\"attributes\":{\"callback\":null,\"end\":9.75,\"start\":-10.25},\"id\":\"8370\",\"type\":\"Range1d\"},{\"attributes\":{},\"id\":\"8389\",\"type\":\"PanTool\"},{\"attributes\":{},\"id\":\"8390\",\"type\":\"ZoomInTool\"},{\"attributes\":{\"below\":[{\"id\":\"8378\",\"type\":\"LinearAxis\"}],\"left\":[{\"id\":\"8383\",\"type\":\"LinearAxis\"}],\"plot_height\":500,\"plot_width\":500,\"renderers\":[{\"id\":\"8378\",\"type\":\"LinearAxis\"},{\"id\":\"8382\",\"type\":\"Grid\"},{\"id\":\"8383\",\"type\":\"LinearAxis\"},{\"id\":\"8387\",\"type\":\"Grid\"},{\"id\":\"8401\",\"type\":\"BoxAnnotation\"},{\"id\":\"8411\",\"type\":\"GlyphRenderer\"},{\"id\":\"8416\",\"type\":\"ColorBar\"}],\"right\":[{\"id\":\"8416\",\"type\":\"ColorBar\"}],\"title\":{\"id\":\"8367\",\"type\":\"Title\"},\"toolbar\":{\"id\":\"8396\",\"type\":\"Toolbar\"},\"x_range\":{\"id\":\"8370\",\"type\":\"Range1d\"},\"x_scale\":{\"id\":\"8374\",\"type\":\"LinearScale\"},\"y_range\":{\"id\":\"8372\",\"type\":\"Range1d\"},\"y_scale\":{\"id\":\"8376\",\"type\":\"LinearScale\"}},\"id\":\"8368\",\"subtype\":\"Figure\",\"type\":\"Plot\"},{\"attributes\":{},\"id\":\"8694\",\"type\":\"BasicTickFormatter\"},{\"attributes\":{},\"id\":\"8391\",\"type\":\"WheelZoomTool\"},{\"attributes\":{},\"id\":\"8392\",\"type\":\"ZoomOutTool\"},{\"attributes\":{\"plot\":null,\"text\":\"[\"},\"id\":\"8367\",\"type\":\"Title\"},{\"attributes\":{\"overlay\":{\"id\":\"8401\",\"type\":\"BoxAnnotation\"}},\"id\":\"8393\",\"type\":\"BoxZoomTool\"},{\"attributes\":{},\"id\":\"8394\",\"type\":\"ResetTool\"}],\"root_ids\":[\"8418\"]},\"title\":\"Bokeh Application\",\"version\":\"1.0.4\"}};\n",
       "  var render_items = [{\"docid\":\"f4e5a54b-0464-4980-b884-4a906253cd8e\",\"roots\":{\"8418\":\"85eb0d91-9b50-4151-9e6c-4c606c876b2a\"}}];\n",
       "  root.Bokeh.embed.embed_items_notebook(docs_json, render_items);\n",
       "\n",
       "  }\n",
       "  if (root.Bokeh !== undefined) {\n",
       "    embed_document(root);\n",
       "  } else {\n",
       "    var attempts = 0;\n",
       "    var timer = setInterval(function(root) {\n",
       "      if (root.Bokeh !== undefined) {\n",
       "        embed_document(root);\n",
       "        clearInterval(timer);\n",
       "      }\n",
       "      attempts++;\n",
       "      if (attempts > 100) {\n",
       "        console.log(\"Bokeh: ERROR: Unable to run BokehJS code because BokehJS library is missing\");\n",
       "        clearInterval(timer);\n",
       "      }\n",
       "    }, 10, root)\n",
       "  }\n",
       "})(window);"
      ],
      "application/vnd.bokehjs_exec.v0+json": ""
     },
     "metadata": {
      "application/vnd.bokehjs_exec.v0+json": {
       "id": "8418"
      }
     },
     "output_type": "display_data"
    },
    {
     "name": "stdout",
     "output_type": "stream",
     "text": [
      "\n"
     ]
    }
   ],
   "source": [
    "tables = [tFile]\n",
    "variables = ['O2']\n",
    "startDate = '1969-12-31'\n",
    "endDate = '1969-12-31'\n",
    "lat1, lat2 = -10, 10\n",
    "lon1, lon2 = -10, 10\n",
    "depth1, depth2 = 5, 15\n",
    "fname = 'regional'\n",
    "exportDataFlag = False\n",
    "\n",
    "regionalMap(tables, variables, startDate, endDate, lat1, lat2, lon1, lon2, depth1, depth2, fname, exportDataFlag)"
   ]
  },
  {
   "cell_type": "markdown",
   "metadata": {},
   "source": [
    "### RegionalMap Method (Takes NetCDF4 Files) ###"
   ]
  },
  {
   "cell_type": "code",
   "execution_count": 87,
   "metadata": {},
   "outputs": [],
   "source": [
    "def regionalMap(tables, variabels, dt1, dt2, lat1, lat2, lon1, lon2, depth1, depth2, fname, exportDataFlag):\n",
    "    for i in tqdm(range(len(tables)), desc='overall'):\n",
    "        subTime = dt1\n",
    "        \n",
    "        #testing goin' on here-----------------------\n",
    "       # df = xr.open_dataset(tables[i])\n",
    "        \n",
    "        #testing------------------------------------\n",
    "        \n",
    "        dt1 = date2num(datetime.combine(datetime.strptime(dt1, '%Y-%m-%d'), datetime.min.time()), units = (tables[i].variables['TIME'].units))\n",
    "        dt2 = date2num(datetime.combine(datetime.strptime(dt2, '%Y-%m-%d'), datetime.min.time()), units = (tables[i].variables['TIME'].units))\n",
    "        times = tables[i].variables['TIME'][:]\n",
    "\n",
    "        minTimeIndex = findClosestIndex(times, dt1)\n",
    "        maxTimeIndex = (np.abs(times[::-1] - dt2)).argmin() + 1\n",
    "        \n",
    "        lats = tables[i].variables['LAT_C'][:]\n",
    "        lons = tables[i].variables['LON_C'][:]\n",
    "        depths = tables[i].variables['DEP_C'][:]\n",
    "        \n",
    "        minDepthDex = findClosestIndex(depths, depth1)\n",
    "        maxDepthDex = findClosestIndex(depths, depth2)\n",
    "        \n",
    "        minLatDex = findClosestIndex(lats, lat1)\n",
    "        maxLatDex = findClosestIndex(lats, lat2) + 1\n",
    "        minLonDex = findClosestIndex(lons, lon1)\n",
    "        maxLonDex = findClosestIndex(lons, lon2) + 1\n",
    "        \n",
    "        lats = lats[minLatDex : maxLatDex]\n",
    "        lons = lons[minLonDex : maxLonDex]\n",
    "        depths = depths[minDepthDex : maxDepthDex]\n",
    "        \n",
    "        varData = tables[i].variables[variables[i]][0, 0, minLatDex : maxLatDex, minLonDex : maxLonDex]\n",
    "        varTimeData = tables[i].variables[variables[i]][0, minDepthDex : maxDepthDex, minLatDex : maxLatDex, minLonDex : maxLonDex]\n",
    "        print(varTimeData.shape)\n",
    "        \n",
    "        unit = '[' + variables[i] + ' [' + tables[i].variables[variables[i]].units + '], time: ' + str(subTime) + ']'\n",
    "        \n",
    "        shape = (len(lats), len(lons))\n",
    "        \n",
    "        varData.reshape(shape)\n",
    "        \n",
    "        lats = [np.asarray(lats)]\n",
    "        lons = [np.asarray(lons)]\n",
    "        varData[varData < 0] = float('NaN')\n",
    "        varData = [np.asarray(varData)]\n",
    "        \n",
    "        bokehMap(varData, unit, 'regional', lats, lons, unit, 'OTHER', variables[i])"
   ]
  },
  {
   "cell_type": "code",
   "execution_count": 7,
   "metadata": {},
   "outputs": [],
   "source": [
    "def bokehMap(data, subject, fname, lat, lon, units, tables, variabels):\n",
    "    TOOLS=\"crosshair,pan,zoom_in,wheel_zoom,zoom_out,box_zoom,reset,save,\"\n",
    "    p = []\n",
    "    for ind in range(len(data)):\n",
    "        w, h = com.canvasRect(dw=np.max(lon[ind])-np.min(lon[ind]), dh=np.max(lat[ind])-np.min(lat[ind]))\n",
    "        p1 = figure(tools=TOOLS, toolbar_location=\"right\", title=subject[ind], plot_width=w, plot_height=h, x_range=(np.min(lon[ind]), np.max(lon[ind])), y_range=(np.min(lat[ind]), np.max(lat[ind])))\n",
    "        p1.xaxis.axis_label = 'Longitude'\n",
    "        p1.yaxis.axis_label = 'Latitude'\n",
    "    \n",
    "        unit = units\n",
    "        \n",
    "        bounds = com.getBounds(variabels[ind])\n",
    "        \n",
    "        paletteName = com.getPalette(variabels[ind])\n",
    "        low, high = bounds[0], bounds[1]\n",
    "        \n",
    "        if low == None:\n",
    "            low, high = np.nanmin(data[ind].flatten()), np.nanmax(data[ind].flatten())\n",
    "        color_mapper = LinearColorMapper(palette=paletteName, low=low, high=high)\n",
    "        p1.image(image=[data[ind]], color_mapper=color_mapper, x=np.min(lon[ind]), y=np.min(lat[ind]), dw=np.max(lon[ind])-np.min(lon[ind]), dh=np.max(lat[ind])-np.min(lat[ind]))\n",
    "        p1.add_tools(HoverTool(\n",
    "            tooltips=[\n",
    "                ('longitude', '$x'),\n",
    "                ('latitude', '$y'),\n",
    "                (variabels[ind]+unit, '@image'),\n",
    "            ],\n",
    "            mode='mouse'\n",
    "        ))\n",
    "        color_bar = ColorBar(color_mapper=color_mapper, ticker=BasicTicker(),\n",
    "                        label_standoff=12, border_line_color=None, location=(0,0))\n",
    "        p1.add_layout(color_bar, 'right')\n",
    "        p.append(p1)\n",
    "    if len(p) > 0:\n",
    "       # if not inline:      ## if jupyter is not the caller\n",
    "       #     dirPath = 'embed/'\n",
    "       #     if not os.path.exists(dirPath):\n",
    "       #         os.makedirs(dirPath)        \n",
    "       #     output_file(dirPath + fname + \".html\", title=\"Regional Map\")\n",
    "        show(column(p))\n",
    "    return\n"
   ]
  },
  {
   "cell_type": "code",
   "execution_count": 6,
   "metadata": {},
   "outputs": [],
   "source": [
    "def findClosestIndex(list, value):\n",
    "    array = np.asarray(list)\n",
    "    index = (np.abs(list - value)).argmin()\n",
    "    return index"
   ]
  },
  {
   "cell_type": "code",
   "execution_count": 69,
   "metadata": {},
   "outputs": [
    {
     "ename": "RuntimeError",
     "evalue": "NetCDF: Access failure",
     "output_type": "error",
     "traceback": [
      "\u001b[0;31m---------------------------------------------------------------------------\u001b[0m",
      "\u001b[0;31mRuntimeError\u001b[0m                              Traceback (most recent call last)",
      "\u001b[0;32m<ipython-input-69-b87f14a20968>\u001b[0m in \u001b[0;36m<module>\u001b[0;34m\u001b[0m\n\u001b[1;32m      1\u001b[0m \u001b[0mxFile\u001b[0m \u001b[0;34m=\u001b[0m \u001b[0mxr\u001b[0m\u001b[0;34m.\u001b[0m\u001b[0mopen_dataset\u001b[0m\u001b[0;34m(\u001b[0m\u001b[0;34m'http://engaging-opendap.mit.edu:8080/thredds/dodsC/las/id-a1d60eba44/data_usr_local_tomcat_content_cbiomes_20190510_20_darwin_v0.2_cs510_darwin_v0.2_cs510_nutrients.nc.jnl'\u001b[0m\u001b[0;34m)\u001b[0m\u001b[0;34m\u001b[0m\u001b[0;34m\u001b[0m\u001b[0m\n\u001b[0;32m----> 2\u001b[0;31m \u001b[0mdf\u001b[0m \u001b[0;34m=\u001b[0m \u001b[0mxFile\u001b[0m\u001b[0;34m.\u001b[0m\u001b[0mto_dataframe\u001b[0m\u001b[0;34m(\u001b[0m\u001b[0;34m)\u001b[0m\u001b[0;34m\u001b[0m\u001b[0;34m\u001b[0m\u001b[0m\n\u001b[0m",
      "\u001b[0;32m/anaconda3/lib/python3.7/site-packages/xarray/core/dataset.py\u001b[0m in \u001b[0;36mto_dataframe\u001b[0;34m(self)\u001b[0m\n\u001b[1;32m   3335\u001b[0m         \u001b[0mthis\u001b[0m \u001b[0mdataset\u001b[0m\u001b[0;31m'\u001b[0m\u001b[0ms\u001b[0m \u001b[0mindices\u001b[0m\u001b[0;34m.\u001b[0m\u001b[0;34m\u001b[0m\u001b[0;34m\u001b[0m\u001b[0m\n\u001b[1;32m   3336\u001b[0m         \"\"\"\n\u001b[0;32m-> 3337\u001b[0;31m         \u001b[0;32mreturn\u001b[0m \u001b[0mself\u001b[0m\u001b[0;34m.\u001b[0m\u001b[0m_to_dataframe\u001b[0m\u001b[0;34m(\u001b[0m\u001b[0mself\u001b[0m\u001b[0;34m.\u001b[0m\u001b[0mdims\u001b[0m\u001b[0;34m)\u001b[0m\u001b[0;34m\u001b[0m\u001b[0;34m\u001b[0m\u001b[0m\n\u001b[0m\u001b[1;32m   3338\u001b[0m \u001b[0;34m\u001b[0m\u001b[0m\n\u001b[1;32m   3339\u001b[0m     \u001b[0;34m@\u001b[0m\u001b[0mclassmethod\u001b[0m\u001b[0;34m\u001b[0m\u001b[0;34m\u001b[0m\u001b[0m\n",
      "\u001b[0;32m/anaconda3/lib/python3.7/site-packages/xarray/core/dataset.py\u001b[0m in \u001b[0;36m_to_dataframe\u001b[0;34m(self, ordered_dims)\u001b[0m\n\u001b[1;32m   3324\u001b[0m         \u001b[0mcolumns\u001b[0m \u001b[0;34m=\u001b[0m \u001b[0;34m[\u001b[0m\u001b[0mk\u001b[0m \u001b[0;32mfor\u001b[0m \u001b[0mk\u001b[0m \u001b[0;32min\u001b[0m \u001b[0mself\u001b[0m\u001b[0;34m.\u001b[0m\u001b[0mvariables\u001b[0m \u001b[0;32mif\u001b[0m \u001b[0mk\u001b[0m \u001b[0;32mnot\u001b[0m \u001b[0;32min\u001b[0m \u001b[0mself\u001b[0m\u001b[0;34m.\u001b[0m\u001b[0mdims\u001b[0m\u001b[0;34m]\u001b[0m\u001b[0;34m\u001b[0m\u001b[0;34m\u001b[0m\u001b[0m\n\u001b[1;32m   3325\u001b[0m         data = [self._variables[k].set_dims(ordered_dims).values.reshape(-1)\n\u001b[0;32m-> 3326\u001b[0;31m                 for k in columns]\n\u001b[0m\u001b[1;32m   3327\u001b[0m         \u001b[0mindex\u001b[0m \u001b[0;34m=\u001b[0m \u001b[0mself\u001b[0m\u001b[0;34m.\u001b[0m\u001b[0mcoords\u001b[0m\u001b[0;34m.\u001b[0m\u001b[0mto_index\u001b[0m\u001b[0;34m(\u001b[0m\u001b[0mordered_dims\u001b[0m\u001b[0;34m)\u001b[0m\u001b[0;34m\u001b[0m\u001b[0;34m\u001b[0m\u001b[0m\n\u001b[1;32m   3328\u001b[0m         \u001b[0;32mreturn\u001b[0m \u001b[0mpd\u001b[0m\u001b[0;34m.\u001b[0m\u001b[0mDataFrame\u001b[0m\u001b[0;34m(\u001b[0m\u001b[0mOrderedDict\u001b[0m\u001b[0;34m(\u001b[0m\u001b[0mzip\u001b[0m\u001b[0;34m(\u001b[0m\u001b[0mcolumns\u001b[0m\u001b[0;34m,\u001b[0m \u001b[0mdata\u001b[0m\u001b[0;34m)\u001b[0m\u001b[0;34m)\u001b[0m\u001b[0;34m,\u001b[0m \u001b[0mindex\u001b[0m\u001b[0;34m=\u001b[0m\u001b[0mindex\u001b[0m\u001b[0;34m)\u001b[0m\u001b[0;34m\u001b[0m\u001b[0;34m\u001b[0m\u001b[0m\n",
      "\u001b[0;32m/anaconda3/lib/python3.7/site-packages/xarray/core/dataset.py\u001b[0m in \u001b[0;36m<listcomp>\u001b[0;34m(.0)\u001b[0m\n\u001b[1;32m   3324\u001b[0m         \u001b[0mcolumns\u001b[0m \u001b[0;34m=\u001b[0m \u001b[0;34m[\u001b[0m\u001b[0mk\u001b[0m \u001b[0;32mfor\u001b[0m \u001b[0mk\u001b[0m \u001b[0;32min\u001b[0m \u001b[0mself\u001b[0m\u001b[0;34m.\u001b[0m\u001b[0mvariables\u001b[0m \u001b[0;32mif\u001b[0m \u001b[0mk\u001b[0m \u001b[0;32mnot\u001b[0m \u001b[0;32min\u001b[0m \u001b[0mself\u001b[0m\u001b[0;34m.\u001b[0m\u001b[0mdims\u001b[0m\u001b[0;34m]\u001b[0m\u001b[0;34m\u001b[0m\u001b[0;34m\u001b[0m\u001b[0m\n\u001b[1;32m   3325\u001b[0m         data = [self._variables[k].set_dims(ordered_dims).values.reshape(-1)\n\u001b[0;32m-> 3326\u001b[0;31m                 for k in columns]\n\u001b[0m\u001b[1;32m   3327\u001b[0m         \u001b[0mindex\u001b[0m \u001b[0;34m=\u001b[0m \u001b[0mself\u001b[0m\u001b[0;34m.\u001b[0m\u001b[0mcoords\u001b[0m\u001b[0;34m.\u001b[0m\u001b[0mto_index\u001b[0m\u001b[0;34m(\u001b[0m\u001b[0mordered_dims\u001b[0m\u001b[0;34m)\u001b[0m\u001b[0;34m\u001b[0m\u001b[0;34m\u001b[0m\u001b[0m\n\u001b[1;32m   3328\u001b[0m         \u001b[0;32mreturn\u001b[0m \u001b[0mpd\u001b[0m\u001b[0;34m.\u001b[0m\u001b[0mDataFrame\u001b[0m\u001b[0;34m(\u001b[0m\u001b[0mOrderedDict\u001b[0m\u001b[0;34m(\u001b[0m\u001b[0mzip\u001b[0m\u001b[0;34m(\u001b[0m\u001b[0mcolumns\u001b[0m\u001b[0;34m,\u001b[0m \u001b[0mdata\u001b[0m\u001b[0;34m)\u001b[0m\u001b[0;34m)\u001b[0m\u001b[0;34m,\u001b[0m \u001b[0mindex\u001b[0m\u001b[0;34m=\u001b[0m\u001b[0mindex\u001b[0m\u001b[0;34m)\u001b[0m\u001b[0;34m\u001b[0m\u001b[0;34m\u001b[0m\u001b[0m\n",
      "\u001b[0;32m/anaconda3/lib/python3.7/site-packages/xarray/core/variable.py\u001b[0m in \u001b[0;36mset_dims\u001b[0;34m(self, dims, shape)\u001b[0m\n\u001b[1;32m   1198\u001b[0m             \u001b[0;31m# don't use broadcast_to unless necessary so the result remains\u001b[0m\u001b[0;34m\u001b[0m\u001b[0;34m\u001b[0m\u001b[0;34m\u001b[0m\u001b[0m\n\u001b[1;32m   1199\u001b[0m             \u001b[0;31m# writeable if possible\u001b[0m\u001b[0;34m\u001b[0m\u001b[0;34m\u001b[0m\u001b[0;34m\u001b[0m\u001b[0m\n\u001b[0;32m-> 1200\u001b[0;31m             \u001b[0mexpanded_data\u001b[0m \u001b[0;34m=\u001b[0m \u001b[0mself\u001b[0m\u001b[0;34m.\u001b[0m\u001b[0mdata\u001b[0m\u001b[0;34m\u001b[0m\u001b[0;34m\u001b[0m\u001b[0m\n\u001b[0m\u001b[1;32m   1201\u001b[0m         \u001b[0;32melif\u001b[0m \u001b[0mshape\u001b[0m \u001b[0;32mis\u001b[0m \u001b[0;32mnot\u001b[0m \u001b[0;32mNone\u001b[0m\u001b[0;34m:\u001b[0m\u001b[0;34m\u001b[0m\u001b[0;34m\u001b[0m\u001b[0m\n\u001b[1;32m   1202\u001b[0m             \u001b[0mdims_map\u001b[0m \u001b[0;34m=\u001b[0m \u001b[0mdict\u001b[0m\u001b[0;34m(\u001b[0m\u001b[0mzip\u001b[0m\u001b[0;34m(\u001b[0m\u001b[0mdims\u001b[0m\u001b[0;34m,\u001b[0m \u001b[0mshape\u001b[0m\u001b[0;34m)\u001b[0m\u001b[0;34m)\u001b[0m\u001b[0;34m\u001b[0m\u001b[0;34m\u001b[0m\u001b[0m\n",
      "\u001b[0;32m/anaconda3/lib/python3.7/site-packages/xarray/core/variable.py\u001b[0m in \u001b[0;36mdata\u001b[0;34m(self)\u001b[0m\n\u001b[1;32m    295\u001b[0m             \u001b[0;32mreturn\u001b[0m \u001b[0mself\u001b[0m\u001b[0;34m.\u001b[0m\u001b[0m_data\u001b[0m\u001b[0;34m\u001b[0m\u001b[0;34m\u001b[0m\u001b[0m\n\u001b[1;32m    296\u001b[0m         \u001b[0;32melse\u001b[0m\u001b[0;34m:\u001b[0m\u001b[0;34m\u001b[0m\u001b[0;34m\u001b[0m\u001b[0m\n\u001b[0;32m--> 297\u001b[0;31m             \u001b[0;32mreturn\u001b[0m \u001b[0mself\u001b[0m\u001b[0;34m.\u001b[0m\u001b[0mvalues\u001b[0m\u001b[0;34m\u001b[0m\u001b[0;34m\u001b[0m\u001b[0m\n\u001b[0m\u001b[1;32m    298\u001b[0m \u001b[0;34m\u001b[0m\u001b[0m\n\u001b[1;32m    299\u001b[0m     \u001b[0;34m@\u001b[0m\u001b[0mdata\u001b[0m\u001b[0;34m.\u001b[0m\u001b[0msetter\u001b[0m\u001b[0;34m\u001b[0m\u001b[0;34m\u001b[0m\u001b[0m\n",
      "\u001b[0;32m/anaconda3/lib/python3.7/site-packages/xarray/core/variable.py\u001b[0m in \u001b[0;36mvalues\u001b[0;34m(self)\u001b[0m\n\u001b[1;32m    390\u001b[0m     \u001b[0;32mdef\u001b[0m \u001b[0mvalues\u001b[0m\u001b[0;34m(\u001b[0m\u001b[0mself\u001b[0m\u001b[0;34m)\u001b[0m\u001b[0;34m:\u001b[0m\u001b[0;34m\u001b[0m\u001b[0;34m\u001b[0m\u001b[0m\n\u001b[1;32m    391\u001b[0m         \u001b[0;34m\"\"\"The variable's data as a numpy.ndarray\"\"\"\u001b[0m\u001b[0;34m\u001b[0m\u001b[0;34m\u001b[0m\u001b[0m\n\u001b[0;32m--> 392\u001b[0;31m         \u001b[0;32mreturn\u001b[0m \u001b[0m_as_array_or_item\u001b[0m\u001b[0;34m(\u001b[0m\u001b[0mself\u001b[0m\u001b[0;34m.\u001b[0m\u001b[0m_data\u001b[0m\u001b[0;34m)\u001b[0m\u001b[0;34m\u001b[0m\u001b[0;34m\u001b[0m\u001b[0m\n\u001b[0m\u001b[1;32m    393\u001b[0m \u001b[0;34m\u001b[0m\u001b[0m\n\u001b[1;32m    394\u001b[0m     \u001b[0;34m@\u001b[0m\u001b[0mvalues\u001b[0m\u001b[0;34m.\u001b[0m\u001b[0msetter\u001b[0m\u001b[0;34m\u001b[0m\u001b[0;34m\u001b[0m\u001b[0m\n",
      "\u001b[0;32m/anaconda3/lib/python3.7/site-packages/xarray/core/variable.py\u001b[0m in \u001b[0;36m_as_array_or_item\u001b[0;34m(data)\u001b[0m\n\u001b[1;32m    211\u001b[0m     \u001b[0mTODO\u001b[0m\u001b[0;34m:\u001b[0m \u001b[0mremove\u001b[0m \u001b[0mthis\u001b[0m \u001b[0;34m(\u001b[0m\u001b[0mreplace\u001b[0m \u001b[0;32mwith\u001b[0m \u001b[0mnp\u001b[0m\u001b[0;34m.\u001b[0m\u001b[0masarray\u001b[0m\u001b[0;34m)\u001b[0m \u001b[0monce\u001b[0m \u001b[0mthese\u001b[0m \u001b[0missues\u001b[0m \u001b[0mare\u001b[0m \u001b[0mfixed\u001b[0m\u001b[0;34m\u001b[0m\u001b[0;34m\u001b[0m\u001b[0m\n\u001b[1;32m    212\u001b[0m     \"\"\"\n\u001b[0;32m--> 213\u001b[0;31m     \u001b[0mdata\u001b[0m \u001b[0;34m=\u001b[0m \u001b[0mnp\u001b[0m\u001b[0;34m.\u001b[0m\u001b[0masarray\u001b[0m\u001b[0;34m(\u001b[0m\u001b[0mdata\u001b[0m\u001b[0;34m)\u001b[0m\u001b[0;34m\u001b[0m\u001b[0;34m\u001b[0m\u001b[0m\n\u001b[0m\u001b[1;32m    214\u001b[0m     \u001b[0;32mif\u001b[0m \u001b[0mdata\u001b[0m\u001b[0;34m.\u001b[0m\u001b[0mndim\u001b[0m \u001b[0;34m==\u001b[0m \u001b[0;36m0\u001b[0m\u001b[0;34m:\u001b[0m\u001b[0;34m\u001b[0m\u001b[0;34m\u001b[0m\u001b[0m\n\u001b[1;32m    215\u001b[0m         \u001b[0;32mif\u001b[0m \u001b[0mdata\u001b[0m\u001b[0;34m.\u001b[0m\u001b[0mdtype\u001b[0m\u001b[0;34m.\u001b[0m\u001b[0mkind\u001b[0m \u001b[0;34m==\u001b[0m \u001b[0;34m'M'\u001b[0m\u001b[0;34m:\u001b[0m\u001b[0;34m\u001b[0m\u001b[0;34m\u001b[0m\u001b[0m\n",
      "\u001b[0;32m/anaconda3/lib/python3.7/site-packages/numpy/core/numeric.py\u001b[0m in \u001b[0;36masarray\u001b[0;34m(a, dtype, order)\u001b[0m\n\u001b[1;32m    536\u001b[0m \u001b[0;34m\u001b[0m\u001b[0m\n\u001b[1;32m    537\u001b[0m     \"\"\"\n\u001b[0;32m--> 538\u001b[0;31m     \u001b[0;32mreturn\u001b[0m \u001b[0marray\u001b[0m\u001b[0;34m(\u001b[0m\u001b[0ma\u001b[0m\u001b[0;34m,\u001b[0m \u001b[0mdtype\u001b[0m\u001b[0;34m,\u001b[0m \u001b[0mcopy\u001b[0m\u001b[0;34m=\u001b[0m\u001b[0;32mFalse\u001b[0m\u001b[0;34m,\u001b[0m \u001b[0morder\u001b[0m\u001b[0;34m=\u001b[0m\u001b[0morder\u001b[0m\u001b[0;34m)\u001b[0m\u001b[0;34m\u001b[0m\u001b[0;34m\u001b[0m\u001b[0m\n\u001b[0m\u001b[1;32m    539\u001b[0m \u001b[0;34m\u001b[0m\u001b[0m\n\u001b[1;32m    540\u001b[0m \u001b[0;34m\u001b[0m\u001b[0m\n",
      "\u001b[0;32m/anaconda3/lib/python3.7/site-packages/xarray/core/indexing.py\u001b[0m in \u001b[0;36m__array__\u001b[0;34m(self, dtype)\u001b[0m\n\u001b[1;32m    624\u001b[0m \u001b[0;34m\u001b[0m\u001b[0m\n\u001b[1;32m    625\u001b[0m     \u001b[0;32mdef\u001b[0m \u001b[0m__array__\u001b[0m\u001b[0;34m(\u001b[0m\u001b[0mself\u001b[0m\u001b[0;34m,\u001b[0m \u001b[0mdtype\u001b[0m\u001b[0;34m=\u001b[0m\u001b[0;32mNone\u001b[0m\u001b[0;34m)\u001b[0m\u001b[0;34m:\u001b[0m\u001b[0;34m\u001b[0m\u001b[0;34m\u001b[0m\u001b[0m\n\u001b[0;32m--> 626\u001b[0;31m         \u001b[0mself\u001b[0m\u001b[0;34m.\u001b[0m\u001b[0m_ensure_cached\u001b[0m\u001b[0;34m(\u001b[0m\u001b[0;34m)\u001b[0m\u001b[0;34m\u001b[0m\u001b[0;34m\u001b[0m\u001b[0m\n\u001b[0m\u001b[1;32m    627\u001b[0m         \u001b[0;32mreturn\u001b[0m \u001b[0mnp\u001b[0m\u001b[0;34m.\u001b[0m\u001b[0masarray\u001b[0m\u001b[0;34m(\u001b[0m\u001b[0mself\u001b[0m\u001b[0;34m.\u001b[0m\u001b[0marray\u001b[0m\u001b[0;34m,\u001b[0m \u001b[0mdtype\u001b[0m\u001b[0;34m=\u001b[0m\u001b[0mdtype\u001b[0m\u001b[0;34m)\u001b[0m\u001b[0;34m\u001b[0m\u001b[0;34m\u001b[0m\u001b[0m\n\u001b[1;32m    628\u001b[0m \u001b[0;34m\u001b[0m\u001b[0m\n",
      "\u001b[0;32m/anaconda3/lib/python3.7/site-packages/xarray/core/indexing.py\u001b[0m in \u001b[0;36m_ensure_cached\u001b[0;34m(self)\u001b[0m\n\u001b[1;32m    621\u001b[0m     \u001b[0;32mdef\u001b[0m \u001b[0m_ensure_cached\u001b[0m\u001b[0;34m(\u001b[0m\u001b[0mself\u001b[0m\u001b[0;34m)\u001b[0m\u001b[0;34m:\u001b[0m\u001b[0;34m\u001b[0m\u001b[0;34m\u001b[0m\u001b[0m\n\u001b[1;32m    622\u001b[0m         \u001b[0;32mif\u001b[0m \u001b[0;32mnot\u001b[0m \u001b[0misinstance\u001b[0m\u001b[0;34m(\u001b[0m\u001b[0mself\u001b[0m\u001b[0;34m.\u001b[0m\u001b[0marray\u001b[0m\u001b[0;34m,\u001b[0m \u001b[0mNumpyIndexingAdapter\u001b[0m\u001b[0;34m)\u001b[0m\u001b[0;34m:\u001b[0m\u001b[0;34m\u001b[0m\u001b[0;34m\u001b[0m\u001b[0m\n\u001b[0;32m--> 623\u001b[0;31m             \u001b[0mself\u001b[0m\u001b[0;34m.\u001b[0m\u001b[0marray\u001b[0m \u001b[0;34m=\u001b[0m \u001b[0mNumpyIndexingAdapter\u001b[0m\u001b[0;34m(\u001b[0m\u001b[0mnp\u001b[0m\u001b[0;34m.\u001b[0m\u001b[0masarray\u001b[0m\u001b[0;34m(\u001b[0m\u001b[0mself\u001b[0m\u001b[0;34m.\u001b[0m\u001b[0marray\u001b[0m\u001b[0;34m)\u001b[0m\u001b[0;34m)\u001b[0m\u001b[0;34m\u001b[0m\u001b[0;34m\u001b[0m\u001b[0m\n\u001b[0m\u001b[1;32m    624\u001b[0m \u001b[0;34m\u001b[0m\u001b[0m\n\u001b[1;32m    625\u001b[0m     \u001b[0;32mdef\u001b[0m \u001b[0m__array__\u001b[0m\u001b[0;34m(\u001b[0m\u001b[0mself\u001b[0m\u001b[0;34m,\u001b[0m \u001b[0mdtype\u001b[0m\u001b[0;34m=\u001b[0m\u001b[0;32mNone\u001b[0m\u001b[0;34m)\u001b[0m\u001b[0;34m:\u001b[0m\u001b[0;34m\u001b[0m\u001b[0;34m\u001b[0m\u001b[0m\n",
      "\u001b[0;32m/anaconda3/lib/python3.7/site-packages/numpy/core/numeric.py\u001b[0m in \u001b[0;36masarray\u001b[0;34m(a, dtype, order)\u001b[0m\n\u001b[1;32m    536\u001b[0m \u001b[0;34m\u001b[0m\u001b[0m\n\u001b[1;32m    537\u001b[0m     \"\"\"\n\u001b[0;32m--> 538\u001b[0;31m     \u001b[0;32mreturn\u001b[0m \u001b[0marray\u001b[0m\u001b[0;34m(\u001b[0m\u001b[0ma\u001b[0m\u001b[0;34m,\u001b[0m \u001b[0mdtype\u001b[0m\u001b[0;34m,\u001b[0m \u001b[0mcopy\u001b[0m\u001b[0;34m=\u001b[0m\u001b[0;32mFalse\u001b[0m\u001b[0;34m,\u001b[0m \u001b[0morder\u001b[0m\u001b[0;34m=\u001b[0m\u001b[0morder\u001b[0m\u001b[0;34m)\u001b[0m\u001b[0;34m\u001b[0m\u001b[0;34m\u001b[0m\u001b[0m\n\u001b[0m\u001b[1;32m    539\u001b[0m \u001b[0;34m\u001b[0m\u001b[0m\n\u001b[1;32m    540\u001b[0m \u001b[0;34m\u001b[0m\u001b[0m\n",
      "\u001b[0;32m/anaconda3/lib/python3.7/site-packages/xarray/core/indexing.py\u001b[0m in \u001b[0;36m__array__\u001b[0;34m(self, dtype)\u001b[0m\n\u001b[1;32m    602\u001b[0m \u001b[0;34m\u001b[0m\u001b[0m\n\u001b[1;32m    603\u001b[0m     \u001b[0;32mdef\u001b[0m \u001b[0m__array__\u001b[0m\u001b[0;34m(\u001b[0m\u001b[0mself\u001b[0m\u001b[0;34m,\u001b[0m \u001b[0mdtype\u001b[0m\u001b[0;34m=\u001b[0m\u001b[0;32mNone\u001b[0m\u001b[0;34m)\u001b[0m\u001b[0;34m:\u001b[0m\u001b[0;34m\u001b[0m\u001b[0;34m\u001b[0m\u001b[0m\n\u001b[0;32m--> 604\u001b[0;31m         \u001b[0;32mreturn\u001b[0m \u001b[0mnp\u001b[0m\u001b[0;34m.\u001b[0m\u001b[0masarray\u001b[0m\u001b[0;34m(\u001b[0m\u001b[0mself\u001b[0m\u001b[0;34m.\u001b[0m\u001b[0marray\u001b[0m\u001b[0;34m,\u001b[0m \u001b[0mdtype\u001b[0m\u001b[0;34m=\u001b[0m\u001b[0mdtype\u001b[0m\u001b[0;34m)\u001b[0m\u001b[0;34m\u001b[0m\u001b[0;34m\u001b[0m\u001b[0m\n\u001b[0m\u001b[1;32m    605\u001b[0m \u001b[0;34m\u001b[0m\u001b[0m\n\u001b[1;32m    606\u001b[0m     \u001b[0;32mdef\u001b[0m \u001b[0m__getitem__\u001b[0m\u001b[0;34m(\u001b[0m\u001b[0mself\u001b[0m\u001b[0;34m,\u001b[0m \u001b[0mkey\u001b[0m\u001b[0;34m)\u001b[0m\u001b[0;34m:\u001b[0m\u001b[0;34m\u001b[0m\u001b[0;34m\u001b[0m\u001b[0m\n",
      "\u001b[0;32m/anaconda3/lib/python3.7/site-packages/numpy/core/numeric.py\u001b[0m in \u001b[0;36masarray\u001b[0;34m(a, dtype, order)\u001b[0m\n\u001b[1;32m    536\u001b[0m \u001b[0;34m\u001b[0m\u001b[0m\n\u001b[1;32m    537\u001b[0m     \"\"\"\n\u001b[0;32m--> 538\u001b[0;31m     \u001b[0;32mreturn\u001b[0m \u001b[0marray\u001b[0m\u001b[0;34m(\u001b[0m\u001b[0ma\u001b[0m\u001b[0;34m,\u001b[0m \u001b[0mdtype\u001b[0m\u001b[0;34m,\u001b[0m \u001b[0mcopy\u001b[0m\u001b[0;34m=\u001b[0m\u001b[0;32mFalse\u001b[0m\u001b[0;34m,\u001b[0m \u001b[0morder\u001b[0m\u001b[0;34m=\u001b[0m\u001b[0morder\u001b[0m\u001b[0;34m)\u001b[0m\u001b[0;34m\u001b[0m\u001b[0;34m\u001b[0m\u001b[0m\n\u001b[0m\u001b[1;32m    539\u001b[0m \u001b[0;34m\u001b[0m\u001b[0m\n\u001b[1;32m    540\u001b[0m \u001b[0;34m\u001b[0m\u001b[0m\n",
      "\u001b[0;32m/anaconda3/lib/python3.7/site-packages/xarray/core/indexing.py\u001b[0m in \u001b[0;36m__array__\u001b[0;34m(self, dtype)\u001b[0m\n\u001b[1;32m    508\u001b[0m     \u001b[0;32mdef\u001b[0m \u001b[0m__array__\u001b[0m\u001b[0;34m(\u001b[0m\u001b[0mself\u001b[0m\u001b[0;34m,\u001b[0m \u001b[0mdtype\u001b[0m\u001b[0;34m=\u001b[0m\u001b[0;32mNone\u001b[0m\u001b[0;34m)\u001b[0m\u001b[0;34m:\u001b[0m\u001b[0;34m\u001b[0m\u001b[0;34m\u001b[0m\u001b[0m\n\u001b[1;32m    509\u001b[0m         \u001b[0marray\u001b[0m \u001b[0;34m=\u001b[0m \u001b[0mas_indexable\u001b[0m\u001b[0;34m(\u001b[0m\u001b[0mself\u001b[0m\u001b[0;34m.\u001b[0m\u001b[0marray\u001b[0m\u001b[0;34m)\u001b[0m\u001b[0;34m\u001b[0m\u001b[0;34m\u001b[0m\u001b[0m\n\u001b[0;32m--> 510\u001b[0;31m         \u001b[0;32mreturn\u001b[0m \u001b[0mnp\u001b[0m\u001b[0;34m.\u001b[0m\u001b[0masarray\u001b[0m\u001b[0;34m(\u001b[0m\u001b[0marray\u001b[0m\u001b[0;34m[\u001b[0m\u001b[0mself\u001b[0m\u001b[0;34m.\u001b[0m\u001b[0mkey\u001b[0m\u001b[0;34m]\u001b[0m\u001b[0;34m,\u001b[0m \u001b[0mdtype\u001b[0m\u001b[0;34m=\u001b[0m\u001b[0;32mNone\u001b[0m\u001b[0;34m)\u001b[0m\u001b[0;34m\u001b[0m\u001b[0;34m\u001b[0m\u001b[0m\n\u001b[0m\u001b[1;32m    511\u001b[0m \u001b[0;34m\u001b[0m\u001b[0m\n\u001b[1;32m    512\u001b[0m     \u001b[0;32mdef\u001b[0m \u001b[0mtranspose\u001b[0m\u001b[0;34m(\u001b[0m\u001b[0mself\u001b[0m\u001b[0;34m,\u001b[0m \u001b[0morder\u001b[0m\u001b[0;34m)\u001b[0m\u001b[0;34m:\u001b[0m\u001b[0;34m\u001b[0m\u001b[0;34m\u001b[0m\u001b[0m\n",
      "\u001b[0;32m/anaconda3/lib/python3.7/site-packages/xarray/backends/netCDF4_.py\u001b[0m in \u001b[0;36m__getitem__\u001b[0;34m(self, key)\u001b[0m\n\u001b[1;32m     62\u001b[0m         return indexing.explicit_indexing_adapter(\n\u001b[1;32m     63\u001b[0m             \u001b[0mkey\u001b[0m\u001b[0;34m,\u001b[0m \u001b[0mself\u001b[0m\u001b[0;34m.\u001b[0m\u001b[0mshape\u001b[0m\u001b[0;34m,\u001b[0m \u001b[0mindexing\u001b[0m\u001b[0;34m.\u001b[0m\u001b[0mIndexingSupport\u001b[0m\u001b[0;34m.\u001b[0m\u001b[0mOUTER\u001b[0m\u001b[0;34m,\u001b[0m\u001b[0;34m\u001b[0m\u001b[0;34m\u001b[0m\u001b[0m\n\u001b[0;32m---> 64\u001b[0;31m             self._getitem)\n\u001b[0m\u001b[1;32m     65\u001b[0m \u001b[0;34m\u001b[0m\u001b[0m\n\u001b[1;32m     66\u001b[0m     \u001b[0;32mdef\u001b[0m \u001b[0m_getitem\u001b[0m\u001b[0;34m(\u001b[0m\u001b[0mself\u001b[0m\u001b[0;34m,\u001b[0m \u001b[0mkey\u001b[0m\u001b[0;34m)\u001b[0m\u001b[0;34m:\u001b[0m\u001b[0;34m\u001b[0m\u001b[0;34m\u001b[0m\u001b[0m\n",
      "\u001b[0;32m/anaconda3/lib/python3.7/site-packages/xarray/core/indexing.py\u001b[0m in \u001b[0;36mexplicit_indexing_adapter\u001b[0;34m(key, shape, indexing_support, raw_indexing_method)\u001b[0m\n\u001b[1;32m    776\u001b[0m     \"\"\"\n\u001b[1;32m    777\u001b[0m     \u001b[0mraw_key\u001b[0m\u001b[0;34m,\u001b[0m \u001b[0mnumpy_indices\u001b[0m \u001b[0;34m=\u001b[0m \u001b[0mdecompose_indexer\u001b[0m\u001b[0;34m(\u001b[0m\u001b[0mkey\u001b[0m\u001b[0;34m,\u001b[0m \u001b[0mshape\u001b[0m\u001b[0;34m,\u001b[0m \u001b[0mindexing_support\u001b[0m\u001b[0;34m)\u001b[0m\u001b[0;34m\u001b[0m\u001b[0;34m\u001b[0m\u001b[0m\n\u001b[0;32m--> 778\u001b[0;31m     \u001b[0mresult\u001b[0m \u001b[0;34m=\u001b[0m \u001b[0mraw_indexing_method\u001b[0m\u001b[0;34m(\u001b[0m\u001b[0mraw_key\u001b[0m\u001b[0;34m.\u001b[0m\u001b[0mtuple\u001b[0m\u001b[0;34m)\u001b[0m\u001b[0;34m\u001b[0m\u001b[0;34m\u001b[0m\u001b[0m\n\u001b[0m\u001b[1;32m    779\u001b[0m     \u001b[0;32mif\u001b[0m \u001b[0mnumpy_indices\u001b[0m\u001b[0;34m.\u001b[0m\u001b[0mtuple\u001b[0m\u001b[0;34m:\u001b[0m\u001b[0;34m\u001b[0m\u001b[0;34m\u001b[0m\u001b[0m\n\u001b[1;32m    780\u001b[0m         \u001b[0;31m# index the loaded np.ndarray\u001b[0m\u001b[0;34m\u001b[0m\u001b[0;34m\u001b[0m\u001b[0;34m\u001b[0m\u001b[0m\n",
      "\u001b[0;32m/anaconda3/lib/python3.7/site-packages/xarray/backends/netCDF4_.py\u001b[0m in \u001b[0;36m_getitem\u001b[0;34m(self, key)\u001b[0m\n\u001b[1;32m     73\u001b[0m             \u001b[0;32mwith\u001b[0m \u001b[0mself\u001b[0m\u001b[0;34m.\u001b[0m\u001b[0mdatastore\u001b[0m\u001b[0;34m.\u001b[0m\u001b[0mlock\u001b[0m\u001b[0;34m:\u001b[0m\u001b[0;34m\u001b[0m\u001b[0;34m\u001b[0m\u001b[0m\n\u001b[1;32m     74\u001b[0m                 \u001b[0moriginal_array\u001b[0m \u001b[0;34m=\u001b[0m \u001b[0mself\u001b[0m\u001b[0;34m.\u001b[0m\u001b[0mget_array\u001b[0m\u001b[0;34m(\u001b[0m\u001b[0mneeds_lock\u001b[0m\u001b[0;34m=\u001b[0m\u001b[0;32mFalse\u001b[0m\u001b[0;34m)\u001b[0m\u001b[0;34m\u001b[0m\u001b[0;34m\u001b[0m\u001b[0m\n\u001b[0;32m---> 75\u001b[0;31m                 \u001b[0marray\u001b[0m \u001b[0;34m=\u001b[0m \u001b[0mgetitem\u001b[0m\u001b[0;34m(\u001b[0m\u001b[0moriginal_array\u001b[0m\u001b[0;34m,\u001b[0m \u001b[0mkey\u001b[0m\u001b[0;34m)\u001b[0m\u001b[0;34m\u001b[0m\u001b[0;34m\u001b[0m\u001b[0m\n\u001b[0m\u001b[1;32m     76\u001b[0m         \u001b[0;32mexcept\u001b[0m \u001b[0mIndexError\u001b[0m\u001b[0;34m:\u001b[0m\u001b[0;34m\u001b[0m\u001b[0;34m\u001b[0m\u001b[0m\n\u001b[1;32m     77\u001b[0m             \u001b[0;31m# Catch IndexError in netCDF4 and return a more informative\u001b[0m\u001b[0;34m\u001b[0m\u001b[0;34m\u001b[0m\u001b[0;34m\u001b[0m\u001b[0m\n",
      "\u001b[0;32m/anaconda3/lib/python3.7/site-packages/xarray/backends/common.py\u001b[0m in \u001b[0;36mrobust_getitem\u001b[0;34m(array, key, catch, max_retries, initial_delay)\u001b[0m\n\u001b[1;32m     53\u001b[0m     \u001b[0;32mfor\u001b[0m \u001b[0mn\u001b[0m \u001b[0;32min\u001b[0m \u001b[0mrange\u001b[0m\u001b[0;34m(\u001b[0m\u001b[0mmax_retries\u001b[0m \u001b[0;34m+\u001b[0m \u001b[0;36m1\u001b[0m\u001b[0;34m)\u001b[0m\u001b[0;34m:\u001b[0m\u001b[0;34m\u001b[0m\u001b[0;34m\u001b[0m\u001b[0m\n\u001b[1;32m     54\u001b[0m         \u001b[0;32mtry\u001b[0m\u001b[0;34m:\u001b[0m\u001b[0;34m\u001b[0m\u001b[0;34m\u001b[0m\u001b[0m\n\u001b[0;32m---> 55\u001b[0;31m             \u001b[0;32mreturn\u001b[0m \u001b[0marray\u001b[0m\u001b[0;34m[\u001b[0m\u001b[0mkey\u001b[0m\u001b[0;34m]\u001b[0m\u001b[0;34m\u001b[0m\u001b[0;34m\u001b[0m\u001b[0m\n\u001b[0m\u001b[1;32m     56\u001b[0m         \u001b[0;32mexcept\u001b[0m \u001b[0mcatch\u001b[0m\u001b[0;34m:\u001b[0m\u001b[0;34m\u001b[0m\u001b[0;34m\u001b[0m\u001b[0m\n\u001b[1;32m     57\u001b[0m             \u001b[0;32mif\u001b[0m \u001b[0mn\u001b[0m \u001b[0;34m==\u001b[0m \u001b[0mmax_retries\u001b[0m\u001b[0;34m:\u001b[0m\u001b[0;34m\u001b[0m\u001b[0;34m\u001b[0m\u001b[0m\n",
      "\u001b[0;32mnetCDF4/_netCDF4.pyx\u001b[0m in \u001b[0;36mnetCDF4._netCDF4.Variable.__getitem__\u001b[0;34m()\u001b[0m\n",
      "\u001b[0;32mnetCDF4/_netCDF4.pyx\u001b[0m in \u001b[0;36mnetCDF4._netCDF4.Variable._get\u001b[0;34m()\u001b[0m\n",
      "\u001b[0;32mnetCDF4/_netCDF4.pyx\u001b[0m in \u001b[0;36mnetCDF4._netCDF4._ensure_nc_success\u001b[0;34m()\u001b[0m\n",
      "\u001b[0;31mRuntimeError\u001b[0m: NetCDF: Access failure"
     ]
    }
   ],
   "source": [
    "xFile = xr.open_dataset('http://engaging-opendap.mit.edu:8080/thredds/dodsC/las/id-a1d60eba44/data_usr_local_tomcat_content_cbiomes_20190510_20_darwin_v0.2_cs510_darwin_v0.2_cs510_nutrients.nc.jnl')\n",
    "df = xFile.to_dataframe()"
   ]
  },
  {
   "cell_type": "code",
   "execution_count": null,
   "metadata": {},
   "outputs": [],
   "source": []
  }
 ],
 "metadata": {
  "kernelspec": {
   "display_name": "Python 3",
   "language": "python",
   "name": "python3"
  },
  "language_info": {
   "codemirror_mode": {
    "name": "ipython",
    "version": 3
   },
   "file_extension": ".py",
   "mimetype": "text/x-python",
   "name": "python",
   "nbconvert_exporter": "python",
   "pygments_lexer": "ipython3",
   "version": "3.7.3"
  }
 },
 "nbformat": 4,
 "nbformat_minor": 2
}
