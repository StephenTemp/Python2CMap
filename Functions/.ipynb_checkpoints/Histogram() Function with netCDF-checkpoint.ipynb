{
 "cells": [
  {
   "cell_type": "markdown",
   "metadata": {},
   "source": [
    "## Reformat netCDF4 File for a Function Call"
   ]
  },
  {
   "cell_type": "code",
   "execution_count": 18,
   "metadata": {},
   "outputs": [],
   "source": [
    "import opedia\n",
    "import sys\n",
    "import os\n",
    "import numpy as np\n",
    "import pandas as pd\n",
    "import xarray as xr\n",
    "import db\n",
    "import subset\n",
    "import common as com\n",
    "from datetime import datetime, timedelta\n",
    "import time\n",
    "from math import pi\n",
    "from bokeh.plotting import figure, show, output_file\n",
    "from bokeh.layouts import column\n",
    "from bokeh.models import DatetimeTickFormatter\n",
    "from bokeh.palettes import all_palettes\n",
    "from bokeh.models import HoverTool\n",
    "from bokeh.embed import components\n",
    "import jupyterInline as jup\n",
    "if jup.jupytered():\n",
    "    from tqdm import tqdm_notebook as tqdm\n",
    "else:\n",
    "    from tqdm import tqdm"
   ]
  },
  {
   "cell_type": "markdown",
   "metadata": {},
   "source": [
    "### Testing Function "
   ]
  },
  {
   "cell_type": "code",
   "execution_count": 140,
   "metadata": {
    "scrolled": true
   },
   "outputs": [
    {
     "data": {
      "application/vnd.jupyter.widget-view+json": {
       "model_id": "938c7de1a76c43909615e1a42f08a7cd",
       "version_major": 2,
       "version_minor": 0
      },
      "text/plain": [
       "HBox(children=(IntProgress(value=0, description='overall', max=3, style=ProgressStyle(description_width='initi…"
      ]
     },
     "metadata": {},
     "output_type": "display_data"
    },
    {
     "name": "stdout",
     "output_type": "stream",
     "text": [
      "1: sst retrieved (tblSST_AVHRR_OI_NRT).\n",
      "\u001b[0m2: argo_merge_temperature_adj retrieved (tblArgoMerge_REP).\n",
      "\u001b[0m3: argo_merge_salinity_adj retrieved (tblArgoMerge_REP).\n",
      "\u001b[0m"
     ]
    },
    {
     "data": {
      "text/html": [
       "\n",
       "\n",
       "\n",
       "\n",
       "\n",
       "\n",
       "  <div class=\"bk-root\" id=\"bb7ffea3-afdd-4407-83cd-f7c885353d07\" data-root-id=\"9483\"></div>\n"
      ]
     },
     "metadata": {},
     "output_type": "display_data"
    },
    {
     "data": {
      "application/javascript": [
       "(function(root) {\n",
       "  function embed_document(root) {\n",
       "    \n",
       "  var docs_json = {\"151297af-51c3-4ed2-a05e-f454ccc3b058\":{\"roots\":{\"references\":[{\"attributes\":{\"children\":[{\"id\":\"9261\",\"subtype\":\"Figure\",\"type\":\"Plot\"},{\"id\":\"9335\",\"subtype\":\"Figure\",\"type\":\"Plot\"},{\"id\":\"9409\",\"subtype\":\"Figure\",\"type\":\"Plot\"}]},\"id\":\"9483\",\"type\":\"Column\"},{\"attributes\":{\"bottom_units\":\"screen\",\"fill_alpha\":{\"value\":0.5},\"fill_color\":{\"value\":\"lightgrey\"},\"left_units\":\"screen\",\"level\":\"overlay\",\"line_alpha\":{\"value\":1.0},\"line_color\":{\"value\":\"black\"},\"line_dash\":[4,4],\"line_width\":{\"value\":2},\"plot\":null,\"render_mode\":\"css\",\"right_units\":\"screen\",\"top_units\":\"screen\"},\"id\":\"9445\",\"type\":\"BoxAnnotation\"},{\"attributes\":{\"callback\":null,\"overlay\":{\"id\":\"9382\",\"type\":\"PolyAnnotation\"}},\"id\":\"9365\",\"type\":\"PolySelectTool\"},{\"attributes\":{\"callback\":null},\"id\":\"9336\",\"type\":\"DataRange1d\"},{\"attributes\":{\"bottom_units\":\"screen\",\"fill_alpha\":{\"value\":0.5},\"fill_color\":{\"value\":\"lightgrey\"},\"left_units\":\"screen\",\"level\":\"overlay\",\"line_alpha\":{\"value\":1.0},\"line_color\":{\"value\":\"black\"},\"line_dash\":[4,4],\"line_width\":{\"value\":2},\"plot\":null,\"render_mode\":\"css\",\"right_units\":\"screen\",\"top_units\":\"screen\"},\"id\":\"9453\",\"type\":\"BoxAnnotation\"},{\"attributes\":{\"bottom\":{\"value\":0},\"fill_alpha\":{\"value\":0.4},\"fill_color\":{\"value\":\"dodgerblue\"},\"left\":{\"field\":\"left\"},\"line_color\":{\"value\":null},\"right\":{\"field\":\"right\"},\"top\":{\"field\":\"top\"}},\"id\":\"9316\",\"type\":\"Quad\"},{\"attributes\":{\"fill_alpha\":{\"value\":0.5},\"fill_color\":{\"value\":\"lightgrey\"},\"level\":\"overlay\",\"line_alpha\":{\"value\":1.0},\"line_color\":{\"value\":\"black\"},\"line_dash\":[4,4],\"line_width\":{\"value\":2},\"plot\":null,\"xs_units\":\"screen\",\"ys_units\":\"screen\"},\"id\":\"9456\",\"type\":\"PolyAnnotation\"},{\"attributes\":{\"fill_alpha\":{\"value\":0.5},\"fill_color\":{\"value\":\"lightgrey\"},\"level\":\"overlay\",\"line_alpha\":{\"value\":1.0},\"line_color\":{\"value\":\"black\"},\"line_dash\":[4,4],\"line_width\":{\"value\":2},\"plot\":null,\"xs_units\":\"screen\",\"ys_units\":\"screen\"},\"id\":\"9459\",\"type\":\"PolyAnnotation\"},{\"attributes\":{\"callback\":null,\"overlay\":{\"id\":\"9379\",\"type\":\"BoxAnnotation\"}},\"id\":\"9364\",\"type\":\"BoxSelectTool\"},{\"attributes\":{},\"id\":\"9771\",\"type\":\"UnionRenderers\"},{\"attributes\":{\"callback\":null},\"id\":\"9362\",\"type\":\"TapTool\"},{\"attributes\":{\"bottom\":{\"value\":0},\"fill_alpha\":{\"value\":0.7},\"fill_color\":{\"value\":\"firebrick\"},\"left\":{\"field\":\"left\"},\"line_alpha\":{\"value\":0.7},\"line_color\":{\"value\":\"white\"},\"right\":{\"field\":\"right\"},\"top\":{\"field\":\"top\"}},\"id\":\"9466\",\"type\":\"Quad\"},{\"attributes\":{\"callback\":null},\"id\":\"9338\",\"type\":\"DataRange1d\"},{\"attributes\":{},\"id\":\"9340\",\"type\":\"LinearScale\"},{\"attributes\":{},\"id\":\"9342\",\"type\":\"LinearScale\"},{\"attributes\":{\"callback\":null,\"renderers\":[{\"id\":\"9467\",\"type\":\"GlyphRenderer\"}],\"tooltips\":null},\"id\":\"9481\",\"type\":\"HoverTool\"},{\"attributes\":{\"dimension\":1,\"plot\":{\"id\":\"9261\",\"subtype\":\"Figure\",\"type\":\"Plot\"},\"ticker\":{\"id\":\"9276\",\"type\":\"BasicTicker\"}},\"id\":\"9279\",\"type\":\"Grid\"},{\"attributes\":{\"axis_label\":\"argo_merge_temperature_adj [C]\",\"formatter\":{\"id\":\"9400\",\"type\":\"BasicTickFormatter\"},\"plot\":{\"id\":\"9335\",\"subtype\":\"Figure\",\"type\":\"Plot\"},\"ticker\":{\"id\":\"9345\",\"type\":\"BasicTicker\"}},\"id\":\"9344\",\"type\":\"LinearAxis\"},{\"attributes\":{\"label\":{\"value\":\"argo_merge_salinity_adj\"},\"renderers\":[{\"id\":\"9467\",\"type\":\"GlyphRenderer\"}]},\"id\":\"9480\",\"type\":\"LegendItem\"},{\"attributes\":{},\"id\":\"9287\",\"type\":\"ResetTool\"},{\"attributes\":{\"items\":[{\"id\":\"9480\",\"type\":\"LegendItem\"}],\"plot\":{\"id\":\"9409\",\"subtype\":\"Figure\",\"type\":\"Plot\"}},\"id\":\"9479\",\"type\":\"Legend\"},{\"attributes\":{},\"id\":\"9345\",\"type\":\"BasicTicker\"},{\"attributes\":{},\"id\":\"9776\",\"type\":\"Selection\"},{\"attributes\":{\"plot\":{\"id\":\"9335\",\"subtype\":\"Figure\",\"type\":\"Plot\"},\"ticker\":{\"id\":\"9345\",\"type\":\"BasicTicker\"}},\"id\":\"9348\",\"type\":\"Grid\"},{\"attributes\":{},\"id\":\"9289\",\"type\":\"SaveTool\"},{\"attributes\":{\"axis_label\":\"Density\",\"formatter\":{\"id\":\"9398\",\"type\":\"BasicTickFormatter\"},\"plot\":{\"id\":\"9335\",\"subtype\":\"Figure\",\"type\":\"Plot\"},\"ticker\":{\"id\":\"9350\",\"type\":\"BasicTicker\"}},\"id\":\"9349\",\"type\":\"LinearAxis\"},{\"attributes\":{\"callback\":null},\"id\":\"9288\",\"type\":\"TapTool\"},{\"attributes\":{},\"id\":\"9770\",\"type\":\"Selection\"},{\"attributes\":{},\"id\":\"9777\",\"type\":\"UnionRenderers\"},{\"attributes\":{},\"id\":\"9350\",\"type\":\"BasicTicker\"},{\"attributes\":{},\"id\":\"9782\",\"type\":\"Selection\"},{\"attributes\":{\"dimension\":1,\"plot\":{\"id\":\"9335\",\"subtype\":\"Figure\",\"type\":\"Plot\"},\"ticker\":{\"id\":\"9350\",\"type\":\"BasicTicker\"}},\"id\":\"9353\",\"type\":\"Grid\"},{\"attributes\":{},\"id\":\"9285\",\"type\":\"UndoTool\"},{\"attributes\":{},\"id\":\"9783\",\"type\":\"UnionRenderers\"},{\"attributes\":{},\"id\":\"9286\",\"type\":\"RedoTool\"},{\"attributes\":{\"bottom\":{\"value\":0},\"fill_alpha\":{\"value\":0.4},\"fill_color\":{\"value\":\"dodgerblue\"},\"left\":{\"field\":\"left\"},\"line_color\":{\"value\":null},\"right\":{\"field\":\"right\"},\"top\":{\"field\":\"top\"}},\"id\":\"9390\",\"type\":\"Quad\"},{\"attributes\":{\"bottom\":{\"value\":0},\"fill_alpha\":{\"value\":0.1},\"fill_color\":{\"value\":\"#1f77b4\"},\"left\":{\"field\":\"left\"},\"line_alpha\":{\"value\":0.1},\"line_color\":{\"value\":\"#1f77b4\"},\"right\":{\"field\":\"right\"},\"top\":{\"field\":\"top\"}},\"id\":\"9465\",\"type\":\"Quad\"},{\"attributes\":{\"axis_label\":\"Density\",\"formatter\":{\"id\":\"9324\",\"type\":\"BasicTickFormatter\"},\"plot\":{\"id\":\"9261\",\"subtype\":\"Figure\",\"type\":\"Plot\"},\"ticker\":{\"id\":\"9276\",\"type\":\"BasicTicker\"}},\"id\":\"9275\",\"type\":\"LinearAxis\"},{\"attributes\":{\"bottom\":{\"value\":0},\"fill_alpha\":{\"value\":0.4},\"fill_color\":{\"value\":\"dodgerblue\"},\"left\":{\"field\":\"left\"},\"line_color\":{\"value\":null},\"right\":{\"field\":\"right\"},\"top\":{\"field\":\"top\"}},\"id\":\"9464\",\"type\":\"Quad\"},{\"attributes\":{},\"id\":\"9281\",\"type\":\"WheelZoomTool\"},{\"attributes\":{\"active_drag\":\"auto\",\"active_inspect\":\"auto\",\"active_multi\":null,\"active_scroll\":\"auto\",\"active_tap\":\"auto\",\"tools\":[{\"id\":\"9354\",\"type\":\"PanTool\"},{\"id\":\"9355\",\"type\":\"WheelZoomTool\"},{\"id\":\"9356\",\"type\":\"ZoomInTool\"},{\"id\":\"9357\",\"type\":\"ZoomOutTool\"},{\"id\":\"9358\",\"type\":\"BoxZoomTool\"},{\"id\":\"9359\",\"type\":\"UndoTool\"},{\"id\":\"9360\",\"type\":\"RedoTool\"},{\"id\":\"9361\",\"type\":\"ResetTool\"},{\"id\":\"9362\",\"type\":\"TapTool\"},{\"id\":\"9363\",\"type\":\"SaveTool\"},{\"id\":\"9364\",\"type\":\"BoxSelectTool\"},{\"id\":\"9365\",\"type\":\"PolySelectTool\"},{\"id\":\"9366\",\"type\":\"LassoSelectTool\"},{\"id\":\"9407\",\"type\":\"HoverTool\"}]},\"id\":\"9367\",\"type\":\"Toolbar\"},{\"attributes\":{},\"id\":\"9268\",\"type\":\"LinearScale\"},{\"attributes\":{},\"id\":\"9354\",\"type\":\"PanTool\"},{\"attributes\":{},\"id\":\"9355\",\"type\":\"WheelZoomTool\"},{\"attributes\":{},\"id\":\"9280\",\"type\":\"PanTool\"},{\"attributes\":{\"source\":{\"id\":\"9315\",\"type\":\"ColumnDataSource\"}},\"id\":\"9320\",\"type\":\"CDSView\"},{\"attributes\":{},\"id\":\"9356\",\"type\":\"ZoomInTool\"},{\"attributes\":{\"data_source\":{\"id\":\"9315\",\"type\":\"ColumnDataSource\"},\"glyph\":{\"id\":\"9316\",\"type\":\"Quad\"},\"hover_glyph\":{\"id\":\"9318\",\"type\":\"Quad\"},\"muted_glyph\":null,\"nonselection_glyph\":{\"id\":\"9317\",\"type\":\"Quad\"},\"selection_glyph\":null,\"view\":{\"id\":\"9320\",\"type\":\"CDSView\"}},\"id\":\"9319\",\"type\":\"GlyphRenderer\"},{\"attributes\":{},\"id\":\"9282\",\"type\":\"ZoomInTool\"},{\"attributes\":{},\"id\":\"9357\",\"type\":\"ZoomOutTool\"},{\"attributes\":{\"callback\":null,\"overlay\":{\"id\":\"9385\",\"type\":\"PolyAnnotation\"}},\"id\":\"9366\",\"type\":\"LassoSelectTool\"},{\"attributes\":{},\"id\":\"9400\",\"type\":\"BasicTickFormatter\"},{\"attributes\":{},\"id\":\"9360\",\"type\":\"RedoTool\"},{\"attributes\":{\"bottom_units\":\"screen\",\"fill_alpha\":{\"value\":0.5},\"fill_color\":{\"value\":\"lightgrey\"},\"left_units\":\"screen\",\"level\":\"overlay\",\"line_alpha\":{\"value\":1.0},\"line_color\":{\"value\":\"black\"},\"line_dash\":[4,4],\"line_width\":{\"value\":2},\"plot\":null,\"render_mode\":\"css\",\"right_units\":\"screen\",\"top_units\":\"screen\"},\"id\":\"9371\",\"type\":\"BoxAnnotation\"},{\"attributes\":{\"bottom_units\":\"screen\",\"fill_alpha\":{\"value\":0.5},\"fill_color\":{\"value\":\"lightgrey\"},\"left_units\":\"screen\",\"level\":\"overlay\",\"line_alpha\":{\"value\":1.0},\"line_color\":{\"value\":\"black\"},\"line_dash\":[4,4],\"line_width\":{\"value\":2},\"plot\":null,\"render_mode\":\"css\",\"right_units\":\"screen\",\"top_units\":\"screen\"},\"id\":\"9379\",\"type\":\"BoxAnnotation\"},{\"attributes\":{\"fill_alpha\":{\"value\":0.5},\"fill_color\":{\"value\":\"lightgrey\"},\"level\":\"overlay\",\"line_alpha\":{\"value\":1.0},\"line_color\":{\"value\":\"black\"},\"line_dash\":[4,4],\"line_width\":{\"value\":2},\"plot\":null,\"xs_units\":\"screen\",\"ys_units\":\"screen\"},\"id\":\"9382\",\"type\":\"PolyAnnotation\"},{\"attributes\":{\"fill_alpha\":{\"value\":0.5},\"fill_color\":{\"value\":\"lightgrey\"},\"level\":\"overlay\",\"line_alpha\":{\"value\":1.0},\"line_color\":{\"value\":\"black\"},\"line_dash\":[4,4],\"line_width\":{\"value\":2},\"plot\":null,\"xs_units\":\"screen\",\"ys_units\":\"screen\"},\"id\":\"9385\",\"type\":\"PolyAnnotation\"},{\"attributes\":{\"plot\":{\"id\":\"9261\",\"subtype\":\"Figure\",\"type\":\"Plot\"},\"ticker\":{\"id\":\"9271\",\"type\":\"BasicTicker\"}},\"id\":\"9274\",\"type\":\"Grid\"},{\"attributes\":{\"items\":[{\"id\":\"9406\",\"type\":\"LegendItem\"}],\"plot\":{\"id\":\"9335\",\"subtype\":\"Figure\",\"type\":\"Plot\"}},\"id\":\"9405\",\"type\":\"Legend\"},{\"attributes\":{},\"id\":\"9363\",\"type\":\"SaveTool\"},{\"attributes\":{},\"id\":\"9398\",\"type\":\"BasicTickFormatter\"},{\"attributes\":{\"plot\":null,\"text\":\"\"},\"id\":\"9395\",\"type\":\"Title\"},{\"attributes\":{\"overlay\":{\"id\":\"9297\",\"type\":\"BoxAnnotation\"}},\"id\":\"9284\",\"type\":\"BoxZoomTool\"},{\"attributes\":{\"axis_label\":\"sst [C]\",\"formatter\":{\"id\":\"9326\",\"type\":\"BasicTickFormatter\"},\"plot\":{\"id\":\"9261\",\"subtype\":\"Figure\",\"type\":\"Plot\"},\"ticker\":{\"id\":\"9271\",\"type\":\"BasicTicker\"}},\"id\":\"9270\",\"type\":\"LinearAxis\"},{\"attributes\":{\"source\":{\"id\":\"9389\",\"type\":\"ColumnDataSource\"}},\"id\":\"9394\",\"type\":\"CDSView\"},{\"attributes\":{\"callback\":null},\"id\":\"9264\",\"type\":\"DataRange1d\"},{\"attributes\":{\"data_source\":{\"id\":\"9389\",\"type\":\"ColumnDataSource\"},\"glyph\":{\"id\":\"9390\",\"type\":\"Quad\"},\"hover_glyph\":{\"id\":\"9392\",\"type\":\"Quad\"},\"muted_glyph\":null,\"nonselection_glyph\":{\"id\":\"9391\",\"type\":\"Quad\"},\"selection_glyph\":null,\"view\":{\"id\":\"9394\",\"type\":\"CDSView\"}},\"id\":\"9393\",\"type\":\"GlyphRenderer\"},{\"attributes\":{},\"id\":\"9283\",\"type\":\"ZoomOutTool\"},{\"attributes\":{\"bottom\":{\"value\":0},\"fill_alpha\":{\"value\":0.7},\"fill_color\":{\"value\":\"firebrick\"},\"left\":{\"field\":\"left\"},\"line_alpha\":{\"value\":0.7},\"line_color\":{\"value\":\"white\"},\"right\":{\"field\":\"right\"},\"top\":{\"field\":\"top\"}},\"id\":\"9392\",\"type\":\"Quad\"},{\"attributes\":{\"bottom\":{\"value\":0},\"fill_alpha\":{\"value\":0.1},\"fill_color\":{\"value\":\"#1f77b4\"},\"left\":{\"field\":\"left\"},\"line_alpha\":{\"value\":0.1},\"line_color\":{\"value\":\"#1f77b4\"},\"right\":{\"field\":\"right\"},\"top\":{\"field\":\"top\"}},\"id\":\"9391\",\"type\":\"Quad\"},{\"attributes\":{\"fill_alpha\":{\"value\":0.5},\"fill_color\":{\"value\":\"lightgrey\"},\"level\":\"overlay\",\"line_alpha\":{\"value\":1.0},\"line_color\":{\"value\":\"black\"},\"line_dash\":[4,4],\"line_width\":{\"value\":2},\"plot\":null,\"xs_units\":\"screen\",\"ys_units\":\"screen\"},\"id\":\"9308\",\"type\":\"PolyAnnotation\"},{\"attributes\":{\"label\":{\"value\":\"argo_merge_temperature_adj\"},\"renderers\":[{\"id\":\"9393\",\"type\":\"GlyphRenderer\"}]},\"id\":\"9406\",\"type\":\"LegendItem\"},{\"attributes\":{\"overlay\":{\"id\":\"9371\",\"type\":\"BoxAnnotation\"}},\"id\":\"9358\",\"type\":\"BoxZoomTool\"},{\"attributes\":{\"bottom_units\":\"screen\",\"fill_alpha\":{\"value\":0.5},\"fill_color\":{\"value\":\"lightgrey\"},\"left_units\":\"screen\",\"level\":\"overlay\",\"line_alpha\":{\"value\":1.0},\"line_color\":{\"value\":\"black\"},\"line_dash\":[4,4],\"line_width\":{\"value\":2},\"plot\":null,\"render_mode\":\"css\",\"right_units\":\"screen\",\"top_units\":\"screen\"},\"id\":\"9305\",\"type\":\"BoxAnnotation\"},{\"attributes\":{\"callback\":null,\"renderers\":[{\"id\":\"9393\",\"type\":\"GlyphRenderer\"}],\"tooltips\":null},\"id\":\"9407\",\"type\":\"HoverTool\"},{\"attributes\":{\"callback\":null},\"id\":\"9262\",\"type\":\"DataRange1d\"},{\"attributes\":{\"callback\":null},\"id\":\"9410\",\"type\":\"DataRange1d\"},{\"attributes\":{},\"id\":\"9472\",\"type\":\"BasicTickFormatter\"},{\"attributes\":{\"below\":[{\"id\":\"9418\",\"type\":\"LinearAxis\"}],\"left\":[{\"id\":\"9423\",\"type\":\"LinearAxis\"}],\"plot_height\":400,\"plot_width\":800,\"renderers\":[{\"id\":\"9418\",\"type\":\"LinearAxis\"},{\"id\":\"9422\",\"type\":\"Grid\"},{\"id\":\"9423\",\"type\":\"LinearAxis\"},{\"id\":\"9427\",\"type\":\"Grid\"},{\"id\":\"9445\",\"type\":\"BoxAnnotation\"},{\"id\":\"9453\",\"type\":\"BoxAnnotation\"},{\"id\":\"9456\",\"type\":\"PolyAnnotation\"},{\"id\":\"9459\",\"type\":\"PolyAnnotation\"},{\"id\":\"9479\",\"type\":\"Legend\"},{\"id\":\"9467\",\"type\":\"GlyphRenderer\"}],\"title\":{\"id\":\"9469\",\"type\":\"Title\"},\"toolbar\":{\"id\":\"9441\",\"type\":\"Toolbar\"},\"toolbar_location\":\"above\",\"x_range\":{\"id\":\"9410\",\"type\":\"DataRange1d\"},\"x_scale\":{\"id\":\"9414\",\"type\":\"LinearScale\"},\"y_range\":{\"id\":\"9412\",\"type\":\"DataRange1d\"},\"y_scale\":{\"id\":\"9416\",\"type\":\"LinearScale\"}},\"id\":\"9409\",\"subtype\":\"Figure\",\"type\":\"Plot\"},{\"attributes\":{\"callback\":null,\"data\":{\"left\":{\"__ndarray__\":\"mAQAIIPABUBWMzPDXWgJQBViZmY4EA1AasjMhAlcEEDJX2bW9i8SQCj3/yfkAxRAiI6ZedHXFUDnJTPLvqsXQEa9zBysfxlApVRmbplTG0AE7P+/hicdQGSDmRF0+x5AYo2ZsbBnIEARWWZap1EhQMEkMwOeOyJAcPD/q5QlI0AgvMxUiw8kQNCHmf2B+SRAf1NmpnjjJUAvHzNPb80mQN7q//dltydAjrbMoFyhKEA+gplJU4spQO1NZvJJdSpAnRkzm0BfK0BN5f9DN0ksQPywzOwtMy1ArHyZlSQdLkBcSGY+GwcvQAsUM+cR8S9A3u//R4RtMEC1VWacf+IwQI27zPB6VzFAZSEzRXbMMUA8h5mZcUEyQBTt/+1stjJA7FJmQmgrM0DEuMyWY6AzQJweM+teFTRAdISZP1qKNEBL6v+TVf80QCNQZuhQdDVA+7XMPEzpNUDTGzORR142QKuBmeVC0zZAg+f/OT5IN0BaTWaOOb03QDKzzOI0MjhAChkzNzCnOEDifpmLKxw5QA==\",\"dtype\":\"float64\",\"shape\":[50]},\"right\":{\"__ndarray__\":\"VjMzw11oCUAVYmZmOBANQGrIzIQJXBBAyV9m1vYvEkAo9/8n5AMUQIiOmXnR1xVA5yUzy76rF0BGvcwcrH8ZQKVUZm6ZUxtABOz/v4YnHUBkg5kRdPseQGKNmbGwZyBAEVlmWqdRIUDBJDMDnjsiQHDw/6uUJSNAILzMVIsPJEDQh5n9gfkkQH9TZqZ44yVALx8zT2/NJkDe6v/3ZbcnQI62zKBcoShAPoKZSVOLKUDtTWbySXUqQJ0ZM5tAXytATeX/QzdJLED8sMzsLTMtQKx8mZUkHS5AXEhmPhsHL0ALFDPnEfEvQN7v/0eEbTBAtVVmnH/iMECNu8zwelcxQGUhM0V2zDFAPIeZmXFBMkAU7f/tbLYyQOxSZkJoKzNAxLjMlmOgM0CcHjPrXhU0QHSEmT9aijRAS+r/k1X/NEAjUGboUHQ1QPu1zDxM6TVA0xszkUdeNkCrgZnlQtM2QIPn/zk+SDdAWk1mjjm9N0Ays8ziNDI4QAoZMzcwpzhA4n6ZiyscOUC65P/fJpE5QA==\",\"dtype\":\"float64\",\"shape\":[50]},\"top\":{\"__ndarray__\":\"SjQ0O84PlD9qwyn8pAyQP+gIfCotErc/wK3Nc9SN0T+m6pCofxjPP57FyEYw0cU/bsMp/KQMsD/Arc1z1I2xP5PdwxmMFKo/wK3Nc9SNsT9PQQHKwROpPz80NDvOD6Q/+wh8Ki0Spz8ImHHrAw+jP3fDKfykDKA/nF/sS28NoT+cX+xLbw2hP2pBAcrBE6k/0vuumzkOoj8QFkm5IBacP6tsudpiEZY/GaU+evcSmD8QFkm5IBacP2XDKfykDKA/0vuumzkOkj/m+66bOQ6SP2XDKfykDKA/hd3DGYwUmj8QFkm5IBaMP/6kPnr3Eog/LxZJuSAWjD8ZpT569xKIPxmlPnr3Eog/icMp/KQMkD8ZpT569xKIPxmlPnr3Eog/0vuumzkOkj/S+66bOQ6SPz80NDvOD6Q/LxZJuSAWjD+rbLnaYhGWPz80NDvOD4Q/GaU+evcSiD8/NDQ7zg+kPz80NDvOD5Q/Mphx6wMPoz9lwyn8pAygP5xf7EtvDaE/nF/sS28NoT+U6pCofxi/Pw==\",\"dtype\":\"float64\",\"shape\":[50]}},\"selected\":{\"id\":\"9776\",\"type\":\"Selection\"},\"selection_policy\":{\"id\":\"9777\",\"type\":\"UnionRenderers\"}},\"id\":\"9389\",\"type\":\"ColumnDataSource\"},{\"attributes\":{\"below\":[{\"id\":\"9270\",\"type\":\"LinearAxis\"}],\"left\":[{\"id\":\"9275\",\"type\":\"LinearAxis\"}],\"plot_height\":400,\"plot_width\":800,\"renderers\":[{\"id\":\"9270\",\"type\":\"LinearAxis\"},{\"id\":\"9274\",\"type\":\"Grid\"},{\"id\":\"9275\",\"type\":\"LinearAxis\"},{\"id\":\"9279\",\"type\":\"Grid\"},{\"id\":\"9297\",\"type\":\"BoxAnnotation\"},{\"id\":\"9305\",\"type\":\"BoxAnnotation\"},{\"id\":\"9308\",\"type\":\"PolyAnnotation\"},{\"id\":\"9311\",\"type\":\"PolyAnnotation\"},{\"id\":\"9331\",\"type\":\"Legend\"},{\"id\":\"9319\",\"type\":\"GlyphRenderer\"}],\"title\":{\"id\":\"9321\",\"type\":\"Title\"},\"toolbar\":{\"id\":\"9293\",\"type\":\"Toolbar\"},\"toolbar_location\":\"above\",\"x_range\":{\"id\":\"9262\",\"type\":\"DataRange1d\"},\"x_scale\":{\"id\":\"9266\",\"type\":\"LinearScale\"},\"y_range\":{\"id\":\"9264\",\"type\":\"DataRange1d\"},\"y_scale\":{\"id\":\"9268\",\"type\":\"LinearScale\"}},\"id\":\"9261\",\"subtype\":\"Figure\",\"type\":\"Plot\"},{\"attributes\":{\"plot\":null,\"text\":\"\"},\"id\":\"9469\",\"type\":\"Title\"},{\"attributes\":{\"bottom_units\":\"screen\",\"fill_alpha\":{\"value\":0.5},\"fill_color\":{\"value\":\"lightgrey\"},\"left_units\":\"screen\",\"level\":\"overlay\",\"line_alpha\":{\"value\":1.0},\"line_color\":{\"value\":\"black\"},\"line_dash\":[4,4],\"line_width\":{\"value\":2},\"plot\":null,\"render_mode\":\"css\",\"right_units\":\"screen\",\"top_units\":\"screen\"},\"id\":\"9297\",\"type\":\"BoxAnnotation\"},{\"attributes\":{},\"id\":\"9474\",\"type\":\"BasicTickFormatter\"},{\"attributes\":{\"data_source\":{\"id\":\"9463\",\"type\":\"ColumnDataSource\"},\"glyph\":{\"id\":\"9464\",\"type\":\"Quad\"},\"hover_glyph\":{\"id\":\"9466\",\"type\":\"Quad\"},\"muted_glyph\":null,\"nonselection_glyph\":{\"id\":\"9465\",\"type\":\"Quad\"},\"selection_glyph\":null,\"view\":{\"id\":\"9468\",\"type\":\"CDSView\"}},\"id\":\"9467\",\"type\":\"GlyphRenderer\"},{\"attributes\":{\"below\":[{\"id\":\"9344\",\"type\":\"LinearAxis\"}],\"left\":[{\"id\":\"9349\",\"type\":\"LinearAxis\"}],\"plot_height\":400,\"plot_width\":800,\"renderers\":[{\"id\":\"9344\",\"type\":\"LinearAxis\"},{\"id\":\"9348\",\"type\":\"Grid\"},{\"id\":\"9349\",\"type\":\"LinearAxis\"},{\"id\":\"9353\",\"type\":\"Grid\"},{\"id\":\"9371\",\"type\":\"BoxAnnotation\"},{\"id\":\"9379\",\"type\":\"BoxAnnotation\"},{\"id\":\"9382\",\"type\":\"PolyAnnotation\"},{\"id\":\"9385\",\"type\":\"PolyAnnotation\"},{\"id\":\"9405\",\"type\":\"Legend\"},{\"id\":\"9393\",\"type\":\"GlyphRenderer\"}],\"title\":{\"id\":\"9395\",\"type\":\"Title\"},\"toolbar\":{\"id\":\"9367\",\"type\":\"Toolbar\"},\"toolbar_location\":\"above\",\"x_range\":{\"id\":\"9336\",\"type\":\"DataRange1d\"},\"x_scale\":{\"id\":\"9340\",\"type\":\"LinearScale\"},\"y_range\":{\"id\":\"9338\",\"type\":\"DataRange1d\"},\"y_scale\":{\"id\":\"9342\",\"type\":\"LinearScale\"}},\"id\":\"9335\",\"subtype\":\"Figure\",\"type\":\"Plot\"},{\"attributes\":{\"callback\":null},\"id\":\"9412\",\"type\":\"DataRange1d\"},{\"attributes\":{},\"id\":\"9414\",\"type\":\"LinearScale\"},{\"attributes\":{},\"id\":\"9416\",\"type\":\"LinearScale\"},{\"attributes\":{\"axis_label\":\"argo_merge_salinity_adj [psu]\",\"formatter\":{\"id\":\"9474\",\"type\":\"BasicTickFormatter\"},\"plot\":{\"id\":\"9409\",\"subtype\":\"Figure\",\"type\":\"Plot\"},\"ticker\":{\"id\":\"9419\",\"type\":\"BasicTicker\"}},\"id\":\"9418\",\"type\":\"LinearAxis\"},{\"attributes\":{\"label\":{\"value\":\"sst\"},\"renderers\":[{\"id\":\"9319\",\"type\":\"GlyphRenderer\"}]},\"id\":\"9332\",\"type\":\"LegendItem\"},{\"attributes\":{},\"id\":\"9324\",\"type\":\"BasicTickFormatter\"},{\"attributes\":{},\"id\":\"9419\",\"type\":\"BasicTicker\"},{\"attributes\":{},\"id\":\"9266\",\"type\":\"LinearScale\"},{\"attributes\":{\"callback\":null,\"overlay\":{\"id\":\"9311\",\"type\":\"PolyAnnotation\"}},\"id\":\"9292\",\"type\":\"LassoSelectTool\"},{\"attributes\":{\"plot\":{\"id\":\"9409\",\"subtype\":\"Figure\",\"type\":\"Plot\"},\"ticker\":{\"id\":\"9419\",\"type\":\"BasicTicker\"}},\"id\":\"9422\",\"type\":\"Grid\"},{\"attributes\":{\"axis_label\":\"Density\",\"formatter\":{\"id\":\"9472\",\"type\":\"BasicTickFormatter\"},\"plot\":{\"id\":\"9409\",\"subtype\":\"Figure\",\"type\":\"Plot\"},\"ticker\":{\"id\":\"9424\",\"type\":\"BasicTicker\"}},\"id\":\"9423\",\"type\":\"LinearAxis\"},{\"attributes\":{\"callback\":null,\"data\":{\"left\":{\"__ndarray__\":\"ggQAYOAEQUAVqHB9KAhBQKhL4ZpwC0FAO+9RuLgOQUDOksLVABJBQGA2M/NIFUFA89mjEJEYQUCGfRQu2RtBQBkhhUshH0FArMT1aGkiQUA/aGaGsSVBQNIL16P5KEFAZa9HwUEsQUD3UrjeiS9BQIr2KPzRMkFAHZqZGRo2QUCwPQo3YjlBQEPhelSqPEFA1oTrcfI/QUBpKFyPOkNBQPzLzKyCRkFAjm89yspJQUAhE67nEk1BQLS2HgVbUEFAR1qPIqNTQUDa/f8/61ZBQG2hcF0zWkFAAEXhentdQUCT6FGYw2BBQCaMwrULZEFAuC8z01NnQUBL06Pwm2pBQN52FA7kbUFAcRqFKyxxQUAEvvVIdHRBQJdhZma8d0FAKgXXgwR7QUC9qEehTH5BQE9MuL6UgUFA4u8o3NyEQUB1k5n5JIhBQAg3Chdti0FAm9p6NLWOQUAufutR/ZFBQMEhXG9FlUFAVMXMjI2YQUDmaD2q1ZtBQHkMrscdn0FADLAe5WWiQUCfU48CrqVBQA==\",\"dtype\":\"float64\",\"shape\":[50]},\"right\":{\"__ndarray__\":\"FahwfSgIQUCoS+GacAtBQDvvUbi4DkFAzpLC1QASQUBgNjPzSBVBQPPZoxCRGEFAhn0ULtkbQUAZIYVLIR9BQKzE9WhpIkFAP2hmhrElQUDSC9ej+ShBQGWvR8FBLEFA91K43okvQUCK9ij80TJBQB2amRkaNkFAsD0KN2I5QUBD4XpUqjxBQNaE63HyP0FAaShcjzpDQUD8y8ysgkZBQI5vPcrKSUFAIROu5xJNQUC0th4FW1BBQEdajyKjU0FA2v3/P+tWQUBtoXBdM1pBQABF4Xp7XUFAk+hRmMNgQUAmjMK1C2RBQLgvM9NTZ0FAS9Oj8JtqQUDedhQO5G1BQHEahSsscUFABL71SHR0QUCXYWZmvHdBQCoF14MEe0FAvahHoUx+QUBPTLi+lIFBQOLvKNzchEFAdZOZ+SSIQUAINwoXbYtBQJvaejS1jkFALn7rUf2RQUDBIVxvRZVBQFTFzIyNmEFA5mg9qtWbQUB5DK7HHZ9BQAywHuVlokFAn1OPAq6lQUAy9/8f9qhBQA==\",\"dtype\":\"float64\",\"shape\":[50]},\"top\":{\"__ndarray__\":\"zUZD7RLZFUBpnBSMmwL8P3FWRXsipvg/yemqdU+H9z/18Kp1T4f3P2mcFIybAvw/eBB2aqlJ9T+ByqZZMO3xP8EveobI4+o/YeLjnBRf7z8hfRBwfGj2P9Cj22TWKvQ/8jd6hsjj+j/Qo9tk1ir0P9QAdNyZfAJAgcqmWTDt8T+ByqZZMO3RP8EveobI49o/IX0QcHxo1j/BL3qGyOPqP/ap22TWKuQ/wS96hsjj2j+ByqZZMO2xP4HKplkw7bE/gcqmWTDtsT+ByqZZMO3BP4HKplkw7bE/gcqmWTDtwT+ByqZZMO2xP/fPplkw7cE/gcqmWTDtsT8AAAAAAAAAAIHKplkw7bE/gcqmWTDtsT8AAAAAAAAAAIHKplkw7bE/gcqmWTDtsT/zyt+A9cT5PwAAAAAAAAAAgcqmWTDt0T8hfRBwfGjWP4HKplkw7bE/IX0QcHxo1j/BL3qGyOPaP4HKplkw7eE/811FeyKm+D9xVkV7IqboPyF9EHB8aNY/wS96hsjjyj/BL3qGyOP6Pw==\",\"dtype\":\"float64\",\"shape\":[50]}},\"selected\":{\"id\":\"9782\",\"type\":\"Selection\"},\"selection_policy\":{\"id\":\"9783\",\"type\":\"UnionRenderers\"}},\"id\":\"9463\",\"type\":\"ColumnDataSource\"},{\"attributes\":{},\"id\":\"9424\",\"type\":\"BasicTicker\"},{\"attributes\":{\"dimension\":1,\"plot\":{\"id\":\"9409\",\"subtype\":\"Figure\",\"type\":\"Plot\"},\"ticker\":{\"id\":\"9424\",\"type\":\"BasicTicker\"}},\"id\":\"9427\",\"type\":\"Grid\"},{\"attributes\":{},\"id\":\"9361\",\"type\":\"ResetTool\"},{\"attributes\":{\"source\":{\"id\":\"9463\",\"type\":\"ColumnDataSource\"}},\"id\":\"9468\",\"type\":\"CDSView\"},{\"attributes\":{\"active_drag\":\"auto\",\"active_inspect\":\"auto\",\"active_multi\":null,\"active_scroll\":\"auto\",\"active_tap\":\"auto\",\"tools\":[{\"id\":\"9280\",\"type\":\"PanTool\"},{\"id\":\"9281\",\"type\":\"WheelZoomTool\"},{\"id\":\"9282\",\"type\":\"ZoomInTool\"},{\"id\":\"9283\",\"type\":\"ZoomOutTool\"},{\"id\":\"9284\",\"type\":\"BoxZoomTool\"},{\"id\":\"9285\",\"type\":\"UndoTool\"},{\"id\":\"9286\",\"type\":\"RedoTool\"},{\"id\":\"9287\",\"type\":\"ResetTool\"},{\"id\":\"9288\",\"type\":\"TapTool\"},{\"id\":\"9289\",\"type\":\"SaveTool\"},{\"id\":\"9290\",\"type\":\"BoxSelectTool\"},{\"id\":\"9291\",\"type\":\"PolySelectTool\"},{\"id\":\"9292\",\"type\":\"LassoSelectTool\"},{\"id\":\"9333\",\"type\":\"HoverTool\"}]},\"id\":\"9293\",\"type\":\"Toolbar\"},{\"attributes\":{},\"id\":\"9276\",\"type\":\"BasicTicker\"},{\"attributes\":{\"active_drag\":\"auto\",\"active_inspect\":\"auto\",\"active_multi\":null,\"active_scroll\":\"auto\",\"active_tap\":\"auto\",\"tools\":[{\"id\":\"9428\",\"type\":\"PanTool\"},{\"id\":\"9429\",\"type\":\"WheelZoomTool\"},{\"id\":\"9430\",\"type\":\"ZoomInTool\"},{\"id\":\"9431\",\"type\":\"ZoomOutTool\"},{\"id\":\"9432\",\"type\":\"BoxZoomTool\"},{\"id\":\"9433\",\"type\":\"UndoTool\"},{\"id\":\"9434\",\"type\":\"RedoTool\"},{\"id\":\"9435\",\"type\":\"ResetTool\"},{\"id\":\"9436\",\"type\":\"TapTool\"},{\"id\":\"9437\",\"type\":\"SaveTool\"},{\"id\":\"9438\",\"type\":\"BoxSelectTool\"},{\"id\":\"9439\",\"type\":\"PolySelectTool\"},{\"id\":\"9440\",\"type\":\"LassoSelectTool\"},{\"id\":\"9481\",\"type\":\"HoverTool\"}]},\"id\":\"9441\",\"type\":\"Toolbar\"},{\"attributes\":{\"callback\":null,\"renderers\":[{\"id\":\"9319\",\"type\":\"GlyphRenderer\"}],\"tooltips\":null},\"id\":\"9333\",\"type\":\"HoverTool\"},{\"attributes\":{\"fill_alpha\":{\"value\":0.5},\"fill_color\":{\"value\":\"lightgrey\"},\"level\":\"overlay\",\"line_alpha\":{\"value\":1.0},\"line_color\":{\"value\":\"black\"},\"line_dash\":[4,4],\"line_width\":{\"value\":2},\"plot\":null,\"xs_units\":\"screen\",\"ys_units\":\"screen\"},\"id\":\"9311\",\"type\":\"PolyAnnotation\"},{\"attributes\":{},\"id\":\"9428\",\"type\":\"PanTool\"},{\"attributes\":{},\"id\":\"9429\",\"type\":\"WheelZoomTool\"},{\"attributes\":{\"bottom\":{\"value\":0},\"fill_alpha\":{\"value\":0.1},\"fill_color\":{\"value\":\"#1f77b4\"},\"left\":{\"field\":\"left\"},\"line_alpha\":{\"value\":0.1},\"line_color\":{\"value\":\"#1f77b4\"},\"right\":{\"field\":\"right\"},\"top\":{\"field\":\"top\"}},\"id\":\"9317\",\"type\":\"Quad\"},{\"attributes\":{},\"id\":\"9430\",\"type\":\"ZoomInTool\"},{\"attributes\":{},\"id\":\"9431\",\"type\":\"ZoomOutTool\"},{\"attributes\":{\"overlay\":{\"id\":\"9445\",\"type\":\"BoxAnnotation\"}},\"id\":\"9432\",\"type\":\"BoxZoomTool\"},{\"attributes\":{\"bottom\":{\"value\":0},\"fill_alpha\":{\"value\":0.7},\"fill_color\":{\"value\":\"firebrick\"},\"left\":{\"field\":\"left\"},\"line_alpha\":{\"value\":0.7},\"line_color\":{\"value\":\"white\"},\"right\":{\"field\":\"right\"},\"top\":{\"field\":\"top\"}},\"id\":\"9318\",\"type\":\"Quad\"},{\"attributes\":{},\"id\":\"9433\",\"type\":\"UndoTool\"},{\"attributes\":{\"items\":[{\"id\":\"9332\",\"type\":\"LegendItem\"}],\"plot\":{\"id\":\"9261\",\"subtype\":\"Figure\",\"type\":\"Plot\"}},\"id\":\"9331\",\"type\":\"Legend\"},{\"attributes\":{},\"id\":\"9271\",\"type\":\"BasicTicker\"},{\"attributes\":{},\"id\":\"9434\",\"type\":\"RedoTool\"},{\"attributes\":{\"plot\":null,\"text\":\"\"},\"id\":\"9321\",\"type\":\"Title\"},{\"attributes\":{},\"id\":\"9435\",\"type\":\"ResetTool\"},{\"attributes\":{\"callback\":null,\"overlay\":{\"id\":\"9305\",\"type\":\"BoxAnnotation\"}},\"id\":\"9290\",\"type\":\"BoxSelectTool\"},{\"attributes\":{\"callback\":null},\"id\":\"9436\",\"type\":\"TapTool\"},{\"attributes\":{},\"id\":\"9437\",\"type\":\"SaveTool\"},{\"attributes\":{\"callback\":null,\"data\":{\"left\":{\"__ndarray__\":\"tFwa5bceMUCQ5PEmh2UxQGxsyWhWrDFASPSgqiXzMUAkfHjs9DkyQAAEUC7EgDJA3IsncJPHMkC5E/+xYg4zQJWb1vMxVTNAcSOuNQGcM0BNq4V30OIzQCkzXbmfKTRABbs0+25wNEDhQgw9Prc0QL3K434N/jRAmVK7wNxENUB12pICrIs1QFFiakR70jVALupBhkoZNkAKchnIGWA2QOb58AnppjZAwoHIS7jtNkCeCaCNhzQ3QHqRd89WezdAVhlPESbCN0AyoSZT9Qg4QA4p/pTETzhA6rDV1pOWOEDGOK0YY904QKLAhFoyJDlAfkhcnAFrOUBa0DPe0LE5QDZYCyCg+DlAEuDiYW8/OkDuZ7qjPoY6QMrvkeUNzTpAp3dpJ90TO0CD/0BprFo7QF+HGKt7oTtAOw/w7EroO0AXl8cuGi88QPMen3DpdTxA0KZ2sri8PECsLk70hwM9QIi2JTZXSj1AZD79dyaRPUBAxtS59dc9QBxOrPvEHj5A+NWDPZRlPkDUXVt/Y6w+QA==\",\"dtype\":\"float64\",\"shape\":[50]},\"right\":{\"__ndarray__\":\"kOTxJodlMUBsbMloVqwxQEj0oKol8zFAJHx47PQ5MkAABFAuxIAyQNyLJ3CTxzJAuRP/sWIOM0CVm9bzMVUzQHEjrjUBnDNATauFd9DiM0ApM125nyk0QAW7NPtucDRA4UIMPT63NEC9yuN+Df40QJlSu8DcRDVAddqSAqyLNUBRYmpEe9I1QC7qQYZKGTZACnIZyBlgNkDm+fAJ6aY2QMKByEu47TZAngmgjYc0N0B6kXfPVns3QFYZTxEmwjdAMqEmU/UIOEAOKf6UxE84QOqw1daTljhAxjitGGPdOECiwIRaMiQ5QH5IXJwBazlAWtAz3tCxOUA2WAsgoPg5QBLg4mFvPzpA7me6oz6GOkDK75HlDc06QKd3aSfdEztAg/9AaaxaO0Bfhxire6E7QDsP8OxK6DtAF5fHLhovPEDzHp9w6XU8QNCmdrK4vDxArC5O9IcDPUCItiU2V0o9QGQ+/XcmkT1AQMbUufXXPUAcTqz7xB4+QPjVgz2UZT5A1F1bf2OsPkCw5TLBMvM+QA==\",\"dtype\":\"float64\",\"shape\":[50]},\"top\":{\"__ndarray__\":\"S5MaOxTcYj+IikTRm+5pP4iKRNGb7mk/iIpE0ZvuaT+IikTRm+5pP4iKRNGb7mk/KopE0ZvueT8mhlmc33d9P70z9hRdHIs/VwjPtj2zmz+MsYD6/uCcP5j9BoyEJ6M/VOGSjdrAqD9U4ZKN2sCoP6+/uvlTFKo/tQ0zTBr5rz98FZBVchexPwRVzqjjyKk/OyBYgCujqT8pheA7v6i1P8bsGkJB0bM/NPqUt+h/rj+j3uBC7J22P64r4DSSs7Q/FFcHk7EctD9vyQnE7NC6P12at7q+dcE/tZsQ4DWHwj/DWbndnz/GPzdDiTkpYck/+ymnSsRfyj+F9+Js+lzMPz79Jsct5ck/LKwcZSKbyD8e7nNnuOLEP6ZAt7ORgMA/nJBo8CW5wD+4eN8mOMnCPxFYgPPR67s/1fQwIgw6qj+7C0GL2VqgP9Bt0NLxh58/dPBF7U/DrT/iQLezkYCwP9sa9OpOXaU/QUYbSW7GpD9Lkxo7FNySPx444UkZk5c/4kC3s5GAgD/iQLezkYBwPw==\",\"dtype\":\"float64\",\"shape\":[50]}},\"selected\":{\"id\":\"9770\",\"type\":\"Selection\"},\"selection_policy\":{\"id\":\"9771\",\"type\":\"UnionRenderers\"}},\"id\":\"9315\",\"type\":\"ColumnDataSource\"},{\"attributes\":{},\"id\":\"9359\",\"type\":\"UndoTool\"},{\"attributes\":{\"callback\":null,\"overlay\":{\"id\":\"9308\",\"type\":\"PolyAnnotation\"}},\"id\":\"9291\",\"type\":\"PolySelectTool\"},{\"attributes\":{\"callback\":null,\"overlay\":{\"id\":\"9453\",\"type\":\"BoxAnnotation\"}},\"id\":\"9438\",\"type\":\"BoxSelectTool\"},{\"attributes\":{\"callback\":null,\"overlay\":{\"id\":\"9456\",\"type\":\"PolyAnnotation\"}},\"id\":\"9439\",\"type\":\"PolySelectTool\"},{\"attributes\":{},\"id\":\"9326\",\"type\":\"BasicTickFormatter\"},{\"attributes\":{\"callback\":null,\"overlay\":{\"id\":\"9459\",\"type\":\"PolyAnnotation\"}},\"id\":\"9440\",\"type\":\"LassoSelectTool\"}],\"root_ids\":[\"9483\"]},\"title\":\"Bokeh Application\",\"version\":\"1.0.4\"}};\n",
       "  var render_items = [{\"docid\":\"151297af-51c3-4ed2-a05e-f454ccc3b058\",\"roots\":{\"9483\":\"bb7ffea3-afdd-4407-83cd-f7c885353d07\"}}];\n",
       "  root.Bokeh.embed.embed_items_notebook(docs_json, render_items);\n",
       "\n",
       "  }\n",
       "  if (root.Bokeh !== undefined) {\n",
       "    embed_document(root);\n",
       "  } else {\n",
       "    var attempts = 0;\n",
       "    var timer = setInterval(function(root) {\n",
       "      if (root.Bokeh !== undefined) {\n",
       "        embed_document(root);\n",
       "        clearInterval(timer);\n",
       "      }\n",
       "      attempts++;\n",
       "      if (attempts > 100) {\n",
       "        console.log(\"Bokeh: ERROR: Unable to run BokehJS code because BokehJS library is missing\");\n",
       "        clearInterval(timer);\n",
       "      }\n",
       "    }, 10, root)\n",
       "  }\n",
       "})(window);"
      ],
      "application/vnd.bokehjs_exec.v0+json": ""
     },
     "metadata": {
      "application/vnd.bokehjs_exec.v0+json": {
       "id": "9483"
      }
     },
     "output_type": "display_data"
    }
   ],
   "source": [
    "\n",
    "tables = ['tblSST_AVHRR_OI_NRT', 'tblArgoMerge_REP', 'tblArgoMerge_REP']           # see catalog.csv  for the complete list of tables and variable names\n",
    "variables = ['sst', 'argo_merge_temperature_adj', 'argo_merge_salinity_adj']       # see catalog.csv  for the complete list of tables and variable names\n",
    "startDate = '2016-04-30'\n",
    "endDate = '2016-04-30'\n",
    "lat1, lat2 = 20, 24\n",
    "lon1, lon2 = -170, 150\n",
    "depth1, depth2 = 0, 1500\n",
    "fname = 'DEP'\n",
    "exportDataFlag = False      # True if you you want to download data\n",
    "\n",
    "plotDist(tables, variables, startDate, endDate, lat1, lat2, lon1, lon2, depth1, depth2, fname, exportDataFlag)\n"
   ]
  },
  {
   "cell_type": "code",
   "execution_count": 142,
   "metadata": {},
   "outputs": [
    {
     "data": {
      "application/vnd.jupyter.widget-view+json": {
       "model_id": "bd137274e3e2489390f0b3c695abc5cb",
       "version_major": 2,
       "version_minor": 0
      },
      "text/plain": [
       "HBox(children=(IntProgress(value=0, description='overall', max=1, style=ProgressStyle(description_width='initi…"
      ]
     },
     "metadata": {},
     "output_type": "display_data"
    },
    {
     "data": {
      "text/html": [
       "\n",
       "\n",
       "\n",
       "\n",
       "\n",
       "\n",
       "  <div class=\"bk-root\" id=\"62d7956a-b0ec-430c-b05d-337b8e270067\" data-root-id=\"10533\"></div>\n"
      ]
     },
     "metadata": {},
     "output_type": "display_data"
    },
    {
     "data": {
      "application/javascript": [
       "(function(root) {\n",
       "  function embed_document(root) {\n",
       "    \n",
       "  var docs_json = {\"a654b58f-31f1-40c7-93f0-84bdc81db583\":{\"roots\":{\"references\":[{\"attributes\":{\"children\":[{\"id\":\"10459\",\"subtype\":\"Figure\",\"type\":\"Plot\"}]},\"id\":\"10533\",\"type\":\"Column\"},{\"attributes\":{\"callback\":null},\"id\":\"10462\",\"type\":\"DataRange1d\"},{\"attributes\":{},\"id\":\"10474\",\"type\":\"BasicTicker\"},{\"attributes\":{\"callback\":null,\"overlay\":{\"id\":\"10503\",\"type\":\"BoxAnnotation\"}},\"id\":\"10488\",\"type\":\"BoxSelectTool\"},{\"attributes\":{\"callback\":null,\"data\":{\"left\":{\"__ndarray__\":\"AAAAwD1RZkAzMzMzbf5mQGZmZqacq2dAmpmZGcxYaEDNzMyM+wVpQAAAAAArs2lAMzMzc1pgakBmZmbmiQ1rQJqZmVm5umtAzczMzOhnbEAAAABAGBVtQDMzM7NHwm1AZmZmJndvbkCamZmZphxvQMzMzAzWyW9AAAAAwII7cECamZl5GpJwQDMzMzOy6HBAzczM7Ek/cUBmZmam4ZVxQAAAAGB57HFAmpmZGRFDckAzMzPTqJlyQM3MzIxA8HJAZmZmRthGc0AAAAAAcJ1zQJqZmbkH9HNAMzMzc59KdEDMzMwsN6F0QGZmZubO93RAAAAAoGZOdUCamZlZ/qR1QDMzMxOW+3VAzMzMzC1SdkBmZmaGxah2QAAAAEBd/3ZAmpmZ+fRVd0AzMzOzjKx3QMzMzGwkA3hAZmZmJrxZeEAAAADgU7B4QJqZmZnrBnlAMzMzU4NdeUDMzMwMG7R5QGZmZsayCnpAAAAAgEphekCamZk54rd6QDMzM/N5DntAzMzMrBFle0BmZmZmqbt7QA==\",\"dtype\":\"float64\",\"shape\":[50]},\"right\":{\"__ndarray__\":\"MzMzM23+ZkBmZmamnKtnQJqZmRnMWGhAzczMjPsFaUAAAAAAK7NpQDMzM3NaYGpAZmZm5okNa0CamZlZubprQM3MzMzoZ2xAAAAAQBgVbUAzMzOzR8JtQGZmZiZ3b25AmpmZmaYcb0DMzMwM1slvQAAAAMCCO3BAmpmZeRqScEAzMzMzsuhwQM3MzOxJP3FAZmZmpuGVcUAAAABgeexxQJqZmRkRQ3JAMzMz06iZckDNzMyMQPByQGZmZkbYRnNAAAAAAHCdc0CamZm5B/RzQDMzM3OfSnRAzMzMLDehdEBmZmbmzvd0QAAAAKBmTnVAmpmZWf6kdUAzMzMTlvt1QMzMzMwtUnZAZmZmhsWodkAAAABAXf92QJqZmfn0VXdAMzMzs4ysd0DMzMxsJAN4QGZmZia8WXhAAAAA4FOweECamZmZ6wZ5QDMzM1ODXXlAzMzMDBu0eUBmZmbGsgp6QAAAAIBKYXpAmpmZOeK3ekAzMzPzeQ57QMzMzKwRZXtAZmZmZqm7e0AAAAAgQRJ8QA==\",\"dtype\":\"float64\",\"shape\":[50]},\"top\":{\"__ndarray__\":\"9pduTYsRyD72l25NixHYPhB52EElx2Q/4njkTMP3lT+T6Ny7iz6OP6reQMWlaIM/TE7VnFrsez8vx58yrD54P9Hm5Vb9rXg/mymxH8gFdz8lEkhep1V8P+vOHTP9MHM/LDS+h1ZMcj8WVRMncq1qP5r6n/VD8WQ/Pxgnht9JYD8n9aHhZWFiPwiiW/p8P2U/I/HSA+/bZT9RBG3nmAZkP/11SdrncmQ/IW/rlDOZZz+TeLiGiK5mP47lhSUnZG4/YAg8xQ+McD+P3kebD6NvP6+s2AS9eXE/RVGV/waAcD8rJVLkAnRrP/SHg4y7U2g/TM897plJcT/OoTs/4CZ3PzTZCuDuXoA/TSTTxoaOgj8YIsN8xR97P+k8SwNyMHU/b6h5yffnZT9FUZX/BoBQP7fr9KqtZEE/N3/2EKBvJT8IyV7GYVUdP9c5LD7mzyU/VVBVic1OJD+WOSw+5s8VP8xqHLe8Ews/H32nH5xMET/aDNqnF9IYP5EIPMUPjBA/18TA41kPBT/Sl25NixH4Pg==\",\"dtype\":\"float64\",\"shape\":[50]}},\"selected\":{\"id\":\"10856\",\"type\":\"Selection\"},\"selection_policy\":{\"id\":\"10857\",\"type\":\"UnionRenderers\"}},\"id\":\"10513\",\"type\":\"ColumnDataSource\"},{\"attributes\":{\"callback\":null},\"id\":\"10460\",\"type\":\"DataRange1d\"},{\"attributes\":{\"callback\":null,\"renderers\":[{\"id\":\"10517\",\"type\":\"GlyphRenderer\"}],\"tooltips\":null},\"id\":\"10531\",\"type\":\"HoverTool\"},{\"attributes\":{\"callback\":null},\"id\":\"10486\",\"type\":\"TapTool\"},{\"attributes\":{\"plot\":{\"id\":\"10459\",\"subtype\":\"Figure\",\"type\":\"Plot\"},\"ticker\":{\"id\":\"10469\",\"type\":\"BasicTicker\"}},\"id\":\"10472\",\"type\":\"Grid\"},{\"attributes\":{\"label\":{\"value\":\"O2\"},\"renderers\":[{\"id\":\"10517\",\"type\":\"GlyphRenderer\"}]},\"id\":\"10530\",\"type\":\"LegendItem\"},{\"attributes\":{},\"id\":\"10485\",\"type\":\"ResetTool\"},{\"attributes\":{\"callback\":null,\"overlay\":{\"id\":\"10506\",\"type\":\"PolyAnnotation\"}},\"id\":\"10489\",\"type\":\"PolySelectTool\"},{\"attributes\":{\"items\":[{\"id\":\"10530\",\"type\":\"LegendItem\"}],\"plot\":{\"id\":\"10459\",\"subtype\":\"Figure\",\"type\":\"Plot\"}},\"id\":\"10529\",\"type\":\"Legend\"},{\"attributes\":{\"bottom\":{\"value\":0},\"fill_alpha\":{\"value\":0.4},\"fill_color\":{\"value\":\"dodgerblue\"},\"left\":{\"field\":\"left\"},\"line_color\":{\"value\":null},\"right\":{\"field\":\"right\"},\"top\":{\"field\":\"top\"}},\"id\":\"10514\",\"type\":\"Quad\"},{\"attributes\":{\"bottom\":{\"value\":0},\"fill_alpha\":{\"value\":0.7},\"fill_color\":{\"value\":\"firebrick\"},\"left\":{\"field\":\"left\"},\"line_alpha\":{\"value\":0.7},\"line_color\":{\"value\":\"white\"},\"right\":{\"field\":\"right\"},\"top\":{\"field\":\"top\"}},\"id\":\"10516\",\"type\":\"Quad\"},{\"attributes\":{},\"id\":\"10524\",\"type\":\"BasicTickFormatter\"},{\"attributes\":{\"bottom\":{\"value\":0},\"fill_alpha\":{\"value\":0.1},\"fill_color\":{\"value\":\"#1f77b4\"},\"left\":{\"field\":\"left\"},\"line_alpha\":{\"value\":0.1},\"line_color\":{\"value\":\"#1f77b4\"},\"right\":{\"field\":\"right\"},\"top\":{\"field\":\"top\"}},\"id\":\"10515\",\"type\":\"Quad\"},{\"attributes\":{},\"id\":\"10469\",\"type\":\"BasicTicker\"},{\"attributes\":{},\"id\":\"10522\",\"type\":\"BasicTickFormatter\"},{\"attributes\":{\"axis_label\":\"O2 (mmol O/m^3)\",\"formatter\":{\"id\":\"10524\",\"type\":\"BasicTickFormatter\"},\"plot\":{\"id\":\"10459\",\"subtype\":\"Figure\",\"type\":\"Plot\"},\"ticker\":{\"id\":\"10469\",\"type\":\"BasicTicker\"}},\"id\":\"10468\",\"type\":\"LinearAxis\"},{\"attributes\":{},\"id\":\"10479\",\"type\":\"WheelZoomTool\"},{\"attributes\":{\"plot\":null,\"text\":\"\"},\"id\":\"10519\",\"type\":\"Title\"},{\"attributes\":{},\"id\":\"10487\",\"type\":\"SaveTool\"},{\"attributes\":{\"fill_alpha\":{\"value\":0.5},\"fill_color\":{\"value\":\"lightgrey\"},\"level\":\"overlay\",\"line_alpha\":{\"value\":1.0},\"line_color\":{\"value\":\"black\"},\"line_dash\":[4,4],\"line_width\":{\"value\":2},\"plot\":null,\"xs_units\":\"screen\",\"ys_units\":\"screen\"},\"id\":\"10509\",\"type\":\"PolyAnnotation\"},{\"attributes\":{},\"id\":\"10466\",\"type\":\"LinearScale\"},{\"attributes\":{},\"id\":\"10464\",\"type\":\"LinearScale\"},{\"attributes\":{\"active_drag\":\"auto\",\"active_inspect\":\"auto\",\"active_multi\":null,\"active_scroll\":\"auto\",\"active_tap\":\"auto\",\"tools\":[{\"id\":\"10478\",\"type\":\"PanTool\"},{\"id\":\"10479\",\"type\":\"WheelZoomTool\"},{\"id\":\"10480\",\"type\":\"ZoomInTool\"},{\"id\":\"10481\",\"type\":\"ZoomOutTool\"},{\"id\":\"10482\",\"type\":\"BoxZoomTool\"},{\"id\":\"10483\",\"type\":\"UndoTool\"},{\"id\":\"10484\",\"type\":\"RedoTool\"},{\"id\":\"10485\",\"type\":\"ResetTool\"},{\"id\":\"10486\",\"type\":\"TapTool\"},{\"id\":\"10487\",\"type\":\"SaveTool\"},{\"id\":\"10488\",\"type\":\"BoxSelectTool\"},{\"id\":\"10489\",\"type\":\"PolySelectTool\"},{\"id\":\"10490\",\"type\":\"LassoSelectTool\"},{\"id\":\"10531\",\"type\":\"HoverTool\"}]},\"id\":\"10491\",\"type\":\"Toolbar\"},{\"attributes\":{\"source\":{\"id\":\"10513\",\"type\":\"ColumnDataSource\"}},\"id\":\"10518\",\"type\":\"CDSView\"},{\"attributes\":{\"below\":[{\"id\":\"10468\",\"type\":\"LinearAxis\"}],\"left\":[{\"id\":\"10473\",\"type\":\"LinearAxis\"}],\"plot_height\":400,\"plot_width\":800,\"renderers\":[{\"id\":\"10468\",\"type\":\"LinearAxis\"},{\"id\":\"10472\",\"type\":\"Grid\"},{\"id\":\"10473\",\"type\":\"LinearAxis\"},{\"id\":\"10477\",\"type\":\"Grid\"},{\"id\":\"10495\",\"type\":\"BoxAnnotation\"},{\"id\":\"10503\",\"type\":\"BoxAnnotation\"},{\"id\":\"10506\",\"type\":\"PolyAnnotation\"},{\"id\":\"10509\",\"type\":\"PolyAnnotation\"},{\"id\":\"10529\",\"type\":\"Legend\"},{\"id\":\"10517\",\"type\":\"GlyphRenderer\"}],\"title\":{\"id\":\"10519\",\"type\":\"Title\"},\"toolbar\":{\"id\":\"10491\",\"type\":\"Toolbar\"},\"toolbar_location\":\"above\",\"x_range\":{\"id\":\"10460\",\"type\":\"DataRange1d\"},\"x_scale\":{\"id\":\"10464\",\"type\":\"LinearScale\"},\"y_range\":{\"id\":\"10462\",\"type\":\"DataRange1d\"},\"y_scale\":{\"id\":\"10466\",\"type\":\"LinearScale\"}},\"id\":\"10459\",\"subtype\":\"Figure\",\"type\":\"Plot\"},{\"attributes\":{},\"id\":\"10478\",\"type\":\"PanTool\"},{\"attributes\":{\"fill_alpha\":{\"value\":0.5},\"fill_color\":{\"value\":\"lightgrey\"},\"level\":\"overlay\",\"line_alpha\":{\"value\":1.0},\"line_color\":{\"value\":\"black\"},\"line_dash\":[4,4],\"line_width\":{\"value\":2},\"plot\":null,\"xs_units\":\"screen\",\"ys_units\":\"screen\"},\"id\":\"10506\",\"type\":\"PolyAnnotation\"},{\"attributes\":{},\"id\":\"10481\",\"type\":\"ZoomOutTool\"},{\"attributes\":{\"overlay\":{\"id\":\"10495\",\"type\":\"BoxAnnotation\"}},\"id\":\"10482\",\"type\":\"BoxZoomTool\"},{\"attributes\":{\"bottom_units\":\"screen\",\"fill_alpha\":{\"value\":0.5},\"fill_color\":{\"value\":\"lightgrey\"},\"left_units\":\"screen\",\"level\":\"overlay\",\"line_alpha\":{\"value\":1.0},\"line_color\":{\"value\":\"black\"},\"line_dash\":[4,4],\"line_width\":{\"value\":2},\"plot\":null,\"render_mode\":\"css\",\"right_units\":\"screen\",\"top_units\":\"screen\"},\"id\":\"10503\",\"type\":\"BoxAnnotation\"},{\"attributes\":{},\"id\":\"10856\",\"type\":\"Selection\"},{\"attributes\":{},\"id\":\"10480\",\"type\":\"ZoomInTool\"},{\"attributes\":{},\"id\":\"10484\",\"type\":\"RedoTool\"},{\"attributes\":{\"axis_label\":\"Density\",\"formatter\":{\"id\":\"10522\",\"type\":\"BasicTickFormatter\"},\"plot\":{\"id\":\"10459\",\"subtype\":\"Figure\",\"type\":\"Plot\"},\"ticker\":{\"id\":\"10474\",\"type\":\"BasicTicker\"}},\"id\":\"10473\",\"type\":\"LinearAxis\"},{\"attributes\":{\"bottom_units\":\"screen\",\"fill_alpha\":{\"value\":0.5},\"fill_color\":{\"value\":\"lightgrey\"},\"left_units\":\"screen\",\"level\":\"overlay\",\"line_alpha\":{\"value\":1.0},\"line_color\":{\"value\":\"black\"},\"line_dash\":[4,4],\"line_width\":{\"value\":2},\"plot\":null,\"render_mode\":\"css\",\"right_units\":\"screen\",\"top_units\":\"screen\"},\"id\":\"10495\",\"type\":\"BoxAnnotation\"},{\"attributes\":{\"dimension\":1,\"plot\":{\"id\":\"10459\",\"subtype\":\"Figure\",\"type\":\"Plot\"},\"ticker\":{\"id\":\"10474\",\"type\":\"BasicTicker\"}},\"id\":\"10477\",\"type\":\"Grid\"},{\"attributes\":{\"data_source\":{\"id\":\"10513\",\"type\":\"ColumnDataSource\"},\"glyph\":{\"id\":\"10514\",\"type\":\"Quad\"},\"hover_glyph\":{\"id\":\"10516\",\"type\":\"Quad\"},\"muted_glyph\":null,\"nonselection_glyph\":{\"id\":\"10515\",\"type\":\"Quad\"},\"selection_glyph\":null,\"view\":{\"id\":\"10518\",\"type\":\"CDSView\"}},\"id\":\"10517\",\"type\":\"GlyphRenderer\"},{\"attributes\":{\"callback\":null,\"overlay\":{\"id\":\"10509\",\"type\":\"PolyAnnotation\"}},\"id\":\"10490\",\"type\":\"LassoSelectTool\"},{\"attributes\":{},\"id\":\"10483\",\"type\":\"UndoTool\"},{\"attributes\":{},\"id\":\"10857\",\"type\":\"UnionRenderers\"}],\"root_ids\":[\"10533\"]},\"title\":\"Bokeh Application\",\"version\":\"1.0.4\"}};\n",
       "  var render_items = [{\"docid\":\"a654b58f-31f1-40c7-93f0-84bdc81db583\",\"roots\":{\"10533\":\"62d7956a-b0ec-430c-b05d-337b8e270067\"}}];\n",
       "  root.Bokeh.embed.embed_items_notebook(docs_json, render_items);\n",
       "\n",
       "  }\n",
       "  if (root.Bokeh !== undefined) {\n",
       "    embed_document(root);\n",
       "  } else {\n",
       "    var attempts = 0;\n",
       "    var timer = setInterval(function(root) {\n",
       "      if (root.Bokeh !== undefined) {\n",
       "        embed_document(root);\n",
       "        clearInterval(timer);\n",
       "      }\n",
       "      attempts++;\n",
       "      if (attempts > 100) {\n",
       "        console.log(\"Bokeh: ERROR: Unable to run BokehJS code because BokehJS library is missing\");\n",
       "        clearInterval(timer);\n",
       "      }\n",
       "    }, 10, root)\n",
       "  }\n",
       "})(window);"
      ],
      "application/vnd.bokehjs_exec.v0+json": ""
     },
     "metadata": {
      "application/vnd.bokehjs_exec.v0+json": {
       "id": "10533"
      }
     },
     "output_type": "display_data"
    }
   ],
   "source": [
    "xFile = xr.open_dataset('http://engaging-opendap.mit.edu:8080/thredds/dodsC/las/id-a1d60eba44/data_usr_local_tomcat_content_cbiomes_20190510_20_darwin_v0.2_cs510_darwin_v0.2_cs510_nutrients.nc.jnl')\n",
    "\n",
    "tables = [xFile]           # see catalog.csv  for the complete list of tables and variable names\n",
    "variables = ['O2']       # see catalog.csv  for the complete list of tables and variable names\n",
    "startDate = '2010-04-30'\n",
    "endDate = '2010-04-30'\n",
    "lat1, lat2 = -80, 80\n",
    "lon1, lon2 = -80, 80\n",
    "depth1, depth2 = 0, 10\n",
    "fname = 'DEP'\n",
    "exportDataFlag = False      # True if you you want to download data\n",
    "\n",
    "xarrayPlotDist(tables, variables, startDate, endDate, lat1, lat2, lon1, lon2, depth1, depth2, fname, exportDataFlag)"
   ]
  },
  {
   "cell_type": "markdown",
   "metadata": {},
   "source": [
    "### Original Function"
   ]
  },
  {
   "cell_type": "code",
   "execution_count": 139,
   "metadata": {},
   "outputs": [],
   "source": [
    "def plotDist(tables, variables, startDate, endDate, lat1, lat2, lon1, lon2, depth1, depth2, fname, exportDataFlag, marker='-', msize=30, clr='purple'):\n",
    "    p = []\n",
    "    lw = 2\n",
    "    w = 800\n",
    "    h = 400\n",
    "    TOOLS = 'pan,wheel_zoom,zoom_in,zoom_out,box_zoom, undo,redo,reset,tap,save,box_select,poly_select,lasso_select'\n",
    "    for i in tqdm(range(len(tables)), desc='overall'):\n",
    "        y = subset.spaceTime(tables[i], variables[i], startDate, endDate, lat1, lat2, lon1, lon2, depth1, depth2) \n",
    "        if len(y) < 1:\n",
    "            com.printTQDM('%d: No matching entry found: Table: %s, Variable: %s ' % (i+1, tables[i], variables[i]), err=True )\n",
    "            continue\n",
    "        com.printTQDM('%d: %s retrieved (%s).' % (i+1, variables[i], tables[i]), err=False)\n",
    "        y = y[variables[i]]\n",
    "        \n",
    "        if exportDataFlag:\n",
    "            exportData(y, tables[i], variables[i], startDate, endDate, lat1, lat2, lon1, lon2, depth1, depth2)\n",
    "        try:    \n",
    "            y = y[~np.isnan(y)]     # remove nans\n",
    "        except Exception as e:\n",
    "            continue    \n",
    "        hist, edges = np.histogram(y, density=True, bins=50)\n",
    "        p1 = figure(tools=TOOLS, toolbar_location=\"above\", plot_width=w, plot_height=h)\n",
    "        p1.yaxis.axis_label = 'Density'\n",
    "        p1.xaxis.axis_label = variables[i] + ' [' + db.getVar(tables[i], variables[i]).iloc[0]['Unit'] + ']'\n",
    "        leg = variables[i]\n",
    "        fill_alpha = 0.4   \n",
    "        cr = p1.quad(top=hist, bottom=0, left=edges[:-1], right=edges[1:], fill_color=\"dodgerblue\", line_color=None, hover_fill_color=\"firebrick\", fill_alpha=fill_alpha, hover_alpha=0.7, hover_line_color=\"white\", legend=leg)\n",
    "        p1.add_tools(HoverTool(tooltips=None, renderers=[cr], mode='mouse'))\n",
    "        p.append(p1)\n",
    "    dirPath = 'embed/'\n",
    "    if not os.path.exists(dirPath):\n",
    "        os.makedirs(dirPath)        \n",
    "   # if not inline:      ## if jupyter is not the caller\n",
    "   #     output_file(dirPath + fname + \".html\", title=\"Histogram\")\n",
    "    show(column(p))\n",
    "    return"
   ]
  },
  {
   "cell_type": "markdown",
   "metadata": {},
   "source": [
    "### NetCDF4-Compatible Function"
   ]
  },
  {
   "cell_type": "code",
   "execution_count": 137,
   "metadata": {},
   "outputs": [],
   "source": [
    "def xarrayPlotDist(tables, variables, startDate, endDate, lat1, lat2, lon1, lon2, depth1, depth2, fname, exportDataFlag, marker='-', msize=30, clr='purple'):\n",
    "    p = []\n",
    "    lw = 2\n",
    "    w = 800\n",
    "    h = 400\n",
    "    TOOLS = 'pan,wheel_zoom,zoom_in,zoom_out,box_zoom, undo,redo,reset,tap,save,box_select,poly_select,lasso_select'\n",
    "    for i in tqdm(range(len(tables)), desc='overall'):\n",
    "        \n",
    "        unit = tables[i].variables[variables[i]].attrs['units']\n",
    "        \n",
    "        varData = tables[i].sel(TIME = slice(startDate, endDate), LAT_C = slice(lat1, lat2), LON_C = slice(lon1, lon2), DEP_C = slice(depth1, depth2))\n",
    "        varData = varData.variables[variables[i]][:].values\n",
    "        varData[varData < 0] = float('NaN')\n",
    "\n",
    "        varData = varData.tolist()[0][0]\n",
    "        elems = []\n",
    "        for list in varData:\n",
    "            for item in list:\n",
    "                elems.append(item)\n",
    "        varData = pd.Series(elems).dropna()\n",
    "\n",
    "        if exportDataFlag:\n",
    "            exportData(y, tables[i], variables[i], startDate, endDate, lat1, lat2, lon1, lon2, depth1, depth2)\n",
    "        try:    \n",
    "            carData = varData[~np.isnan(varData)]     # remove nans\n",
    "        except Exception as e:\n",
    "            continue   \n",
    "            \n",
    "        hist, edges = np.histogram(varData, density=True, bins=50)\n",
    "        p1 = figure(tools=TOOLS, toolbar_location=\"above\", plot_width=w, plot_height=h)\n",
    "        p1.yaxis.axis_label = 'Density'\n",
    "        p1.xaxis.axis_label = variables[i] + ' (' +str(unit) + ')'\n",
    "        leg = variables[i]\n",
    "        fill_alpha = 0.4   \n",
    "        cr = p1.quad(top=hist, bottom=0, left=edges[:-1], right=edges[1:], fill_color=\"dodgerblue\", line_color=None, hover_fill_color=\"firebrick\", fill_alpha=fill_alpha, hover_alpha=0.7, hover_line_color=\"white\", legend=leg)\n",
    "        p1.add_tools(HoverTool(tooltips=None, renderers=[cr], mode='mouse'))\n",
    "        p.append(p1)\n",
    "    dirPath = 'embed/'\n",
    "    if not os.path.exists(dirPath):\n",
    "        os.makedirs(dirPath)        \n",
    "   # if not inline:      ## if jupyter is not the caller\n",
    "   #     output_file(dirPath + fname + \".html\", title=\"Histogram\")\n",
    "    show(column(p))\n",
    "    return"
   ]
  },
  {
   "cell_type": "code",
   "execution_count": null,
   "metadata": {},
   "outputs": [],
   "source": []
  }
 ],
 "metadata": {
  "kernelspec": {
   "display_name": "Python 3",
   "language": "python",
   "name": "python3"
  },
  "language_info": {
   "codemirror_mode": {
    "name": "ipython",
    "version": 3
   },
   "file_extension": ".py",
   "mimetype": "text/x-python",
   "name": "python",
   "nbconvert_exporter": "python",
   "pygments_lexer": "ipython3",
   "version": "3.7.3"
  }
 },
 "nbformat": 4,
 "nbformat_minor": 2
}
