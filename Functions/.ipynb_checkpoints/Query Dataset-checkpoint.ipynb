{
 "cells": [
  {
   "cell_type": "markdown",
   "metadata": {},
   "source": [
    "## Query Dataset"
   ]
  },
  {
   "cell_type": "code",
   "execution_count": 2,
   "metadata": {},
   "outputs": [],
   "source": [
    "import sys\n",
    "import os\n",
    "import numpy as np\n",
    "import pandas as pd\n",
    "import xarray as xr"
   ]
  },
  {
   "cell_type": "markdown",
   "metadata": {},
   "source": [
    "### Database (with Description)"
   ]
  },
  {
   "cell_type": "code",
   "execution_count": 79,
   "metadata": {},
   "outputs": [
    {
     "name": "stdout",
     "output_type": "stream",
     "text": [
      "<xarray.Dataset>\n",
      "Dimensions:  (DEP_C: 50, LAT_C: 360, LON_C: 720, TIME: 3000)\n",
      "Coordinates:\n",
      "  * LON_C    (LON_C) float64 -179.8 -179.2 -178.8 -178.2 ... 178.8 179.2 179.8\n",
      "  * TIME     (TIME) object 1992-01-02 12:00:00 ... 2016-08-20 12:00:00\n",
      "  * DEP_C    (DEP_C) float64 5.0 15.0 25.0 ... 5.039e+03 5.461e+03 5.906e+03\n",
      "  * LAT_C    (LAT_C) float64 -89.75 -89.25 -88.75 -88.25 ... 88.75 89.25 89.75\n",
      "Data variables:\n",
      "    FeT      (TIME, DEP_C, LAT_C, LON_C) float32 ...\n",
      "    PO4      (TIME, DEP_C, LAT_C, LON_C) float32 ...\n",
      "    DIN      (TIME, DEP_C, LAT_C, LON_C) float32 ...\n",
      "    SiO2     (TIME, DEP_C, LAT_C, LON_C) float32 ...\n",
      "    O2       (TIME, DEP_C, LAT_C, LON_C) float32 ...\n",
      "Attributes:\n",
      "    Conventions:  COARDS\n"
     ]
    }
   ],
   "source": [
    "database = xr.open_dataset('http://engaging-opendap.mit.edu:8080/thredds/dodsC/las/id-a1d60eba44/data_usr_local_tomcat_content_cbiomes_20190510_20_darwin_v0.2_cs510_darwin_v0.2_cs510_nutrients.nc.jnl')\n",
    "\n",
    "print(database)\n"
   ]
  },
  {
   "cell_type": "markdown",
   "metadata": {},
   "source": [
    "### Fields"
   ]
  },
  {
   "cell_type": "code",
   "execution_count": 34,
   "metadata": {
    "scrolled": false
   },
   "outputs": [
    {
     "name": "stdout",
     "output_type": "stream",
     "text": [
      "Fields: ['FeT', 'PO4', 'DIN', 'SiO2', 'O2']\n",
      "Dimensions: ['DEP_C', 'LAT_C', 'LON_C', 'TIME']\n"
     ]
    }
   ],
   "source": [
    "vars = list(database.keys())\n",
    "print('Fields: ' + str(vars))\n",
    "\n",
    "dims = list(database.dims)\n",
    "print('Dimensions: ' + str(dims))"
   ]
  },
  {
   "cell_type": "markdown",
   "metadata": {},
   "source": [
    "### Field Summary/Description"
   ]
  },
  {
   "cell_type": "code",
   "execution_count": 77,
   "metadata": {},
   "outputs": [
    {
     "name": "stdout",
     "output_type": "stream",
     "text": [
      "O2 concentration Description:\n",
      "Dimensions: ('TIME', 'DEP_C', 'LAT_C', 'LON_C')\n",
      "Units: mmol O/m^3\n",
      "Datatype (infile): FLOAT\n",
      "Datatype (ferret): FLOAT\n",
      "Direction: IJKL\n",
      "Dataset Index: 1\n"
     ]
    }
   ],
   "source": [
    "field = database.variables['O2'] #field to describe\n",
    "\n",
    "print(str(field.attrs['long_name']) + ' Description:')\n",
    "print('Dimensions: ' + str(field.dims))\n",
    "\n",
    "#Attributes \n",
    "print('Units: ' + str(field.attrs['units']))\n",
    "print('Datatype (infile): ' + str(field.attrs['infile_datatype']))\n",
    "print('Datatype (ferret): ' + str(field.attrs['ferret_datatype']))\n",
    "print('Direction: ' + str(field.attrs['direction']))\n",
    "print('Dataset Index: ' + str(field.attrs['dataset_index']))"
   ]
  },
  {
   "cell_type": "code",
   "execution_count": null,
   "metadata": {},
   "outputs": [],
   "source": []
  }
 ],
 "metadata": {
  "kernelspec": {
   "display_name": "Python 3",
   "language": "python",
   "name": "python3"
  },
  "language_info": {
   "codemirror_mode": {
    "name": "ipython",
    "version": 3
   },
   "file_extension": ".py",
   "mimetype": "text/x-python",
   "name": "python",
   "nbconvert_exporter": "python",
   "pygments_lexer": "ipython3",
   "version": "3.7.3"
  }
 },
 "nbformat": 4,
 "nbformat_minor": 2
}
