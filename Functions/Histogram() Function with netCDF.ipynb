{
 "cells": [
  {
   "cell_type": "markdown",
   "metadata": {},
   "source": [
    "## Reformat netCDF4 File for a Function Call"
   ]
  },
  {
   "cell_type": "code",
   "execution_count": 18,
   "metadata": {},
   "outputs": [],
   "source": [
    "import opedia\n",
    "import sys\n",
    "import os\n",
    "import numpy as np\n",
    "import pandas as pd\n",
    "import xarray as xr\n",
    "import db\n",
    "import subset\n",
    "import common as com\n",
    "from datetime import datetime, timedelta\n",
    "import time\n",
    "from math import pi\n",
    "from bokeh.plotting import figure, show, output_file\n",
    "from bokeh.layouts import column\n",
    "from bokeh.models import DatetimeTickFormatter\n",
    "from bokeh.palettes import all_palettes\n",
    "from bokeh.models import HoverTool\n",
    "from bokeh.embed import components\n",
    "import jupyterInline as jup\n",
    "if jup.jupytered():\n",
    "    from tqdm import tqdm_notebook as tqdm\n",
    "else:\n",
    "    from tqdm import tqdm"
   ]
  },
  {
   "cell_type": "markdown",
   "metadata": {},
   "source": [
    "### Testing Function "
   ]
  },
  {
   "cell_type": "code",
   "execution_count": 144,
   "metadata": {
    "scrolled": true
   },
   "outputs": [
    {
     "data": {
      "application/vnd.jupyter.widget-view+json": {
       "model_id": "f4a861784ae143948c953817e3216a27",
       "version_major": 2,
       "version_minor": 0
      },
      "text/plain": [
       "HBox(children=(IntProgress(value=0, description='overall', max=3, style=ProgressStyle(description_width='initi…"
      ]
     },
     "metadata": {},
     "output_type": "display_data"
    },
    {
     "name": "stdout",
     "output_type": "stream",
     "text": [
      "1: sst retrieved (tblSST_AVHRR_OI_NRT).\n",
      "\u001b[0m2: argo_merge_temperature_adj retrieved (tblArgoMerge_REP).\n",
      "\u001b[0m3: argo_merge_salinity_adj retrieved (tblArgoMerge_REP).\n",
      "\u001b[0m"
     ]
    },
    {
     "data": {
      "text/html": [
       "\n",
       "\n",
       "\n",
       "\n",
       "\n",
       "\n",
       "  <div class=\"bk-root\" id=\"79c57f1b-066c-4652-8353-e3a595a06441\" data-root-id=\"11951\"></div>\n"
      ]
     },
     "metadata": {},
     "output_type": "display_data"
    },
    {
     "data": {
      "application/javascript": [
       "(function(root) {\n",
       "  function embed_document(root) {\n",
       "    \n",
       "  var docs_json = {\"e1b431ff-0742-4659-8e11-852af5013c74\":{\"roots\":{\"references\":[{\"attributes\":{\"children\":[{\"id\":\"11729\",\"subtype\":\"Figure\",\"type\":\"Plot\"},{\"id\":\"11803\",\"subtype\":\"Figure\",\"type\":\"Plot\"},{\"id\":\"11877\",\"subtype\":\"Figure\",\"type\":\"Plot\"}]},\"id\":\"11951\",\"type\":\"Column\"},{\"attributes\":{\"bottom_units\":\"screen\",\"fill_alpha\":{\"value\":0.5},\"fill_color\":{\"value\":\"lightgrey\"},\"left_units\":\"screen\",\"level\":\"overlay\",\"line_alpha\":{\"value\":1.0},\"line_color\":{\"value\":\"black\"},\"line_dash\":[4,4],\"line_width\":{\"value\":2},\"plot\":null,\"render_mode\":\"css\",\"right_units\":\"screen\",\"top_units\":\"screen\"},\"id\":\"11773\",\"type\":\"BoxAnnotation\"},{\"attributes\":{\"active_drag\":\"auto\",\"active_inspect\":\"auto\",\"active_multi\":null,\"active_scroll\":\"auto\",\"active_tap\":\"auto\",\"tools\":[{\"id\":\"11896\",\"type\":\"PanTool\"},{\"id\":\"11897\",\"type\":\"WheelZoomTool\"},{\"id\":\"11898\",\"type\":\"ZoomInTool\"},{\"id\":\"11899\",\"type\":\"ZoomOutTool\"},{\"id\":\"11900\",\"type\":\"BoxZoomTool\"},{\"id\":\"11901\",\"type\":\"UndoTool\"},{\"id\":\"11902\",\"type\":\"RedoTool\"},{\"id\":\"11903\",\"type\":\"ResetTool\"},{\"id\":\"11904\",\"type\":\"TapTool\"},{\"id\":\"11905\",\"type\":\"SaveTool\"},{\"id\":\"11906\",\"type\":\"BoxSelectTool\"},{\"id\":\"11907\",\"type\":\"PolySelectTool\"},{\"id\":\"11908\",\"type\":\"LassoSelectTool\"},{\"id\":\"11949\",\"type\":\"HoverTool\"}]},\"id\":\"11909\",\"type\":\"Toolbar\"},{\"attributes\":{\"callback\":null,\"overlay\":{\"id\":\"11850\",\"type\":\"PolyAnnotation\"}},\"id\":\"11833\",\"type\":\"PolySelectTool\"},{\"attributes\":{\"fill_alpha\":{\"value\":0.5},\"fill_color\":{\"value\":\"lightgrey\"},\"level\":\"overlay\",\"line_alpha\":{\"value\":1.0},\"line_color\":{\"value\":\"black\"},\"line_dash\":[4,4],\"line_width\":{\"value\":2},\"plot\":null,\"xs_units\":\"screen\",\"ys_units\":\"screen\"},\"id\":\"11776\",\"type\":\"PolyAnnotation\"},{\"attributes\":{},\"id\":\"11896\",\"type\":\"PanTool\"},{\"attributes\":{\"callback\":null,\"overlay\":{\"id\":\"11853\",\"type\":\"PolyAnnotation\"}},\"id\":\"11834\",\"type\":\"LassoSelectTool\"},{\"attributes\":{\"fill_alpha\":{\"value\":0.5},\"fill_color\":{\"value\":\"lightgrey\"},\"level\":\"overlay\",\"line_alpha\":{\"value\":1.0},\"line_color\":{\"value\":\"black\"},\"line_dash\":[4,4],\"line_width\":{\"value\":2},\"plot\":null,\"xs_units\":\"screen\",\"ys_units\":\"screen\"},\"id\":\"11779\",\"type\":\"PolyAnnotation\"},{\"attributes\":{},\"id\":\"11897\",\"type\":\"WheelZoomTool\"},{\"attributes\":{\"active_drag\":\"auto\",\"active_inspect\":\"auto\",\"active_multi\":null,\"active_scroll\":\"auto\",\"active_tap\":\"auto\",\"tools\":[{\"id\":\"11822\",\"type\":\"PanTool\"},{\"id\":\"11823\",\"type\":\"WheelZoomTool\"},{\"id\":\"11824\",\"type\":\"ZoomInTool\"},{\"id\":\"11825\",\"type\":\"ZoomOutTool\"},{\"id\":\"11826\",\"type\":\"BoxZoomTool\"},{\"id\":\"11827\",\"type\":\"UndoTool\"},{\"id\":\"11828\",\"type\":\"RedoTool\"},{\"id\":\"11829\",\"type\":\"ResetTool\"},{\"id\":\"11830\",\"type\":\"TapTool\"},{\"id\":\"11831\",\"type\":\"SaveTool\"},{\"id\":\"11832\",\"type\":\"BoxSelectTool\"},{\"id\":\"11833\",\"type\":\"PolySelectTool\"},{\"id\":\"11834\",\"type\":\"LassoSelectTool\"},{\"id\":\"11875\",\"type\":\"HoverTool\"}]},\"id\":\"11835\",\"type\":\"Toolbar\"},{\"attributes\":{},\"id\":\"11898\",\"type\":\"ZoomInTool\"},{\"attributes\":{\"data_source\":{\"id\":\"11783\",\"type\":\"ColumnDataSource\"},\"glyph\":{\"id\":\"11784\",\"type\":\"Quad\"},\"hover_glyph\":{\"id\":\"11786\",\"type\":\"Quad\"},\"muted_glyph\":null,\"nonselection_glyph\":{\"id\":\"11785\",\"type\":\"Quad\"},\"selection_glyph\":null,\"view\":{\"id\":\"11788\",\"type\":\"CDSView\"}},\"id\":\"11787\",\"type\":\"GlyphRenderer\"},{\"attributes\":{\"bottom_units\":\"screen\",\"fill_alpha\":{\"value\":0.5},\"fill_color\":{\"value\":\"lightgrey\"},\"left_units\":\"screen\",\"level\":\"overlay\",\"line_alpha\":{\"value\":1.0},\"line_color\":{\"value\":\"black\"},\"line_dash\":[4,4],\"line_width\":{\"value\":2},\"plot\":null,\"render_mode\":\"css\",\"right_units\":\"screen\",\"top_units\":\"screen\"},\"id\":\"11839\",\"type\":\"BoxAnnotation\"},{\"attributes\":{},\"id\":\"11899\",\"type\":\"ZoomOutTool\"},{\"attributes\":{\"bottom_units\":\"screen\",\"fill_alpha\":{\"value\":0.5},\"fill_color\":{\"value\":\"lightgrey\"},\"left_units\":\"screen\",\"level\":\"overlay\",\"line_alpha\":{\"value\":1.0},\"line_color\":{\"value\":\"black\"},\"line_dash\":[4,4],\"line_width\":{\"value\":2},\"plot\":null,\"render_mode\":\"css\",\"right_units\":\"screen\",\"top_units\":\"screen\"},\"id\":\"11847\",\"type\":\"BoxAnnotation\"},{\"attributes\":{\"bottom\":{\"value\":0},\"fill_alpha\":{\"value\":0.7},\"fill_color\":{\"value\":\"firebrick\"},\"left\":{\"field\":\"left\"},\"line_alpha\":{\"value\":0.7},\"line_color\":{\"value\":\"white\"},\"right\":{\"field\":\"right\"},\"top\":{\"field\":\"top\"}},\"id\":\"11786\",\"type\":\"Quad\"},{\"attributes\":{\"bottom\":{\"value\":0},\"fill_alpha\":{\"value\":0.1},\"fill_color\":{\"value\":\"#1f77b4\"},\"left\":{\"field\":\"left\"},\"line_alpha\":{\"value\":0.1},\"line_color\":{\"value\":\"#1f77b4\"},\"right\":{\"field\":\"right\"},\"top\":{\"field\":\"top\"}},\"id\":\"11785\",\"type\":\"Quad\"},{\"attributes\":{\"overlay\":{\"id\":\"11913\",\"type\":\"BoxAnnotation\"}},\"id\":\"11900\",\"type\":\"BoxZoomTool\"},{\"attributes\":{\"fill_alpha\":{\"value\":0.5},\"fill_color\":{\"value\":\"lightgrey\"},\"level\":\"overlay\",\"line_alpha\":{\"value\":1.0},\"line_color\":{\"value\":\"black\"},\"line_dash\":[4,4],\"line_width\":{\"value\":2},\"plot\":null,\"xs_units\":\"screen\",\"ys_units\":\"screen\"},\"id\":\"11850\",\"type\":\"PolyAnnotation\"},{\"attributes\":{\"bottom\":{\"value\":0},\"fill_alpha\":{\"value\":0.7},\"fill_color\":{\"value\":\"firebrick\"},\"left\":{\"field\":\"left\"},\"line_alpha\":{\"value\":0.7},\"line_color\":{\"value\":\"white\"},\"right\":{\"field\":\"right\"},\"top\":{\"field\":\"top\"}},\"id\":\"11934\",\"type\":\"Quad\"},{\"attributes\":{},\"id\":\"11901\",\"type\":\"UndoTool\"},{\"attributes\":{\"fill_alpha\":{\"value\":0.5},\"fill_color\":{\"value\":\"lightgrey\"},\"level\":\"overlay\",\"line_alpha\":{\"value\":1.0},\"line_color\":{\"value\":\"black\"},\"line_dash\":[4,4],\"line_width\":{\"value\":2},\"plot\":null,\"xs_units\":\"screen\",\"ys_units\":\"screen\"},\"id\":\"11853\",\"type\":\"PolyAnnotation\"},{\"attributes\":{},\"id\":\"11902\",\"type\":\"RedoTool\"},{\"attributes\":{\"callback\":null},\"id\":\"11878\",\"type\":\"DataRange1d\"},{\"attributes\":{},\"id\":\"11903\",\"type\":\"ResetTool\"},{\"attributes\":{\"below\":[{\"id\":\"11812\",\"type\":\"LinearAxis\"}],\"left\":[{\"id\":\"11817\",\"type\":\"LinearAxis\"}],\"plot_height\":400,\"plot_width\":800,\"renderers\":[{\"id\":\"11812\",\"type\":\"LinearAxis\"},{\"id\":\"11816\",\"type\":\"Grid\"},{\"id\":\"11817\",\"type\":\"LinearAxis\"},{\"id\":\"11821\",\"type\":\"Grid\"},{\"id\":\"11839\",\"type\":\"BoxAnnotation\"},{\"id\":\"11847\",\"type\":\"BoxAnnotation\"},{\"id\":\"11850\",\"type\":\"PolyAnnotation\"},{\"id\":\"11853\",\"type\":\"PolyAnnotation\"},{\"id\":\"11873\",\"type\":\"Legend\"},{\"id\":\"11861\",\"type\":\"GlyphRenderer\"}],\"title\":{\"id\":\"11863\",\"type\":\"Title\"},\"toolbar\":{\"id\":\"11835\",\"type\":\"Toolbar\"},\"toolbar_location\":\"above\",\"x_range\":{\"id\":\"11804\",\"type\":\"DataRange1d\"},\"x_scale\":{\"id\":\"11808\",\"type\":\"LinearScale\"},\"y_range\":{\"id\":\"11806\",\"type\":\"DataRange1d\"},\"y_scale\":{\"id\":\"11810\",\"type\":\"LinearScale\"}},\"id\":\"11803\",\"subtype\":\"Figure\",\"type\":\"Plot\"},{\"attributes\":{\"callback\":null,\"data\":{\"left\":{\"__ndarray__\":\"Ue3/3/k+OUD8kHCdnkA5QKc04VpDQjlAUthRGOhDOUD9e8LVjEU5QKgfM5MxRzlAU8OjUNZIOUD+ZhQOe0o5QKkKhcsfTDlAVa71iMRNOUAAUmZGaU85QKv11gMOUTlAVplHwbJSOUABPbh+V1Q5QKzgKDz8VTlAV4SZ+aBXOUACKAq3RVk5QK3LenTqWjlAWG/rMY9cOUADE1zvM145QK62zKzYXzlAWVo9an1hOUAE/q0nImM5QK+hHuXGZDlAWkWPomtmOUAG6f9fEGg5QLGMcB21aTlAXDDh2llrOUAH1FGY/mw5QLJ3wlWjbjlAXRszE0hwOUAIv6PQ7HE5QLNiFI6RczlAXgaFSzZ1OUAJqvUI23Y5QLRNZsZ/eDlAX/HWgyR6OUAKlUdByXs5QLU4uP5tfTlAYNwovBJ/OUALgJl5t4A5QLYjCjdcgjlAYsd69ACEOUANa+uxpYU5QLgOXG9KhzlAY7LMLO+IOUAOVj3qk4o5QLn5rac4jDlAZJ0eZd2NOUAPQY8igo85QA==\",\"dtype\":\"float64\",\"shape\":[50]},\"right\":{\"__ndarray__\":\"/JBwnZ5AOUCnNOFaQ0I5QFLYURjoQzlA/XvC1YxFOUCoHzOTMUc5QFPDo1DWSDlA/mYUDntKOUCpCoXLH0w5QFWu9YjETTlAAFJmRmlPOUCr9dYDDlE5QFaZR8GyUjlAAT24fldUOUCs4Cg8/FU5QFeEmfmgVzlAAigKt0VZOUCty3p06lo5QFhv6zGPXDlAAxNc7zNeOUCutsys2F85QFlaPWp9YTlABP6tJyJjOUCvoR7lxmQ5QFpFj6JrZjlABun/XxBoOUCxjHAdtWk5QFww4dpZazlAB9RRmP5sOUCyd8JVo245QF0bMxNIcDlACL+j0OxxOUCzYhSOkXM5QF4GhUs2dTlACar1CNt2OUC0TWbGf3g5QF/x1oMkejlACpVHQcl7OUC1OLj+bX05QGDcKLwSfzlAC4CZebeAOUC2Iwo3XII5QGLHevQAhDlADWvrsaWFOUC4DlxvSoc5QGOyzCzviDlADlY96pOKOUC5+a2nOIw5QGSdHmXdjTlAD0GPIoKPOUC65P/fJpE5QA==\",\"dtype\":\"float64\",\"shape\":[50]},\"top\":{\"__ndarray__\":\"cYUheur1GUAAAAAAAAAAAAAAAAAAAAAAcYUheur1GUAAAAAAAAAAAAAAAAAAAAAAAAAAAAAAAABxhSF66vUZQKV1IXrq9RlAcYUheur1OUBxhSF66vUZQBUkmdtveDNAAAAAAAAAAAAAAAAAAAAAAAAAAAAAAAAAAAAAAAAAAAAAAAAAAAAAAAAAAAAAAAAAAAAAAAAAAAAAAAAAAAAAAAAAAAAAAAAAAAAAAAAAAAAAAAAAAAAAAAAAAAAAAAAAAAAAAAAAAAAAAAAAAAAAAAAAAAAAAAAAAAAAAAAAAAAAAAAAAAAAAAAAAAAAAAAAAAAAAAAAAAAAAAAAAAAAAAAAAAAAAAAAAAAAAAAAAAAAAAAAAAAAAAAAAAAAAAAAAAAAAAAAAAAAAAAAAAAAAAAAAAAAAAAAAAAAAAAAAAAAAAAAAAAAAAAAAAAAAAAAAAAAAAAAAABxhSF66vUZQHGFIXrq9RlAAAAAAAAAAABxhSF66vUZQHGFIXrq9SlAcYUheur1GUAVJJnbb3hDQA==\",\"dtype\":\"float64\",\"shape\":[50]}},\"selected\":{\"id\":\"12340\",\"type\":\"Selection\"},\"selection_policy\":{\"id\":\"12341\",\"type\":\"UnionRenderers\"}},\"id\":\"11857\",\"type\":\"ColumnDataSource\"},{\"attributes\":{\"callback\":null},\"id\":\"11904\",\"type\":\"TapTool\"},{\"attributes\":{\"callback\":null,\"renderers\":[{\"id\":\"11861\",\"type\":\"GlyphRenderer\"}],\"tooltips\":null},\"id\":\"11875\",\"type\":\"HoverTool\"},{\"attributes\":{\"callback\":null},\"id\":\"11804\",\"type\":\"DataRange1d\"},{\"attributes\":{},\"id\":\"11905\",\"type\":\"SaveTool\"},{\"attributes\":{\"label\":{\"value\":\"argo_merge_temperature_adj\"},\"renderers\":[{\"id\":\"11861\",\"type\":\"GlyphRenderer\"}]},\"id\":\"11874\",\"type\":\"LegendItem\"},{\"attributes\":{\"bottom\":{\"value\":0},\"fill_alpha\":{\"value\":0.4},\"fill_color\":{\"value\":\"dodgerblue\"},\"left\":{\"field\":\"left\"},\"line_color\":{\"value\":null},\"right\":{\"field\":\"right\"},\"top\":{\"field\":\"top\"}},\"id\":\"11858\",\"type\":\"Quad\"},{\"attributes\":{\"callback\":null,\"overlay\":{\"id\":\"11921\",\"type\":\"BoxAnnotation\"}},\"id\":\"11906\",\"type\":\"BoxSelectTool\"},{\"attributes\":{\"items\":[{\"id\":\"11874\",\"type\":\"LegendItem\"}],\"plot\":{\"id\":\"11803\",\"subtype\":\"Figure\",\"type\":\"Plot\"}},\"id\":\"11873\",\"type\":\"Legend\"},{\"attributes\":{\"callback\":null,\"renderers\":[{\"id\":\"11787\",\"type\":\"GlyphRenderer\"}],\"tooltips\":null},\"id\":\"11801\",\"type\":\"HoverTool\"},{\"attributes\":{\"callback\":null,\"overlay\":{\"id\":\"11924\",\"type\":\"PolyAnnotation\"}},\"id\":\"11907\",\"type\":\"PolySelectTool\"},{\"attributes\":{\"dimension\":1,\"plot\":{\"id\":\"11803\",\"subtype\":\"Figure\",\"type\":\"Plot\"},\"ticker\":{\"id\":\"11818\",\"type\":\"BasicTicker\"}},\"id\":\"11821\",\"type\":\"Grid\"},{\"attributes\":{\"label\":{\"value\":\"sst\"},\"renderers\":[{\"id\":\"11787\",\"type\":\"GlyphRenderer\"}]},\"id\":\"11800\",\"type\":\"LegendItem\"},{\"attributes\":{},\"id\":\"11868\",\"type\":\"BasicTickFormatter\"},{\"attributes\":{\"callback\":null,\"overlay\":{\"id\":\"11927\",\"type\":\"PolyAnnotation\"}},\"id\":\"11908\",\"type\":\"LassoSelectTool\"},{\"attributes\":{\"items\":[{\"id\":\"11800\",\"type\":\"LegendItem\"}],\"plot\":{\"id\":\"11729\",\"subtype\":\"Figure\",\"type\":\"Plot\"}},\"id\":\"11799\",\"type\":\"Legend\"},{\"attributes\":{},\"id\":\"11866\",\"type\":\"BasicTickFormatter\"},{\"attributes\":{\"plot\":null,\"text\":\"\"},\"id\":\"11863\",\"type\":\"Title\"},{\"attributes\":{},\"id\":\"11794\",\"type\":\"BasicTickFormatter\"},{\"attributes\":{},\"id\":\"11792\",\"type\":\"BasicTickFormatter\"},{\"attributes\":{\"source\":{\"id\":\"11857\",\"type\":\"ColumnDataSource\"}},\"id\":\"11862\",\"type\":\"CDSView\"},{\"attributes\":{\"callback\":null,\"data\":{\"left\":{\"__ndarray__\":\"tv7/v3Z+QUAa//8PeH5BQH7//195fkFA4v//r3p+QUBGAAAAfH5BQKoAAFB9fkFADgEAoH5+QUByAQDwf35BQNYBAECBfkFAOwIAkIJ+QUCfAgDgg35BQAMDADCFfkFAZwMAgIZ+QUDLAwDQh35BQC8EACCJfkFAkwQAcIp+QUD3BADAi35BQFsFABCNfkFAvwUAYI5+QUAjBgCwj35BQIcGAACRfkFA6wYAUJJ+QUBPBwCgk35BQLMHAPCUfkFAFwgAQJZ+QUB8CACQl35BQOAIAOCYfkFARAkAMJp+QUCoCQCAm35BQAwKANCcfkFAcAoAIJ5+QUDUCgBwn35BQDgLAMCgfkFAnAsAEKJ+QUAADABgo35BQGQMALCkfkFAyAwAAKZ+QUAsDQBQp35BQJANAKCofkFA9A0A8Kl+QUBYDgBAq35BQLwOAJCsfkFAIQ8A4K1+QUCFDwAwr35BQOkPAICwfkFATRAA0LF+QUCxEAAgs35BQBURAHC0fkFAeREAwLV+QUDdEQAQt35BQA==\",\"dtype\":\"float64\",\"shape\":[50]},\"right\":{\"__ndarray__\":\"Gv//D3h+QUB+//9feX5BQOL//696fkFARgAAAHx+QUCqAABQfX5BQA4BAKB+fkFAcgEA8H9+QUDWAQBAgX5BQDsCAJCCfkFAnwIA4IN+QUADAwAwhX5BQGcDAICGfkFAywMA0Id+QUAvBAAgiX5BQJMEAHCKfkFA9wQAwIt+QUBbBQAQjX5BQL8FAGCOfkFAIwYAsI9+QUCHBgAAkX5BQOsGAFCSfkFATwcAoJN+QUCzBwDwlH5BQBcIAECWfkFAfAgAkJd+QUDgCADgmH5BQEQJADCafkFAqAkAgJt+QUAMCgDQnH5BQHAKACCefkFA1AoAcJ9+QUA4CwDAoH5BQJwLABCifkFAAAwAYKN+QUBkDACwpH5BQMgMAACmfkFALA0AUKd+QUCQDQCgqH5BQPQNAPCpfkFAWA4AQKt+QUC8DgCQrH5BQCEPAOCtfkFAhQ8AMK9+QUDpDwCAsH5BQE0QANCxfkFAsRAAILN+QUAVEQBwtH5BQHkRAMC1fkFA3REAELd+QUBBEgBguH5BQA==\",\"dtype\":\"float64\",\"shape\":[50]},\"top\":{\"__ndarray__\":\"Sp5qCwRBsEAAAAAAAAAAAAAAAAAAAAAAAAAAAAAAAAAAAAAAAAAAAAAAAAAAAAAAAAAAAAAAAAAAAAAAAAAAAAAAAAAAAAAAAAAAAAAAAAAAAAAAAAAAAAAAAAAAAAAAAAAAAAAAAAAAAAAAAAAAAAAAAAAAAAAAAAAAAAAAAAAAAAAAAAAAAAAAAAAAAAAAAAAAAAAAAAAAAAAAAAAAAAAAAAAAAAAAAAAAAAAAAAAAAAAAAAAAAAAAAAAAAAAA/co1DkVRxEBKnmoLBEHAQAAAAAAAAAAAAAAAAAAAAAAAAAAAAAAAAAAAAAAAAAAAAAAAAAAAAAAAAAAAAAAAAAAAAAAAAAAAAAAAAAAAAAAAAAAAAAAAAAAAAAAAAAAAAAAAAAAAAAAAAAAAAAAAAAAAAAAAAAAAAAAAAAAAAAAAAAAAAAAAAAAAAAAAAAAAAAAAAAAAAAAAAAAAAAAAAAAAAAAAAAAAAAAAAAAAAAAAAAAAAAAAAAAAAAAAAAAAAAAAAAAAAABKnmoLBEGgQA==\",\"dtype\":\"float64\",\"shape\":[50]}},\"selected\":{\"id\":\"12346\",\"type\":\"Selection\"},\"selection_policy\":{\"id\":\"12347\",\"type\":\"UnionRenderers\"}},\"id\":\"11931\",\"type\":\"ColumnDataSource\"},{\"attributes\":{\"data_source\":{\"id\":\"11857\",\"type\":\"ColumnDataSource\"},\"glyph\":{\"id\":\"11858\",\"type\":\"Quad\"},\"hover_glyph\":{\"id\":\"11860\",\"type\":\"Quad\"},\"muted_glyph\":null,\"nonselection_glyph\":{\"id\":\"11859\",\"type\":\"Quad\"},\"selection_glyph\":null,\"view\":{\"id\":\"11862\",\"type\":\"CDSView\"}},\"id\":\"11861\",\"type\":\"GlyphRenderer\"},{\"attributes\":{\"plot\":null,\"text\":\"\"},\"id\":\"11789\",\"type\":\"Title\"},{\"attributes\":{\"callback\":null,\"renderers\":[{\"id\":\"11935\",\"type\":\"GlyphRenderer\"}],\"tooltips\":null},\"id\":\"11949\",\"type\":\"HoverTool\"},{\"attributes\":{\"source\":{\"id\":\"11783\",\"type\":\"ColumnDataSource\"}},\"id\":\"11788\",\"type\":\"CDSView\"},{\"attributes\":{\"bottom\":{\"value\":0},\"fill_alpha\":{\"value\":0.7},\"fill_color\":{\"value\":\"firebrick\"},\"left\":{\"field\":\"left\"},\"line_alpha\":{\"value\":0.7},\"line_color\":{\"value\":\"white\"},\"right\":{\"field\":\"right\"},\"top\":{\"field\":\"top\"}},\"id\":\"11860\",\"type\":\"Quad\"},{\"attributes\":{\"label\":{\"value\":\"argo_merge_salinity_adj\"},\"renderers\":[{\"id\":\"11935\",\"type\":\"GlyphRenderer\"}]},\"id\":\"11948\",\"type\":\"LegendItem\"},{\"attributes\":{\"items\":[{\"id\":\"11948\",\"type\":\"LegendItem\"}],\"plot\":{\"id\":\"11877\",\"subtype\":\"Figure\",\"type\":\"Plot\"}},\"id\":\"11947\",\"type\":\"Legend\"},{\"attributes\":{\"bottom\":{\"value\":0},\"fill_alpha\":{\"value\":0.1},\"fill_color\":{\"value\":\"#1f77b4\"},\"left\":{\"field\":\"left\"},\"line_alpha\":{\"value\":0.1},\"line_color\":{\"value\":\"#1f77b4\"},\"right\":{\"field\":\"right\"},\"top\":{\"field\":\"top\"}},\"id\":\"11859\",\"type\":\"Quad\"},{\"attributes\":{\"bottom\":{\"value\":0},\"fill_alpha\":{\"value\":0.1},\"fill_color\":{\"value\":\"#1f77b4\"},\"left\":{\"field\":\"left\"},\"line_alpha\":{\"value\":0.1},\"line_color\":{\"value\":\"#1f77b4\"},\"right\":{\"field\":\"right\"},\"top\":{\"field\":\"top\"}},\"id\":\"11933\",\"type\":\"Quad\"},{\"attributes\":{\"fill_alpha\":{\"value\":0.5},\"fill_color\":{\"value\":\"lightgrey\"},\"level\":\"overlay\",\"line_alpha\":{\"value\":1.0},\"line_color\":{\"value\":\"black\"},\"line_dash\":[4,4],\"line_width\":{\"value\":2},\"plot\":null,\"xs_units\":\"screen\",\"ys_units\":\"screen\"},\"id\":\"11924\",\"type\":\"PolyAnnotation\"},{\"attributes\":{},\"id\":\"11942\",\"type\":\"BasicTickFormatter\"},{\"attributes\":{\"bottom_units\":\"screen\",\"fill_alpha\":{\"value\":0.5},\"fill_color\":{\"value\":\"lightgrey\"},\"left_units\":\"screen\",\"level\":\"overlay\",\"line_alpha\":{\"value\":1.0},\"line_color\":{\"value\":\"black\"},\"line_dash\":[4,4],\"line_width\":{\"value\":2},\"plot\":null,\"render_mode\":\"css\",\"right_units\":\"screen\",\"top_units\":\"screen\"},\"id\":\"11913\",\"type\":\"BoxAnnotation\"},{\"attributes\":{\"below\":[{\"id\":\"11886\",\"type\":\"LinearAxis\"}],\"left\":[{\"id\":\"11891\",\"type\":\"LinearAxis\"}],\"plot_height\":400,\"plot_width\":800,\"renderers\":[{\"id\":\"11886\",\"type\":\"LinearAxis\"},{\"id\":\"11890\",\"type\":\"Grid\"},{\"id\":\"11891\",\"type\":\"LinearAxis\"},{\"id\":\"11895\",\"type\":\"Grid\"},{\"id\":\"11913\",\"type\":\"BoxAnnotation\"},{\"id\":\"11921\",\"type\":\"BoxAnnotation\"},{\"id\":\"11924\",\"type\":\"PolyAnnotation\"},{\"id\":\"11927\",\"type\":\"PolyAnnotation\"},{\"id\":\"11947\",\"type\":\"Legend\"},{\"id\":\"11935\",\"type\":\"GlyphRenderer\"}],\"title\":{\"id\":\"11937\",\"type\":\"Title\"},\"toolbar\":{\"id\":\"11909\",\"type\":\"Toolbar\"},\"toolbar_location\":\"above\",\"x_range\":{\"id\":\"11878\",\"type\":\"DataRange1d\"},\"x_scale\":{\"id\":\"11882\",\"type\":\"LinearScale\"},\"y_range\":{\"id\":\"11880\",\"type\":\"DataRange1d\"},\"y_scale\":{\"id\":\"11884\",\"type\":\"LinearScale\"}},\"id\":\"11877\",\"subtype\":\"Figure\",\"type\":\"Plot\"},{\"attributes\":{\"callback\":null},\"id\":\"11806\",\"type\":\"DataRange1d\"},{\"attributes\":{},\"id\":\"11940\",\"type\":\"BasicTickFormatter\"},{\"attributes\":{},\"id\":\"11808\",\"type\":\"LinearScale\"},{\"attributes\":{\"plot\":null,\"text\":\"\"},\"id\":\"11937\",\"type\":\"Title\"},{\"attributes\":{},\"id\":\"11810\",\"type\":\"LinearScale\"},{\"attributes\":{\"bottom_units\":\"screen\",\"fill_alpha\":{\"value\":0.5},\"fill_color\":{\"value\":\"lightgrey\"},\"left_units\":\"screen\",\"level\":\"overlay\",\"line_alpha\":{\"value\":1.0},\"line_color\":{\"value\":\"black\"},\"line_dash\":[4,4],\"line_width\":{\"value\":2},\"plot\":null,\"render_mode\":\"css\",\"right_units\":\"screen\",\"top_units\":\"screen\"},\"id\":\"11921\",\"type\":\"BoxAnnotation\"},{\"attributes\":{\"source\":{\"id\":\"11931\",\"type\":\"ColumnDataSource\"}},\"id\":\"11936\",\"type\":\"CDSView\"},{\"attributes\":{\"axis_label\":\"argo_merge_temperature_adj [C]\",\"formatter\":{\"id\":\"11868\",\"type\":\"BasicTickFormatter\"},\"plot\":{\"id\":\"11803\",\"subtype\":\"Figure\",\"type\":\"Plot\"},\"ticker\":{\"id\":\"11813\",\"type\":\"BasicTicker\"}},\"id\":\"11812\",\"type\":\"LinearAxis\"},{\"attributes\":{\"data_source\":{\"id\":\"11931\",\"type\":\"ColumnDataSource\"},\"glyph\":{\"id\":\"11932\",\"type\":\"Quad\"},\"hover_glyph\":{\"id\":\"11934\",\"type\":\"Quad\"},\"muted_glyph\":null,\"nonselection_glyph\":{\"id\":\"11933\",\"type\":\"Quad\"},\"selection_glyph\":null,\"view\":{\"id\":\"11936\",\"type\":\"CDSView\"}},\"id\":\"11935\",\"type\":\"GlyphRenderer\"},{\"attributes\":{},\"id\":\"11813\",\"type\":\"BasicTicker\"},{\"attributes\":{\"bottom\":{\"value\":0},\"fill_alpha\":{\"value\":0.4},\"fill_color\":{\"value\":\"dodgerblue\"},\"left\":{\"field\":\"left\"},\"line_color\":{\"value\":null},\"right\":{\"field\":\"right\"},\"top\":{\"field\":\"top\"}},\"id\":\"11932\",\"type\":\"Quad\"},{\"attributes\":{\"callback\":null},\"id\":\"11880\",\"type\":\"DataRange1d\"},{\"attributes\":{},\"id\":\"11882\",\"type\":\"LinearScale\"},{\"attributes\":{\"fill_alpha\":{\"value\":0.5},\"fill_color\":{\"value\":\"lightgrey\"},\"level\":\"overlay\",\"line_alpha\":{\"value\":1.0},\"line_color\":{\"value\":\"black\"},\"line_dash\":[4,4],\"line_width\":{\"value\":2},\"plot\":null,\"xs_units\":\"screen\",\"ys_units\":\"screen\"},\"id\":\"11927\",\"type\":\"PolyAnnotation\"},{\"attributes\":{},\"id\":\"12334\",\"type\":\"Selection\"},{\"attributes\":{},\"id\":\"11822\",\"type\":\"PanTool\"},{\"attributes\":{},\"id\":\"12335\",\"type\":\"UnionRenderers\"},{\"attributes\":{},\"id\":\"11884\",\"type\":\"LinearScale\"},{\"attributes\":{},\"id\":\"12340\",\"type\":\"Selection\"},{\"attributes\":{},\"id\":\"11823\",\"type\":\"WheelZoomTool\"},{\"attributes\":{},\"id\":\"12341\",\"type\":\"UnionRenderers\"},{\"attributes\":{\"axis_label\":\"argo_merge_salinity_adj [psu]\",\"formatter\":{\"id\":\"11942\",\"type\":\"BasicTickFormatter\"},\"plot\":{\"id\":\"11877\",\"subtype\":\"Figure\",\"type\":\"Plot\"},\"ticker\":{\"id\":\"11887\",\"type\":\"BasicTicker\"}},\"id\":\"11886\",\"type\":\"LinearAxis\"},{\"attributes\":{},\"id\":\"11824\",\"type\":\"ZoomInTool\"},{\"attributes\":{},\"id\":\"12346\",\"type\":\"Selection\"},{\"attributes\":{},\"id\":\"11887\",\"type\":\"BasicTicker\"},{\"attributes\":{},\"id\":\"11825\",\"type\":\"ZoomOutTool\"},{\"attributes\":{},\"id\":\"12347\",\"type\":\"UnionRenderers\"},{\"attributes\":{\"plot\":{\"id\":\"11877\",\"subtype\":\"Figure\",\"type\":\"Plot\"},\"ticker\":{\"id\":\"11887\",\"type\":\"BasicTicker\"}},\"id\":\"11890\",\"type\":\"Grid\"},{\"attributes\":{\"overlay\":{\"id\":\"11839\",\"type\":\"BoxAnnotation\"}},\"id\":\"11826\",\"type\":\"BoxZoomTool\"},{\"attributes\":{\"axis_label\":\"Density\",\"formatter\":{\"id\":\"11940\",\"type\":\"BasicTickFormatter\"},\"plot\":{\"id\":\"11877\",\"subtype\":\"Figure\",\"type\":\"Plot\"},\"ticker\":{\"id\":\"11892\",\"type\":\"BasicTicker\"}},\"id\":\"11891\",\"type\":\"LinearAxis\"},{\"attributes\":{},\"id\":\"11827\",\"type\":\"UndoTool\"},{\"attributes\":{},\"id\":\"11892\",\"type\":\"BasicTicker\"},{\"attributes\":{},\"id\":\"11828\",\"type\":\"RedoTool\"},{\"attributes\":{\"dimension\":1,\"plot\":{\"id\":\"11877\",\"subtype\":\"Figure\",\"type\":\"Plot\"},\"ticker\":{\"id\":\"11892\",\"type\":\"BasicTicker\"}},\"id\":\"11895\",\"type\":\"Grid\"},{\"attributes\":{},\"id\":\"11829\",\"type\":\"ResetTool\"},{\"attributes\":{\"callback\":null},\"id\":\"11830\",\"type\":\"TapTool\"},{\"attributes\":{},\"id\":\"11831\",\"type\":\"SaveTool\"},{\"attributes\":{\"callback\":null,\"overlay\":{\"id\":\"11847\",\"type\":\"BoxAnnotation\"}},\"id\":\"11832\",\"type\":\"BoxSelectTool\"},{\"attributes\":{\"callback\":null},\"id\":\"11730\",\"type\":\"DataRange1d\"},{\"attributes\":{},\"id\":\"11734\",\"type\":\"LinearScale\"},{\"attributes\":{\"callback\":null},\"id\":\"11732\",\"type\":\"DataRange1d\"},{\"attributes\":{},\"id\":\"11736\",\"type\":\"LinearScale\"},{\"attributes\":{\"axis_label\":\"sst [C]\",\"formatter\":{\"id\":\"11794\",\"type\":\"BasicTickFormatter\"},\"plot\":{\"id\":\"11729\",\"subtype\":\"Figure\",\"type\":\"Plot\"},\"ticker\":{\"id\":\"11739\",\"type\":\"BasicTicker\"}},\"id\":\"11738\",\"type\":\"LinearAxis\"},{\"attributes\":{},\"id\":\"11739\",\"type\":\"BasicTicker\"},{\"attributes\":{\"plot\":{\"id\":\"11729\",\"subtype\":\"Figure\",\"type\":\"Plot\"},\"ticker\":{\"id\":\"11739\",\"type\":\"BasicTicker\"}},\"id\":\"11742\",\"type\":\"Grid\"},{\"attributes\":{\"axis_label\":\"Density\",\"formatter\":{\"id\":\"11792\",\"type\":\"BasicTickFormatter\"},\"plot\":{\"id\":\"11729\",\"subtype\":\"Figure\",\"type\":\"Plot\"},\"ticker\":{\"id\":\"11744\",\"type\":\"BasicTicker\"}},\"id\":\"11743\",\"type\":\"LinearAxis\"},{\"attributes\":{},\"id\":\"11744\",\"type\":\"BasicTicker\"},{\"attributes\":{\"dimension\":1,\"plot\":{\"id\":\"11729\",\"subtype\":\"Figure\",\"type\":\"Plot\"},\"ticker\":{\"id\":\"11744\",\"type\":\"BasicTicker\"}},\"id\":\"11747\",\"type\":\"Grid\"},{\"attributes\":{\"bottom\":{\"value\":0},\"fill_alpha\":{\"value\":0.4},\"fill_color\":{\"value\":\"dodgerblue\"},\"left\":{\"field\":\"left\"},\"line_color\":{\"value\":null},\"right\":{\"field\":\"right\"},\"top\":{\"field\":\"top\"}},\"id\":\"11784\",\"type\":\"Quad\"},{\"attributes\":{\"plot\":{\"id\":\"11803\",\"subtype\":\"Figure\",\"type\":\"Plot\"},\"ticker\":{\"id\":\"11813\",\"type\":\"BasicTicker\"}},\"id\":\"11816\",\"type\":\"Grid\"},{\"attributes\":{\"axis_label\":\"Density\",\"formatter\":{\"id\":\"11866\",\"type\":\"BasicTickFormatter\"},\"plot\":{\"id\":\"11803\",\"subtype\":\"Figure\",\"type\":\"Plot\"},\"ticker\":{\"id\":\"11818\",\"type\":\"BasicTicker\"}},\"id\":\"11817\",\"type\":\"LinearAxis\"},{\"attributes\":{\"callback\":null,\"data\":{\"left\":{\"__ndarray__\":\"tFwa5bceMUCQ5PEmh2UxQGxsyWhWrDFASPSgqiXzMUAkfHjs9DkyQAAEUC7EgDJA3IsncJPHMkC5E/+xYg4zQJWb1vMxVTNAcSOuNQGcM0BNq4V30OIzQCkzXbmfKTRABbs0+25wNEDhQgw9Prc0QL3K434N/jRAmVK7wNxENUB12pICrIs1QFFiakR70jVALupBhkoZNkAKchnIGWA2QOb58AnppjZAwoHIS7jtNkCeCaCNhzQ3QHqRd89WezdAVhlPESbCN0AyoSZT9Qg4QA4p/pTETzhA6rDV1pOWOEDGOK0YY904QKLAhFoyJDlAfkhcnAFrOUBa0DPe0LE5QDZYCyCg+DlAEuDiYW8/OkDuZ7qjPoY6QMrvkeUNzTpAp3dpJ90TO0CD/0BprFo7QF+HGKt7oTtAOw/w7EroO0AXl8cuGi88QPMen3DpdTxA0KZ2sri8PECsLk70hwM9QIi2JTZXSj1AZD79dyaRPUBAxtS59dc9QBxOrPvEHj5A+NWDPZRlPkDUXVt/Y6w+QA==\",\"dtype\":\"float64\",\"shape\":[50]},\"right\":{\"__ndarray__\":\"kOTxJodlMUBsbMloVqwxQEj0oKol8zFAJHx47PQ5MkAABFAuxIAyQNyLJ3CTxzJAuRP/sWIOM0CVm9bzMVUzQHEjrjUBnDNATauFd9DiM0ApM125nyk0QAW7NPtucDRA4UIMPT63NEC9yuN+Df40QJlSu8DcRDVAddqSAqyLNUBRYmpEe9I1QC7qQYZKGTZACnIZyBlgNkDm+fAJ6aY2QMKByEu47TZAngmgjYc0N0B6kXfPVns3QFYZTxEmwjdAMqEmU/UIOEAOKf6UxE84QOqw1daTljhAxjitGGPdOECiwIRaMiQ5QH5IXJwBazlAWtAz3tCxOUA2WAsgoPg5QBLg4mFvPzpA7me6oz6GOkDK75HlDc06QKd3aSfdEztAg/9AaaxaO0Bfhxire6E7QDsP8OxK6DtAF5fHLhovPEDzHp9w6XU8QNCmdrK4vDxArC5O9IcDPUCItiU2V0o9QGQ+/XcmkT1AQMbUufXXPUAcTqz7xB4+QPjVgz2UZT5A1F1bf2OsPkCw5TLBMvM+QA==\",\"dtype\":\"float64\",\"shape\":[50]},\"top\":{\"__ndarray__\":\"S5MaOxTcYj+IikTRm+5pP4iKRNGb7mk/iIpE0ZvuaT+IikTRm+5pP4iKRNGb7mk/KopE0ZvueT8mhlmc33d9P70z9hRdHIs/VwjPtj2zmz+MsYD6/uCcP5j9BoyEJ6M/VOGSjdrAqD9U4ZKN2sCoP6+/uvlTFKo/tQ0zTBr5rz98FZBVchexPwRVzqjjyKk/OyBYgCujqT8pheA7v6i1P8bsGkJB0bM/NPqUt+h/rj+j3uBC7J22P64r4DSSs7Q/FFcHk7EctD9vyQnE7NC6P12at7q+dcE/tZsQ4DWHwj/DWbndnz/GPzdDiTkpYck/+ymnSsRfyj+F9+Js+lzMPz79Jsct5ck/LKwcZSKbyD8e7nNnuOLEP6ZAt7ORgMA/nJBo8CW5wD+4eN8mOMnCPxFYgPPR67s/1fQwIgw6qj+7C0GL2VqgP9Bt0NLxh58/dPBF7U/DrT/iQLezkYCwP9sa9OpOXaU/QUYbSW7GpD9Lkxo7FNySPx444UkZk5c/4kC3s5GAgD/iQLezkYBwPw==\",\"dtype\":\"float64\",\"shape\":[50]}},\"selected\":{\"id\":\"12334\",\"type\":\"Selection\"},\"selection_policy\":{\"id\":\"12335\",\"type\":\"UnionRenderers\"}},\"id\":\"11783\",\"type\":\"ColumnDataSource\"},{\"attributes\":{},\"id\":\"11818\",\"type\":\"BasicTicker\"},{\"attributes\":{\"active_drag\":\"auto\",\"active_inspect\":\"auto\",\"active_multi\":null,\"active_scroll\":\"auto\",\"active_tap\":\"auto\",\"tools\":[{\"id\":\"11748\",\"type\":\"PanTool\"},{\"id\":\"11749\",\"type\":\"WheelZoomTool\"},{\"id\":\"11750\",\"type\":\"ZoomInTool\"},{\"id\":\"11751\",\"type\":\"ZoomOutTool\"},{\"id\":\"11752\",\"type\":\"BoxZoomTool\"},{\"id\":\"11753\",\"type\":\"UndoTool\"},{\"id\":\"11754\",\"type\":\"RedoTool\"},{\"id\":\"11755\",\"type\":\"ResetTool\"},{\"id\":\"11756\",\"type\":\"TapTool\"},{\"id\":\"11757\",\"type\":\"SaveTool\"},{\"id\":\"11758\",\"type\":\"BoxSelectTool\"},{\"id\":\"11759\",\"type\":\"PolySelectTool\"},{\"id\":\"11760\",\"type\":\"LassoSelectTool\"},{\"id\":\"11801\",\"type\":\"HoverTool\"}]},\"id\":\"11761\",\"type\":\"Toolbar\"},{\"attributes\":{},\"id\":\"11748\",\"type\":\"PanTool\"},{\"attributes\":{},\"id\":\"11749\",\"type\":\"WheelZoomTool\"},{\"attributes\":{},\"id\":\"11750\",\"type\":\"ZoomInTool\"},{\"attributes\":{},\"id\":\"11751\",\"type\":\"ZoomOutTool\"},{\"attributes\":{\"overlay\":{\"id\":\"11765\",\"type\":\"BoxAnnotation\"}},\"id\":\"11752\",\"type\":\"BoxZoomTool\"},{\"attributes\":{},\"id\":\"11753\",\"type\":\"UndoTool\"},{\"attributes\":{},\"id\":\"11754\",\"type\":\"RedoTool\"},{\"attributes\":{},\"id\":\"11755\",\"type\":\"ResetTool\"},{\"attributes\":{\"callback\":null},\"id\":\"11756\",\"type\":\"TapTool\"},{\"attributes\":{},\"id\":\"11757\",\"type\":\"SaveTool\"},{\"attributes\":{\"callback\":null,\"overlay\":{\"id\":\"11773\",\"type\":\"BoxAnnotation\"}},\"id\":\"11758\",\"type\":\"BoxSelectTool\"},{\"attributes\":{\"callback\":null,\"overlay\":{\"id\":\"11776\",\"type\":\"PolyAnnotation\"}},\"id\":\"11759\",\"type\":\"PolySelectTool\"},{\"attributes\":{\"below\":[{\"id\":\"11738\",\"type\":\"LinearAxis\"}],\"left\":[{\"id\":\"11743\",\"type\":\"LinearAxis\"}],\"plot_height\":400,\"plot_width\":800,\"renderers\":[{\"id\":\"11738\",\"type\":\"LinearAxis\"},{\"id\":\"11742\",\"type\":\"Grid\"},{\"id\":\"11743\",\"type\":\"LinearAxis\"},{\"id\":\"11747\",\"type\":\"Grid\"},{\"id\":\"11765\",\"type\":\"BoxAnnotation\"},{\"id\":\"11773\",\"type\":\"BoxAnnotation\"},{\"id\":\"11776\",\"type\":\"PolyAnnotation\"},{\"id\":\"11779\",\"type\":\"PolyAnnotation\"},{\"id\":\"11799\",\"type\":\"Legend\"},{\"id\":\"11787\",\"type\":\"GlyphRenderer\"}],\"title\":{\"id\":\"11789\",\"type\":\"Title\"},\"toolbar\":{\"id\":\"11761\",\"type\":\"Toolbar\"},\"toolbar_location\":\"above\",\"x_range\":{\"id\":\"11730\",\"type\":\"DataRange1d\"},\"x_scale\":{\"id\":\"11734\",\"type\":\"LinearScale\"},\"y_range\":{\"id\":\"11732\",\"type\":\"DataRange1d\"},\"y_scale\":{\"id\":\"11736\",\"type\":\"LinearScale\"}},\"id\":\"11729\",\"subtype\":\"Figure\",\"type\":\"Plot\"},{\"attributes\":{\"callback\":null,\"overlay\":{\"id\":\"11779\",\"type\":\"PolyAnnotation\"}},\"id\":\"11760\",\"type\":\"LassoSelectTool\"},{\"attributes\":{\"bottom_units\":\"screen\",\"fill_alpha\":{\"value\":0.5},\"fill_color\":{\"value\":\"lightgrey\"},\"left_units\":\"screen\",\"level\":\"overlay\",\"line_alpha\":{\"value\":1.0},\"line_color\":{\"value\":\"black\"},\"line_dash\":[4,4],\"line_width\":{\"value\":2},\"plot\":null,\"render_mode\":\"css\",\"right_units\":\"screen\",\"top_units\":\"screen\"},\"id\":\"11765\",\"type\":\"BoxAnnotation\"}],\"root_ids\":[\"11951\"]},\"title\":\"Bokeh Application\",\"version\":\"1.0.4\"}};\n",
       "  var render_items = [{\"docid\":\"e1b431ff-0742-4659-8e11-852af5013c74\",\"roots\":{\"11951\":\"79c57f1b-066c-4652-8353-e3a595a06441\"}}];\n",
       "  root.Bokeh.embed.embed_items_notebook(docs_json, render_items);\n",
       "\n",
       "  }\n",
       "  if (root.Bokeh !== undefined) {\n",
       "    embed_document(root);\n",
       "  } else {\n",
       "    var attempts = 0;\n",
       "    var timer = setInterval(function(root) {\n",
       "      if (root.Bokeh !== undefined) {\n",
       "        embed_document(root);\n",
       "        clearInterval(timer);\n",
       "      }\n",
       "      attempts++;\n",
       "      if (attempts > 100) {\n",
       "        console.log(\"Bokeh: ERROR: Unable to run BokehJS code because BokehJS library is missing\");\n",
       "        clearInterval(timer);\n",
       "      }\n",
       "    }, 10, root)\n",
       "  }\n",
       "})(window);"
      ],
      "application/vnd.bokehjs_exec.v0+json": ""
     },
     "metadata": {
      "application/vnd.bokehjs_exec.v0+json": {
       "id": "11951"
      }
     },
     "output_type": "display_data"
    }
   ],
   "source": [
    "\n",
    "tables = ['tblSST_AVHRR_OI_NRT', 'tblArgoMerge_REP', 'tblArgoMerge_REP']           # see catalog.csv  for the complete list of tables and variable names\n",
    "variables = ['sst', 'argo_merge_temperature_adj', 'argo_merge_salinity_adj']       # see catalog.csv  for the complete list of tables and variable names\n",
    "startDate = '2016-04-30'\n",
    "endDate = '2016-04-30'\n",
    "lat1, lat2 = 20, 24\n",
    "lon1, lon2 = -170, 150\n",
    "depth1, depth2 = 0, 20\n",
    "fname = 'DEP'\n",
    "exportDataFlag = False      # True if you you want to download data\n",
    "\n",
    "plotDist(tables, variables, startDate, endDate, lat1, lat2, lon1, lon2, depth1, depth2, fname, exportDataFlag)\n"
   ]
  },
  {
   "cell_type": "code",
   "execution_count": 142,
   "metadata": {},
   "outputs": [
    {
     "data": {
      "application/vnd.jupyter.widget-view+json": {
       "model_id": "bd137274e3e2489390f0b3c695abc5cb",
       "version_major": 2,
       "version_minor": 0
      },
      "text/plain": [
       "HBox(children=(IntProgress(value=0, description='overall', max=1, style=ProgressStyle(description_width='initi…"
      ]
     },
     "metadata": {},
     "output_type": "display_data"
    },
    {
     "data": {
      "text/html": [
       "\n",
       "\n",
       "\n",
       "\n",
       "\n",
       "\n",
       "  <div class=\"bk-root\" id=\"62d7956a-b0ec-430c-b05d-337b8e270067\" data-root-id=\"10533\"></div>\n"
      ]
     },
     "metadata": {},
     "output_type": "display_data"
    },
    {
     "data": {
      "application/javascript": [
       "(function(root) {\n",
       "  function embed_document(root) {\n",
       "    \n",
       "  var docs_json = {\"a654b58f-31f1-40c7-93f0-84bdc81db583\":{\"roots\":{\"references\":[{\"attributes\":{\"children\":[{\"id\":\"10459\",\"subtype\":\"Figure\",\"type\":\"Plot\"}]},\"id\":\"10533\",\"type\":\"Column\"},{\"attributes\":{\"callback\":null},\"id\":\"10462\",\"type\":\"DataRange1d\"},{\"attributes\":{},\"id\":\"10474\",\"type\":\"BasicTicker\"},{\"attributes\":{\"callback\":null,\"overlay\":{\"id\":\"10503\",\"type\":\"BoxAnnotation\"}},\"id\":\"10488\",\"type\":\"BoxSelectTool\"},{\"attributes\":{\"callback\":null,\"data\":{\"left\":{\"__ndarray__\":\"AAAAwD1RZkAzMzMzbf5mQGZmZqacq2dAmpmZGcxYaEDNzMyM+wVpQAAAAAArs2lAMzMzc1pgakBmZmbmiQ1rQJqZmVm5umtAzczMzOhnbEAAAABAGBVtQDMzM7NHwm1AZmZmJndvbkCamZmZphxvQMzMzAzWyW9AAAAAwII7cECamZl5GpJwQDMzMzOy6HBAzczM7Ek/cUBmZmam4ZVxQAAAAGB57HFAmpmZGRFDckAzMzPTqJlyQM3MzIxA8HJAZmZmRthGc0AAAAAAcJ1zQJqZmbkH9HNAMzMzc59KdEDMzMwsN6F0QGZmZubO93RAAAAAoGZOdUCamZlZ/qR1QDMzMxOW+3VAzMzMzC1SdkBmZmaGxah2QAAAAEBd/3ZAmpmZ+fRVd0AzMzOzjKx3QMzMzGwkA3hAZmZmJrxZeEAAAADgU7B4QJqZmZnrBnlAMzMzU4NdeUDMzMwMG7R5QGZmZsayCnpAAAAAgEphekCamZk54rd6QDMzM/N5DntAzMzMrBFle0BmZmZmqbt7QA==\",\"dtype\":\"float64\",\"shape\":[50]},\"right\":{\"__ndarray__\":\"MzMzM23+ZkBmZmamnKtnQJqZmRnMWGhAzczMjPsFaUAAAAAAK7NpQDMzM3NaYGpAZmZm5okNa0CamZlZubprQM3MzMzoZ2xAAAAAQBgVbUAzMzOzR8JtQGZmZiZ3b25AmpmZmaYcb0DMzMwM1slvQAAAAMCCO3BAmpmZeRqScEAzMzMzsuhwQM3MzOxJP3FAZmZmpuGVcUAAAABgeexxQJqZmRkRQ3JAMzMz06iZckDNzMyMQPByQGZmZkbYRnNAAAAAAHCdc0CamZm5B/RzQDMzM3OfSnRAzMzMLDehdEBmZmbmzvd0QAAAAKBmTnVAmpmZWf6kdUAzMzMTlvt1QMzMzMwtUnZAZmZmhsWodkAAAABAXf92QJqZmfn0VXdAMzMzs4ysd0DMzMxsJAN4QGZmZia8WXhAAAAA4FOweECamZmZ6wZ5QDMzM1ODXXlAzMzMDBu0eUBmZmbGsgp6QAAAAIBKYXpAmpmZOeK3ekAzMzPzeQ57QMzMzKwRZXtAZmZmZqm7e0AAAAAgQRJ8QA==\",\"dtype\":\"float64\",\"shape\":[50]},\"top\":{\"__ndarray__\":\"9pduTYsRyD72l25NixHYPhB52EElx2Q/4njkTMP3lT+T6Ny7iz6OP6reQMWlaIM/TE7VnFrsez8vx58yrD54P9Hm5Vb9rXg/mymxH8gFdz8lEkhep1V8P+vOHTP9MHM/LDS+h1ZMcj8WVRMncq1qP5r6n/VD8WQ/Pxgnht9JYD8n9aHhZWFiPwiiW/p8P2U/I/HSA+/bZT9RBG3nmAZkP/11SdrncmQ/IW/rlDOZZz+TeLiGiK5mP47lhSUnZG4/YAg8xQ+McD+P3kebD6NvP6+s2AS9eXE/RVGV/waAcD8rJVLkAnRrP/SHg4y7U2g/TM897plJcT/OoTs/4CZ3PzTZCuDuXoA/TSTTxoaOgj8YIsN8xR97P+k8SwNyMHU/b6h5yffnZT9FUZX/BoBQP7fr9KqtZEE/N3/2EKBvJT8IyV7GYVUdP9c5LD7mzyU/VVBVic1OJD+WOSw+5s8VP8xqHLe8Ews/H32nH5xMET/aDNqnF9IYP5EIPMUPjBA/18TA41kPBT/Sl25NixH4Pg==\",\"dtype\":\"float64\",\"shape\":[50]}},\"selected\":{\"id\":\"10856\",\"type\":\"Selection\"},\"selection_policy\":{\"id\":\"10857\",\"type\":\"UnionRenderers\"}},\"id\":\"10513\",\"type\":\"ColumnDataSource\"},{\"attributes\":{\"callback\":null},\"id\":\"10460\",\"type\":\"DataRange1d\"},{\"attributes\":{\"callback\":null,\"renderers\":[{\"id\":\"10517\",\"type\":\"GlyphRenderer\"}],\"tooltips\":null},\"id\":\"10531\",\"type\":\"HoverTool\"},{\"attributes\":{\"callback\":null},\"id\":\"10486\",\"type\":\"TapTool\"},{\"attributes\":{\"plot\":{\"id\":\"10459\",\"subtype\":\"Figure\",\"type\":\"Plot\"},\"ticker\":{\"id\":\"10469\",\"type\":\"BasicTicker\"}},\"id\":\"10472\",\"type\":\"Grid\"},{\"attributes\":{\"label\":{\"value\":\"O2\"},\"renderers\":[{\"id\":\"10517\",\"type\":\"GlyphRenderer\"}]},\"id\":\"10530\",\"type\":\"LegendItem\"},{\"attributes\":{},\"id\":\"10485\",\"type\":\"ResetTool\"},{\"attributes\":{\"callback\":null,\"overlay\":{\"id\":\"10506\",\"type\":\"PolyAnnotation\"}},\"id\":\"10489\",\"type\":\"PolySelectTool\"},{\"attributes\":{\"items\":[{\"id\":\"10530\",\"type\":\"LegendItem\"}],\"plot\":{\"id\":\"10459\",\"subtype\":\"Figure\",\"type\":\"Plot\"}},\"id\":\"10529\",\"type\":\"Legend\"},{\"attributes\":{\"bottom\":{\"value\":0},\"fill_alpha\":{\"value\":0.4},\"fill_color\":{\"value\":\"dodgerblue\"},\"left\":{\"field\":\"left\"},\"line_color\":{\"value\":null},\"right\":{\"field\":\"right\"},\"top\":{\"field\":\"top\"}},\"id\":\"10514\",\"type\":\"Quad\"},{\"attributes\":{\"bottom\":{\"value\":0},\"fill_alpha\":{\"value\":0.7},\"fill_color\":{\"value\":\"firebrick\"},\"left\":{\"field\":\"left\"},\"line_alpha\":{\"value\":0.7},\"line_color\":{\"value\":\"white\"},\"right\":{\"field\":\"right\"},\"top\":{\"field\":\"top\"}},\"id\":\"10516\",\"type\":\"Quad\"},{\"attributes\":{},\"id\":\"10524\",\"type\":\"BasicTickFormatter\"},{\"attributes\":{\"bottom\":{\"value\":0},\"fill_alpha\":{\"value\":0.1},\"fill_color\":{\"value\":\"#1f77b4\"},\"left\":{\"field\":\"left\"},\"line_alpha\":{\"value\":0.1},\"line_color\":{\"value\":\"#1f77b4\"},\"right\":{\"field\":\"right\"},\"top\":{\"field\":\"top\"}},\"id\":\"10515\",\"type\":\"Quad\"},{\"attributes\":{},\"id\":\"10469\",\"type\":\"BasicTicker\"},{\"attributes\":{},\"id\":\"10522\",\"type\":\"BasicTickFormatter\"},{\"attributes\":{\"axis_label\":\"O2 (mmol O/m^3)\",\"formatter\":{\"id\":\"10524\",\"type\":\"BasicTickFormatter\"},\"plot\":{\"id\":\"10459\",\"subtype\":\"Figure\",\"type\":\"Plot\"},\"ticker\":{\"id\":\"10469\",\"type\":\"BasicTicker\"}},\"id\":\"10468\",\"type\":\"LinearAxis\"},{\"attributes\":{},\"id\":\"10479\",\"type\":\"WheelZoomTool\"},{\"attributes\":{\"plot\":null,\"text\":\"\"},\"id\":\"10519\",\"type\":\"Title\"},{\"attributes\":{},\"id\":\"10487\",\"type\":\"SaveTool\"},{\"attributes\":{\"fill_alpha\":{\"value\":0.5},\"fill_color\":{\"value\":\"lightgrey\"},\"level\":\"overlay\",\"line_alpha\":{\"value\":1.0},\"line_color\":{\"value\":\"black\"},\"line_dash\":[4,4],\"line_width\":{\"value\":2},\"plot\":null,\"xs_units\":\"screen\",\"ys_units\":\"screen\"},\"id\":\"10509\",\"type\":\"PolyAnnotation\"},{\"attributes\":{},\"id\":\"10466\",\"type\":\"LinearScale\"},{\"attributes\":{},\"id\":\"10464\",\"type\":\"LinearScale\"},{\"attributes\":{\"active_drag\":\"auto\",\"active_inspect\":\"auto\",\"active_multi\":null,\"active_scroll\":\"auto\",\"active_tap\":\"auto\",\"tools\":[{\"id\":\"10478\",\"type\":\"PanTool\"},{\"id\":\"10479\",\"type\":\"WheelZoomTool\"},{\"id\":\"10480\",\"type\":\"ZoomInTool\"},{\"id\":\"10481\",\"type\":\"ZoomOutTool\"},{\"id\":\"10482\",\"type\":\"BoxZoomTool\"},{\"id\":\"10483\",\"type\":\"UndoTool\"},{\"id\":\"10484\",\"type\":\"RedoTool\"},{\"id\":\"10485\",\"type\":\"ResetTool\"},{\"id\":\"10486\",\"type\":\"TapTool\"},{\"id\":\"10487\",\"type\":\"SaveTool\"},{\"id\":\"10488\",\"type\":\"BoxSelectTool\"},{\"id\":\"10489\",\"type\":\"PolySelectTool\"},{\"id\":\"10490\",\"type\":\"LassoSelectTool\"},{\"id\":\"10531\",\"type\":\"HoverTool\"}]},\"id\":\"10491\",\"type\":\"Toolbar\"},{\"attributes\":{\"source\":{\"id\":\"10513\",\"type\":\"ColumnDataSource\"}},\"id\":\"10518\",\"type\":\"CDSView\"},{\"attributes\":{\"below\":[{\"id\":\"10468\",\"type\":\"LinearAxis\"}],\"left\":[{\"id\":\"10473\",\"type\":\"LinearAxis\"}],\"plot_height\":400,\"plot_width\":800,\"renderers\":[{\"id\":\"10468\",\"type\":\"LinearAxis\"},{\"id\":\"10472\",\"type\":\"Grid\"},{\"id\":\"10473\",\"type\":\"LinearAxis\"},{\"id\":\"10477\",\"type\":\"Grid\"},{\"id\":\"10495\",\"type\":\"BoxAnnotation\"},{\"id\":\"10503\",\"type\":\"BoxAnnotation\"},{\"id\":\"10506\",\"type\":\"PolyAnnotation\"},{\"id\":\"10509\",\"type\":\"PolyAnnotation\"},{\"id\":\"10529\",\"type\":\"Legend\"},{\"id\":\"10517\",\"type\":\"GlyphRenderer\"}],\"title\":{\"id\":\"10519\",\"type\":\"Title\"},\"toolbar\":{\"id\":\"10491\",\"type\":\"Toolbar\"},\"toolbar_location\":\"above\",\"x_range\":{\"id\":\"10460\",\"type\":\"DataRange1d\"},\"x_scale\":{\"id\":\"10464\",\"type\":\"LinearScale\"},\"y_range\":{\"id\":\"10462\",\"type\":\"DataRange1d\"},\"y_scale\":{\"id\":\"10466\",\"type\":\"LinearScale\"}},\"id\":\"10459\",\"subtype\":\"Figure\",\"type\":\"Plot\"},{\"attributes\":{},\"id\":\"10478\",\"type\":\"PanTool\"},{\"attributes\":{\"fill_alpha\":{\"value\":0.5},\"fill_color\":{\"value\":\"lightgrey\"},\"level\":\"overlay\",\"line_alpha\":{\"value\":1.0},\"line_color\":{\"value\":\"black\"},\"line_dash\":[4,4],\"line_width\":{\"value\":2},\"plot\":null,\"xs_units\":\"screen\",\"ys_units\":\"screen\"},\"id\":\"10506\",\"type\":\"PolyAnnotation\"},{\"attributes\":{},\"id\":\"10481\",\"type\":\"ZoomOutTool\"},{\"attributes\":{\"overlay\":{\"id\":\"10495\",\"type\":\"BoxAnnotation\"}},\"id\":\"10482\",\"type\":\"BoxZoomTool\"},{\"attributes\":{\"bottom_units\":\"screen\",\"fill_alpha\":{\"value\":0.5},\"fill_color\":{\"value\":\"lightgrey\"},\"left_units\":\"screen\",\"level\":\"overlay\",\"line_alpha\":{\"value\":1.0},\"line_color\":{\"value\":\"black\"},\"line_dash\":[4,4],\"line_width\":{\"value\":2},\"plot\":null,\"render_mode\":\"css\",\"right_units\":\"screen\",\"top_units\":\"screen\"},\"id\":\"10503\",\"type\":\"BoxAnnotation\"},{\"attributes\":{},\"id\":\"10856\",\"type\":\"Selection\"},{\"attributes\":{},\"id\":\"10480\",\"type\":\"ZoomInTool\"},{\"attributes\":{},\"id\":\"10484\",\"type\":\"RedoTool\"},{\"attributes\":{\"axis_label\":\"Density\",\"formatter\":{\"id\":\"10522\",\"type\":\"BasicTickFormatter\"},\"plot\":{\"id\":\"10459\",\"subtype\":\"Figure\",\"type\":\"Plot\"},\"ticker\":{\"id\":\"10474\",\"type\":\"BasicTicker\"}},\"id\":\"10473\",\"type\":\"LinearAxis\"},{\"attributes\":{\"bottom_units\":\"screen\",\"fill_alpha\":{\"value\":0.5},\"fill_color\":{\"value\":\"lightgrey\"},\"left_units\":\"screen\",\"level\":\"overlay\",\"line_alpha\":{\"value\":1.0},\"line_color\":{\"value\":\"black\"},\"line_dash\":[4,4],\"line_width\":{\"value\":2},\"plot\":null,\"render_mode\":\"css\",\"right_units\":\"screen\",\"top_units\":\"screen\"},\"id\":\"10495\",\"type\":\"BoxAnnotation\"},{\"attributes\":{\"dimension\":1,\"plot\":{\"id\":\"10459\",\"subtype\":\"Figure\",\"type\":\"Plot\"},\"ticker\":{\"id\":\"10474\",\"type\":\"BasicTicker\"}},\"id\":\"10477\",\"type\":\"Grid\"},{\"attributes\":{\"data_source\":{\"id\":\"10513\",\"type\":\"ColumnDataSource\"},\"glyph\":{\"id\":\"10514\",\"type\":\"Quad\"},\"hover_glyph\":{\"id\":\"10516\",\"type\":\"Quad\"},\"muted_glyph\":null,\"nonselection_glyph\":{\"id\":\"10515\",\"type\":\"Quad\"},\"selection_glyph\":null,\"view\":{\"id\":\"10518\",\"type\":\"CDSView\"}},\"id\":\"10517\",\"type\":\"GlyphRenderer\"},{\"attributes\":{\"callback\":null,\"overlay\":{\"id\":\"10509\",\"type\":\"PolyAnnotation\"}},\"id\":\"10490\",\"type\":\"LassoSelectTool\"},{\"attributes\":{},\"id\":\"10483\",\"type\":\"UndoTool\"},{\"attributes\":{},\"id\":\"10857\",\"type\":\"UnionRenderers\"}],\"root_ids\":[\"10533\"]},\"title\":\"Bokeh Application\",\"version\":\"1.0.4\"}};\n",
       "  var render_items = [{\"docid\":\"a654b58f-31f1-40c7-93f0-84bdc81db583\",\"roots\":{\"10533\":\"62d7956a-b0ec-430c-b05d-337b8e270067\"}}];\n",
       "  root.Bokeh.embed.embed_items_notebook(docs_json, render_items);\n",
       "\n",
       "  }\n",
       "  if (root.Bokeh !== undefined) {\n",
       "    embed_document(root);\n",
       "  } else {\n",
       "    var attempts = 0;\n",
       "    var timer = setInterval(function(root) {\n",
       "      if (root.Bokeh !== undefined) {\n",
       "        embed_document(root);\n",
       "        clearInterval(timer);\n",
       "      }\n",
       "      attempts++;\n",
       "      if (attempts > 100) {\n",
       "        console.log(\"Bokeh: ERROR: Unable to run BokehJS code because BokehJS library is missing\");\n",
       "        clearInterval(timer);\n",
       "      }\n",
       "    }, 10, root)\n",
       "  }\n",
       "})(window);"
      ],
      "application/vnd.bokehjs_exec.v0+json": ""
     },
     "metadata": {
      "application/vnd.bokehjs_exec.v0+json": {
       "id": "10533"
      }
     },
     "output_type": "display_data"
    }
   ],
   "source": [
    "xFile = xr.open_dataset('http://engaging-opendap.mit.edu:8080/thredds/dodsC/las/id-a1d60eba44/data_usr_local_tomcat_content_cbiomes_20190510_20_darwin_v0.2_cs510_darwin_v0.2_cs510_nutrients.nc.jnl')\n",
    "\n",
    "tables = [xFile]           # see catalog.csv  for the complete list of tables and variable names\n",
    "variables = ['O2']       # see catalog.csv  for the complete list of tables and variable names\n",
    "startDate = '2010-04-30'\n",
    "endDate = '2010-04-30'\n",
    "lat1, lat2 = -80, 80\n",
    "lon1, lon2 = -80, 80\n",
    "depth1, depth2 = 0, 10\n",
    "fname = 'DEP'\n",
    "exportDataFlag = False      # True if you you want to download data\n",
    "\n",
    "xarrayPlotDist(tables, variables, startDate, endDate, lat1, lat2, lon1, lon2, depth1, depth2, fname, exportDataFlag)"
   ]
  },
  {
   "cell_type": "markdown",
   "metadata": {},
   "source": [
    "### Original Function"
   ]
  },
  {
   "cell_type": "code",
   "execution_count": 139,
   "metadata": {},
   "outputs": [],
   "source": [
    "def plotDist(tables, variables, startDate, endDate, lat1, lat2, lon1, lon2, depth1, depth2, fname, exportDataFlag, marker='-', msize=30, clr='purple'):\n",
    "    p = []\n",
    "    lw = 2\n",
    "    w = 800\n",
    "    h = 400\n",
    "    TOOLS = 'pan,wheel_zoom,zoom_in,zoom_out,box_zoom, undo,redo,reset,tap,save,box_select,poly_select,lasso_select'\n",
    "    for i in tqdm(range(len(tables)), desc='overall'):\n",
    "        y = subset.spaceTime(tables[i], variables[i], startDate, endDate, lat1, lat2, lon1, lon2, depth1, depth2) \n",
    "        if len(y) < 1:\n",
    "            com.printTQDM('%d: No matching entry found: Table: %s, Variable: %s ' % (i+1, tables[i], variables[i]), err=True )\n",
    "            continue\n",
    "        com.printTQDM('%d: %s retrieved (%s).' % (i+1, variables[i], tables[i]), err=False)\n",
    "        y = y[variables[i]]\n",
    "        \n",
    "        if exportDataFlag:\n",
    "            exportData(y, tables[i], variables[i], startDate, endDate, lat1, lat2, lon1, lon2, depth1, depth2)\n",
    "        try:    \n",
    "            y = y[~np.isnan(y)]     # remove nans\n",
    "        except Exception as e:\n",
    "            continue    \n",
    "        hist, edges = np.histogram(y, density=True, bins=50)\n",
    "        p1 = figure(tools=TOOLS, toolbar_location=\"above\", plot_width=w, plot_height=h)\n",
    "        p1.yaxis.axis_label = 'Density'\n",
    "        p1.xaxis.axis_label = variables[i] + ' [' + db.getVar(tables[i], variables[i]).iloc[0]['Unit'] + ']'\n",
    "        leg = variables[i]\n",
    "        fill_alpha = 0.4   \n",
    "        cr = p1.quad(top=hist, bottom=0, left=edges[:-1], right=edges[1:], fill_color=\"dodgerblue\", line_color=None, hover_fill_color=\"firebrick\", fill_alpha=fill_alpha, hover_alpha=0.7, hover_line_color=\"white\", legend=leg)\n",
    "        p1.add_tools(HoverTool(tooltips=None, renderers=[cr], mode='mouse'))\n",
    "        p.append(p1)\n",
    "    dirPath = 'embed/'\n",
    "    if not os.path.exists(dirPath):\n",
    "        os.makedirs(dirPath)        \n",
    "   # if not inline:      ## if jupyter is not the caller\n",
    "   #     output_file(dirPath + fname + \".html\", title=\"Histogram\")\n",
    "    show(column(p))\n",
    "    return"
   ]
  },
  {
   "cell_type": "markdown",
   "metadata": {},
   "source": [
    "### NetCDF4-Compatible Function"
   ]
  },
  {
   "cell_type": "code",
   "execution_count": 137,
   "metadata": {},
   "outputs": [],
   "source": [
    "def xarrayPlotDist(tables, variables, startDate, endDate, lat1, lat2, lon1, lon2, depth1, depth2, fname, exportDataFlag, marker='-', msize=30, clr='purple'):\n",
    "    p = []\n",
    "    lw = 2\n",
    "    w = 800\n",
    "    h = 400\n",
    "    TOOLS = 'pan,wheel_zoom,zoom_in,zoom_out,box_zoom, undo,redo,reset,tap,save,box_select,poly_select,lasso_select'\n",
    "    for i in tqdm(range(len(tables)), desc='overall'):\n",
    "        \n",
    "        unit = tables[i].variables[variables[i]].attrs['units']\n",
    "        \n",
    "        varData = tables[i].sel(TIME = slice(startDate, endDate), LAT_C = slice(lat1, lat2), LON_C = slice(lon1, lon2), DEP_C = slice(depth1, depth2))\n",
    "        varData = varData.variables[variables[i]][:].values\n",
    "        varData[varData < 0] = float('NaN')\n",
    "\n",
    "        varData = varData.tolist()[0][0]\n",
    "        elems = []\n",
    "        for list in varData:\n",
    "            for item in list:\n",
    "                elems.append(item)\n",
    "        varData = pd.Series(elems).dropna()\n",
    "\n",
    "        if exportDataFlag:\n",
    "            exportData(y, tables[i], variables[i], startDate, endDate, lat1, lat2, lon1, lon2, depth1, depth2)\n",
    "        try:    \n",
    "            carData = varData[~np.isnan(varData)]     # remove nans\n",
    "        except Exception as e:\n",
    "            continue   \n",
    "            \n",
    "        hist, edges = np.histogram(varData, density=True, bins=50)\n",
    "        p1 = figure(tools=TOOLS, toolbar_location=\"above\", plot_width=w, plot_height=h)\n",
    "        p1.yaxis.axis_label = 'Density'\n",
    "        p1.xaxis.axis_label = variables[i] + ' (' +str(unit) + ')'\n",
    "        leg = variables[i]\n",
    "        fill_alpha = 0.4   \n",
    "        cr = p1.quad(top=hist, bottom=0, left=edges[:-1], right=edges[1:], fill_color=\"dodgerblue\", line_color=None, hover_fill_color=\"firebrick\", fill_alpha=fill_alpha, hover_alpha=0.7, hover_line_color=\"white\", legend=leg)\n",
    "        p1.add_tools(HoverTool(tooltips=None, renderers=[cr], mode='mouse'))\n",
    "        p.append(p1)\n",
    "    dirPath = 'embed/'\n",
    "    if not os.path.exists(dirPath):\n",
    "        os.makedirs(dirPath)        \n",
    "   # if not inline:      ## if jupyter is not the caller\n",
    "   #     output_file(dirPath + fname + \".html\", title=\"Histogram\")\n",
    "    show(column(p))\n",
    "    return"
   ]
  },
  {
   "cell_type": "code",
   "execution_count": null,
   "metadata": {},
   "outputs": [],
   "source": []
  }
 ],
 "metadata": {
  "kernelspec": {
   "display_name": "Python 3",
   "language": "python",
   "name": "python3"
  },
  "language_info": {
   "codemirror_mode": {
    "name": "ipython",
    "version": 3
   },
   "file_extension": ".py",
   "mimetype": "text/x-python",
   "name": "python",
   "nbconvert_exporter": "python",
   "pygments_lexer": "ipython3",
   "version": "3.7.3"
  }
 },
 "nbformat": 4,
 "nbformat_minor": 2
}
