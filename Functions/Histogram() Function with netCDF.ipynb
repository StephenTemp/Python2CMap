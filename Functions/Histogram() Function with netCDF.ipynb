{
 "cells": [
  {
   "cell_type": "markdown",
   "metadata": {},
   "source": [
    "## Reformat netCDF4 File for a Function Call"
   ]
  },
  {
   "cell_type": "code",
   "execution_count": 2,
   "metadata": {
    "tags": [
     "hide_input"
    ]
   },
   "outputs": [
    {
     "ename": "ModuleNotFoundError",
     "evalue": "No module named 'histogram_script.py'; 'histogram_script' is not a package",
     "output_type": "error",
     "traceback": [
      "\u001b[0;31m---------------------------------------------------------------------------\u001b[0m",
      "\u001b[0;31mModuleNotFoundError\u001b[0m                       Traceback (most recent call last)",
      "\u001b[0;32m<ipython-input-2-b426a669200d>\u001b[0m in \u001b[0;36m<module>\u001b[0;34m()\u001b[0m\n\u001b[0;32m----> 1\u001b[0;31m \u001b[0;32mimport\u001b[0m \u001b[0mhistogram_script\u001b[0m\u001b[0;34m.\u001b[0m\u001b[0mpy\u001b[0m\u001b[0;34m\u001b[0m\u001b[0;34m\u001b[0m\u001b[0m\n\u001b[0m\u001b[1;32m      2\u001b[0m \u001b[0;32mimport\u001b[0m \u001b[0mopedia\u001b[0m\u001b[0;34m\u001b[0m\u001b[0;34m\u001b[0m\u001b[0m\n\u001b[1;32m      3\u001b[0m \u001b[0;32mimport\u001b[0m \u001b[0msys\u001b[0m\u001b[0;34m\u001b[0m\u001b[0;34m\u001b[0m\u001b[0m\n\u001b[1;32m      4\u001b[0m \u001b[0;32mimport\u001b[0m \u001b[0mos\u001b[0m\u001b[0;34m\u001b[0m\u001b[0;34m\u001b[0m\u001b[0m\n\u001b[1;32m      5\u001b[0m \u001b[0;32mimport\u001b[0m \u001b[0mnumpy\u001b[0m \u001b[0;32mas\u001b[0m \u001b[0mnp\u001b[0m\u001b[0;34m\u001b[0m\u001b[0;34m\u001b[0m\u001b[0m\n",
      "\u001b[0;31mModuleNotFoundError\u001b[0m: No module named 'histogram_script.py'; 'histogram_script' is not a package"
     ]
    }
   ],
   "source": [
    "import histogram_script.py \n",
    "import opedia\n",
    "import sys\n",
    "import os\n",
    "import numpy as np\n",
    "import pandas as pd\n",
    "import xarray as xr\n",
    "import db\n",
    "import subset\n",
    "import common as com\n",
    "from datetime import datetime, timedelta\n",
    "import time\n",
    "from bokeh.io import output_notebook\n",
    "from math import pi\n",
    "from bokeh.plotting import figure, show, output_file\n",
    "from bokeh.layouts import column\n",
    "from bokeh.models import DatetimeTickFormatter\n",
    "from bokeh.palettes import all_palettes\n",
    "from bokeh.models import HoverTool\n",
    "from bokeh.embed import components\n",
    "import jupyterInline as jup\n",
    "if jup.jupytered():\n",
    "    from tqdm import tqdm_notebook as tqdm\n",
    "else:\n",
    "    from tqdm import tqdm"
   ]
  },
  {
   "cell_type": "markdown",
   "metadata": {},
   "source": [
    "### Testing Function "
   ]
  },
  {
   "cell_type": "code",
   "execution_count": 16,
   "metadata": {
    "scrolled": true
   },
   "outputs": [
    {
     "ename": "NameError",
     "evalue": "name 'plotDist' is not defined",
     "output_type": "error",
     "traceback": [
      "\u001b[0;31m---------------------------------------------------------------------------\u001b[0m",
      "\u001b[0;31mNameError\u001b[0m                                 Traceback (most recent call last)",
      "\u001b[0;32m<ipython-input-16-0de27c982d12>\u001b[0m in \u001b[0;36m<module>\u001b[0;34m()\u001b[0m\n\u001b[1;32m     10\u001b[0m \u001b[0mexportDataFlag\u001b[0m \u001b[0;34m=\u001b[0m \u001b[0;32mFalse\u001b[0m      \u001b[0;31m# True if you you want to download data\u001b[0m\u001b[0;34m\u001b[0m\u001b[0;34m\u001b[0m\u001b[0m\n\u001b[1;32m     11\u001b[0m \u001b[0;34m\u001b[0m\u001b[0m\n\u001b[0;32m---> 12\u001b[0;31m \u001b[0mplotDist\u001b[0m\u001b[0;34m(\u001b[0m\u001b[0mtables\u001b[0m\u001b[0;34m,\u001b[0m \u001b[0mvariables\u001b[0m\u001b[0;34m,\u001b[0m \u001b[0mstartDate\u001b[0m\u001b[0;34m,\u001b[0m \u001b[0mendDate\u001b[0m\u001b[0;34m,\u001b[0m \u001b[0mlat1\u001b[0m\u001b[0;34m,\u001b[0m \u001b[0mlat2\u001b[0m\u001b[0;34m,\u001b[0m \u001b[0mlon1\u001b[0m\u001b[0;34m,\u001b[0m \u001b[0mlon2\u001b[0m\u001b[0;34m,\u001b[0m \u001b[0mdepth1\u001b[0m\u001b[0;34m,\u001b[0m \u001b[0mdepth2\u001b[0m\u001b[0;34m,\u001b[0m \u001b[0mfname\u001b[0m\u001b[0;34m,\u001b[0m \u001b[0mexportDataFlag\u001b[0m\u001b[0;34m)\u001b[0m\u001b[0;34m\u001b[0m\u001b[0;34m\u001b[0m\u001b[0m\n\u001b[0m",
      "\u001b[0;31mNameError\u001b[0m: name 'plotDist' is not defined"
     ]
    }
   ],
   "source": [
    "\n",
    "tables = ['tblSST_AVHRR_OI_NRT', 'tblArgoMerge_REP', 'tblArgoMerge_REP']           # see catalog.csv  for the complete list of tables and variable names\n",
    "variables = ['sst', 'argo_merge_temperature_adj', 'argo_merge_salinity_adj']       # see catalog.csv  for the complete list of tables and variable names\n",
    "startDate = '2016-04-30'\n",
    "endDate = '2016-04-30'\n",
    "lat1, lat2 = 20, 24\n",
    "lon1, lon2 = -170, 150\n",
    "depth1, depth2 = 0, 20\n",
    "fname = 'DEP'\n",
    "exportDataFlag = False      # True if you you want to download data\n",
    "\n",
    "plotDist(tables, variables, startDate, endDate, lat1, lat2, lon1, lon2, depth1, depth2, fname, exportDataFlag)\n"
   ]
  },
  {
   "cell_type": "code",
   "execution_count": 15,
   "metadata": {},
   "outputs": [
    {
     "ename": "NameError",
     "evalue": "name 'xarrayPlotDist' is not defined",
     "output_type": "error",
     "traceback": [
      "\u001b[0;31m---------------------------------------------------------------------------\u001b[0m",
      "\u001b[0;31mNameError\u001b[0m                                 Traceback (most recent call last)",
      "\u001b[0;32m<ipython-input-15-91c49bbcb6eb>\u001b[0m in \u001b[0;36m<module>\u001b[0;34m()\u001b[0m\n\u001b[1;32m     11\u001b[0m \u001b[0mexportDataFlag\u001b[0m \u001b[0;34m=\u001b[0m \u001b[0;32mFalse\u001b[0m      \u001b[0;31m# True if you you want to download data\u001b[0m\u001b[0;34m\u001b[0m\u001b[0;34m\u001b[0m\u001b[0m\n\u001b[1;32m     12\u001b[0m \u001b[0;34m\u001b[0m\u001b[0m\n\u001b[0;32m---> 13\u001b[0;31m \u001b[0mxarrayPlotDist\u001b[0m\u001b[0;34m(\u001b[0m\u001b[0mtables\u001b[0m\u001b[0;34m,\u001b[0m \u001b[0mvariables\u001b[0m\u001b[0;34m,\u001b[0m \u001b[0mstartDate\u001b[0m\u001b[0;34m,\u001b[0m \u001b[0mendDate\u001b[0m\u001b[0;34m,\u001b[0m \u001b[0mlat1\u001b[0m\u001b[0;34m,\u001b[0m \u001b[0mlat2\u001b[0m\u001b[0;34m,\u001b[0m \u001b[0mlon1\u001b[0m\u001b[0;34m,\u001b[0m \u001b[0mlon2\u001b[0m\u001b[0;34m,\u001b[0m \u001b[0mdepth1\u001b[0m\u001b[0;34m,\u001b[0m \u001b[0mdepth2\u001b[0m\u001b[0;34m,\u001b[0m \u001b[0mfname\u001b[0m\u001b[0;34m,\u001b[0m \u001b[0mexportDataFlag\u001b[0m\u001b[0;34m)\u001b[0m\u001b[0;34m\u001b[0m\u001b[0;34m\u001b[0m\u001b[0m\n\u001b[0m",
      "\u001b[0;31mNameError\u001b[0m: name 'xarrayPlotDist' is not defined"
     ]
    }
   ],
   "source": [
    "xFile = xr.open_dataset('http://engaging-opendap.mit.edu:8080/thredds/dodsC/las/id-a1d60eba44/data_usr_local_tomcat_content_cbiomes_20190510_20_darwin_v0.2_cs510_darwin_v0.2_cs510_nutrients.nc.jnl')\n",
    "\n",
    "tables = [xFile]           # see catalog.csv  for the complete list of tables and variable names\n",
    "variables = ['O2']       # see catalog.csv  for the complete list of tables and variable names\n",
    "startDate = '2010-04-30'\n",
    "endDate = '2010-04-30'\n",
    "lat1, lat2 = -80, 80\n",
    "lon1, lon2 = -80, 80\n",
    "depth1, depth2 = 0, 10\n",
    "fname = 'DEP'\n",
    "exportDataFlag = False      # True if you you want to download data\n",
    "\n",
    "xarrayPlotDist(tables, variables, startDate, endDate, lat1, lat2, lon1, lon2, depth1, depth2, fname, exportDataFlag)\n"
   ]
  },
  {
   "cell_type": "markdown",
   "metadata": {
    "tags": [
     "hide_input"
    ]
   },
   "source": [
    "### Original Function"
   ]
  },
  {
   "cell_type": "code",
   "execution_count": 3,
   "metadata": {
    "tags": [
     "hide_input"
    ]
   },
   "outputs": [],
   "source": [
    "def plotDist(tables, variables, startDate, endDate, lat1, lat2, lon1, lon2, depth1, depth2, fname, exportDataFlag, marker='-', msize=30, clr='purple'):\n",
    "    p = []\n",
    "    lw = 2\n",
    "    w = 800\n",
    "    h = 400\n",
    "    TOOLS = 'pan,wheel_zoom,zoom_in,zoom_out,box_zoom, undo,redo,reset,tap,save,box_select,poly_select,lasso_select'\n",
    "    for i in tqdm(range(len(tables)), desc='overall'):\n",
    "        y = subset.spaceTime(tables[i], variables[i], startDate, endDate, lat1, lat2, lon1, lon2, depth1, depth2) \n",
    "        if len(y) < 1:\n",
    "            com.printTQDM('%d: No matching entry found: Table: %s, Variable: %s ' % (i+1, tables[i], variables[i]), err=True )\n",
    "            continue\n",
    "        com.printTQDM('%d: %s retrieved (%s).' % (i+1, variables[i], tables[i]), err=False)\n",
    "        y = y[variables[i]]\n",
    "        \n",
    "        if exportDataFlag:\n",
    "            exportData(y, tables[i], variables[i], startDate, endDate, lat1, lat2, lon1, lon2, depth1, depth2)\n",
    "        try:    \n",
    "            y = y[~np.isnan(y)]     # remove nans\n",
    "        except Exception as e:\n",
    "            continue    \n",
    "        hist, edges = np.histogram(y, density=True, bins=50)\n",
    "        p1 = figure(tools=TOOLS, toolbar_location=\"above\", plot_width=w, plot_height=h)\n",
    "        p1.yaxis.axis_label = 'Density'\n",
    "        p1.xaxis.axis_label = variables[i] + ' [' + db.getVar(tables[i], variables[i]).iloc[0]['Unit'] + ']'\n",
    "        leg = variables[i]\n",
    "        fill_alpha = 0.4   \n",
    "        cr = p1.quad(top=hist, bottom=0, left=edges[:-1], right=edges[1:], fill_color=\"dodgerblue\", line_color=None, hover_fill_color=\"firebrick\", fill_alpha=fill_alpha, hover_alpha=0.7, hover_line_color=\"white\", legend=leg)\n",
    "        p1.add_tools(HoverTool(tooltips=None, renderers=[cr], mode='mouse'))\n",
    "        p.append(p1)\n",
    "    dirPath = 'embed/'\n",
    "    if not os.path.exists(dirPath):\n",
    "        os.makedirs(dirPath)        \n",
    "   # if not inline:      ## if jupyter is not the caller\n",
    "   #     output_file(dirPath + fname + \".html\", title=\"Histogram\")\n",
    "    show(column(p))\n",
    "    return"
   ]
  },
  {
   "cell_type": "markdown",
   "metadata": {
    "tags": [
     "hide_input"
    ]
   },
   "source": [
    "### NetCDF4-Compatible Function"
   ]
  },
  {
   "cell_type": "code",
   "execution_count": 10,
   "metadata": {
    "tags": [
     "hide_input"
    ]
   },
   "outputs": [],
   "source": [
    "def xarrayPlotDist(tables, variables, startDate, endDate, lat1, lat2, lon1, lon2, depth1, depth2, fname, exportDataFlag, marker='-', msize=30, clr='purple'):\n",
    "    p = []\n",
    "    lw = 2\n",
    "    w = 800\n",
    "    h = 400\n",
    "    TOOLS = 'pan,wheel_zoom,zoom_in,zoom_out,box_zoom, undo,redo,reset,tap,save,box_select,poly_select,lasso_select'\n",
    "    for i in tqdm(range(len(tables)), desc='overall'):\n",
    "        \n",
    "        unit = tables[i].variables[variables[i]].attrs['units']\n",
    "        \n",
    "        varData = tables[i].sel(TIME = slice(startDate, endDate), LAT_C = slice(lat1, lat2), LON_C = slice(lon1, lon2), DEP_C = slice(depth1, depth2))\n",
    "        varData = varData.variables[variables[i]][:].values\n",
    "        varData[varData < 0] = float('NaN')\n",
    "        \n",
    "        varData = varData.tolist()[0][0]\n",
    "        elems = []\n",
    "        for list in varData:\n",
    "            for item in list:\n",
    "                elems.append(item)\n",
    "        varData = pd.Series(elems).dropna()\n",
    "\n",
    "        if exportDataFlag:\n",
    "            exportData(y, tables[i], variables[i], startDate, endDate, lat1, lat2, lon1, lon2, depth1, depth2)\n",
    "        try:    \n",
    "            carData = varData[~np.isnan(varData)]     # remove nans\n",
    "        except Exception as e:\n",
    "            continue   \n",
    "            \n",
    "        hist, edges = np.histogram(varData, density=True, bins=50)\n",
    "        \n",
    "        output_notebook()\n",
    "        \n",
    "        p1 = figure(tools=TOOLS, toolbar_location=\"above\", plot_width=w, plot_height=h)\n",
    "        p1.yaxis.axis_label = 'Density'\n",
    "        p1.xaxis.axis_label = variables[i] + ' (' +str(unit) + ')'\n",
    "        leg = variables[i]\n",
    "        fill_alpha = 0.4   \n",
    "        cr = p1.quad(top=hist, bottom=0, left=edges[:-1], right=edges[1:], fill_color=\"dodgerblue\", line_color=None, hover_fill_color=\"firebrick\", fill_alpha=fill_alpha, hover_alpha=0.7, hover_line_color=\"white\", legend=leg)\n",
    "        p1.add_tools(HoverTool(tooltips=None, renderers=[cr], mode='mouse'))\n",
    "        p.append(p1)\n",
    "    dirPath = 'embed/'\n",
    "    if not os.path.exists(dirPath):\n",
    "        os.makedirs(dirPath)        \n",
    "    \n",
    "    #if not inline:      ## if jupyter is not the caller\n",
    "    #    output_file(dirPath + fname + \".html\", title=\"Histogram\")\n",
    "    #    print('test')\n",
    "    show(column(p))\n",
    "    return"
   ]
  },
  {
   "cell_type": "code",
   "execution_count": null,
   "metadata": {},
   "outputs": [],
   "source": []
  }
 ],
 "metadata": {
  "celltoolbar": "Tags",
  "kernelspec": {
   "display_name": "Python 3",
   "language": "python",
   "name": "python3"
  },
  "language_info": {
   "codemirror_mode": {
    "name": "ipython",
    "version": 3
   },
   "file_extension": ".py",
   "mimetype": "text/x-python",
   "name": "python",
   "nbconvert_exporter": "python",
   "pygments_lexer": "ipython3",
   "version": "3.7.3"
  }
 },
 "nbformat": 4,
 "nbformat_minor": 2
}
