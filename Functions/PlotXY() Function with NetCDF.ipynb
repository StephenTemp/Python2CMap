{
 "cells": [
  {
   "cell_type": "markdown",
   "metadata": {},
   "source": [
    "## Reformat netCDF File for a Function Call"
   ]
  },
  {
   "cell_type": "code",
   "execution_count": 11,
   "metadata": {},
   "outputs": [],
   "source": [
    "import opedia\n",
    "import xarray as xr\n",
    "import sys\n",
    "import os\n",
    "import numpy as np\n",
    "import pandas as pd\n",
    "import db\n",
    "import common as com\n",
    "import timeSeries as TS\n",
    "import itertools as itt\n",
    "from bokeh.io import output_notebook\n",
    "from datetime import datetime, timedelta\n",
    "import time\n",
    "from math import pi\n",
    "from bokeh.plotting import figure, show, output_file\n",
    "from bokeh.layouts import column\n",
    "from bokeh.models import DatetimeTickFormatter\n",
    "from bokeh.palettes import all_palettes\n",
    "from bokeh.models import HoverTool\n",
    "from bokeh.embed import components\n",
    "import jupyterInline as jup\n",
    "if jup.jupytered():\n",
    "    from tqdm import tqdm_notebook as tqdm\n",
    "else:\n",
    "    from tqdm import tqdm"
   ]
  },
  {
   "cell_type": "markdown",
   "metadata": {},
   "source": [
    "### Testing Original Function"
   ]
  },
  {
   "cell_type": "code",
   "execution_count": null,
   "metadata": {},
   "outputs": [],
   "source": [
    "tables = ['tblSST_AVHRR_OI_NRT', 'tblAltimetry_REP']\n",
    "variables = ['sst', 'sla']                                        # see catalog.csv  for the complete list of tables and variable names\n",
    "startDate = '2016-03-29'\n",
    "endDate = '2016-05-29'\n",
    "lat1, lat2 = 25, 30\n",
    "lon1, lon2 = -160, -155\n",
    "depth1, depth2 = 0, 5\n",
    "fname = 'XY'\n",
    "exportDataFlag = False      # True if you you want to download data\n",
    "\n",
    "plotXY(tables, variables, startDate, endDate, lat1, lat2, lon1, lon2, depth1, depth2, fname, exportDataFlag)\n"
   ]
  },
  {
   "cell_type": "markdown",
   "metadata": {},
   "source": [
    "### Testing NetCDF Compatible Function"
   ]
  },
  {
   "cell_type": "code",
   "execution_count": 10,
   "metadata": {},
   "outputs": [
    {
     "data": {
      "application/vnd.jupyter.widget-view+json": {
       "model_id": "b53f4e589c6e42bf8299a594155f4517",
       "version_major": 2,
       "version_minor": 0
      },
      "text/plain": [
       "HBox(children=(IntProgress(value=1, bar_style='info', description='overall', max=1, style=ProgressStyle(descri…"
      ]
     },
     "metadata": {},
     "output_type": "display_data"
    },
    {
     "name": "stdout",
     "output_type": "stream",
     "text": [
      "\n"
     ]
    },
    {
     "ename": "NameError",
     "evalue": "name 'inline' is not defined",
     "output_type": "error",
     "traceback": [
      "\u001b[0;31m---------------------------------------------------------------------------\u001b[0m",
      "\u001b[0;31mNameError\u001b[0m                                 Traceback (most recent call last)",
      "\u001b[0;32m<ipython-input-10-df6bd036641e>\u001b[0m in \u001b[0;36m<module>\u001b[0;34m()\u001b[0m\n\u001b[1;32m     11\u001b[0m \u001b[0mexportDataFlag\u001b[0m \u001b[0;34m=\u001b[0m \u001b[0;32mFalse\u001b[0m      \u001b[0;31m# True if you you want to download data\u001b[0m\u001b[0;34m\u001b[0m\u001b[0;34m\u001b[0m\u001b[0m\n\u001b[1;32m     12\u001b[0m \u001b[0;34m\u001b[0m\u001b[0m\n\u001b[0;32m---> 13\u001b[0;31m \u001b[0mxarrayPlotXY\u001b[0m\u001b[0;34m(\u001b[0m\u001b[0mtables\u001b[0m\u001b[0;34m,\u001b[0m \u001b[0mvariables\u001b[0m\u001b[0;34m,\u001b[0m \u001b[0mstartDate\u001b[0m\u001b[0;34m,\u001b[0m \u001b[0mendDate\u001b[0m\u001b[0;34m,\u001b[0m \u001b[0mlat1\u001b[0m\u001b[0;34m,\u001b[0m \u001b[0mlat2\u001b[0m\u001b[0;34m,\u001b[0m \u001b[0mlon1\u001b[0m\u001b[0;34m,\u001b[0m \u001b[0mlon2\u001b[0m\u001b[0;34m,\u001b[0m \u001b[0mdepth1\u001b[0m\u001b[0;34m,\u001b[0m \u001b[0mdepth2\u001b[0m\u001b[0;34m,\u001b[0m \u001b[0mfname\u001b[0m\u001b[0;34m,\u001b[0m \u001b[0mexportDataFlag\u001b[0m\u001b[0;34m)\u001b[0m\u001b[0;34m\u001b[0m\u001b[0;34m\u001b[0m\u001b[0m\n\u001b[0m",
      "\u001b[0;32m<ipython-input-5-7659c5bc5810>\u001b[0m in \u001b[0;36mxarrayPlotXY\u001b[0;34m(tables, variables, startDate, endDate, lat1, lat2, lon1, lon2, depth1, depth2, fname, exportDataFlag, marker, msize, clr)\u001b[0m\n\u001b[1;32m     38\u001b[0m     \u001b[0;32mif\u001b[0m \u001b[0;32mnot\u001b[0m \u001b[0mos\u001b[0m\u001b[0;34m.\u001b[0m\u001b[0mpath\u001b[0m\u001b[0;34m.\u001b[0m\u001b[0mexists\u001b[0m\u001b[0;34m(\u001b[0m\u001b[0mdirPath\u001b[0m\u001b[0;34m)\u001b[0m\u001b[0;34m:\u001b[0m\u001b[0;34m\u001b[0m\u001b[0;34m\u001b[0m\u001b[0m\n\u001b[1;32m     39\u001b[0m         \u001b[0mos\u001b[0m\u001b[0;34m.\u001b[0m\u001b[0mmakedirs\u001b[0m\u001b[0;34m(\u001b[0m\u001b[0mdirPath\u001b[0m\u001b[0;34m)\u001b[0m\u001b[0;34m\u001b[0m\u001b[0;34m\u001b[0m\u001b[0m\n\u001b[0;32m---> 40\u001b[0;31m     \u001b[0;32mif\u001b[0m \u001b[0;32mnot\u001b[0m \u001b[0minline\u001b[0m\u001b[0;34m:\u001b[0m      \u001b[0;31m## if jupyter is not the caller\u001b[0m\u001b[0;34m\u001b[0m\u001b[0;34m\u001b[0m\u001b[0m\n\u001b[0m\u001b[1;32m     41\u001b[0m         \u001b[0mprint\u001b[0m\u001b[0;34m(\u001b[0m\u001b[0;34m'test'\u001b[0m\u001b[0;34m)\u001b[0m\u001b[0;34m\u001b[0m\u001b[0;34m\u001b[0m\u001b[0m\n\u001b[1;32m     42\u001b[0m         \u001b[0moutput_file\u001b[0m\u001b[0;34m(\u001b[0m\u001b[0mdirPath\u001b[0m \u001b[0;34m+\u001b[0m \u001b[0mfname\u001b[0m \u001b[0;34m+\u001b[0m \u001b[0;34m\".html\"\u001b[0m\u001b[0;34m,\u001b[0m \u001b[0mtitle\u001b[0m\u001b[0;34m=\u001b[0m\u001b[0;34m\"XY\"\u001b[0m\u001b[0;34m)\u001b[0m\u001b[0;34m\u001b[0m\u001b[0;34m\u001b[0m\u001b[0m\n",
      "\u001b[0;31mNameError\u001b[0m: name 'inline' is not defined"
     ]
    }
   ],
   "source": [
    "xFile = xr.open_dataset('http://engaging-opendap.mit.edu:8080/thredds/dodsC/las/id-a1d60eba44/data_usr_local_tomcat_content_cbiomes_20190510_20_darwin_v0.2_cs510_darwin_v0.2_cs510_nutrients.nc.jnl')\n",
    "\n",
    "tables = [xFile]\n",
    "variables = ['O2']                                        # see catalog.csv  for the complete list of tables and variable names\n",
    "startDate = '2010-04-30'\n",
    "endDate = '2010-04-30'\n",
    "lat1, lat2 = 25, 30\n",
    "lon1, lon2 = -160, -155\n",
    "depth1, depth2 = 0, 5\n",
    "fname = 'XY'\n",
    "exportDataFlag = False      # True if you you want to download data\n",
    "\n",
    "xarrayPlotXY(tables, variables, startDate, endDate, lat1, lat2, lon1, lon2, depth1, depth2, fname, exportDataFlag)\n"
   ]
  },
  {
   "cell_type": "markdown",
   "metadata": {},
   "source": [
    "### Original Function"
   ]
  },
  {
   "cell_type": "code",
   "execution_count": 3,
   "metadata": {},
   "outputs": [],
   "source": [
    "def plotXY(tables, variables, startDate, endDate, lat1, lat2, lon1, lon2, depth1, depth2, fname, exportDataFlag, marker='-', msize=15, clr='green'):\n",
    "    p = []\n",
    "    lw = 2\n",
    "    w = 500\n",
    "    h = 500\n",
    "    TOOLS = 'pan,wheel_zoom,zoom_in,zoom_out,box_zoom, undo,redo,reset,tap,save,box_select,poly_select,lasso_select'\n",
    "    tablePairs = list(itt.combinations(tables, 2))\n",
    "    variablePairs = list(itt.combinations(variables, 2))\n",
    "    for i in tqdm(range(len(tablePairs)), desc='overall'):\n",
    "        t1, y1, y_std1 = TS.timeSeries(tablePairs[i][0], variablePairs[i][0], startDate, endDate, lat1, lat2, lon1, lon2, depth1, depth2)\n",
    "        t2, y2, y_std2 = TS.timeSeries(tablePairs[i][1], variablePairs[i][1], startDate, endDate, lat1, lat2, lon1, lon2, depth1, depth2)\n",
    "        if exportDataFlag:\n",
    "            exportData(t1, y1, y_std1, t2, y2, y_std2, tablePairs[i][0], variablePairs[i][0], tablePairs[i][1], variablePairs[i][1], lat1, lat2, lon1, lon2, depth1, depth2)\n",
    "\n",
    "        if len(y1[~np.isnan(y1)]) < 1:\n",
    "            com.printTQDM('%d: No matching entry found: Table: %s, Variable: %s ' % (i+1, tablePairs[i][0], variablePairs[i][0]), err=True )\n",
    "            # continue\n",
    "        com.printTQDM('%d: %s retrieved (%s).' % (i+1, variablePairs[i][0], tablePairs[i][0]), err=False)    \n",
    "        if len(y2[~np.isnan(y2)]) < 1:\n",
    "            com.printTQDM('%d: No matching entry found: Table: %s, Variable: %s ' % (i+1, tablePairs[i][1], variablePairs[i][1]), err=True )\n",
    "            # continue\n",
    "        com.printTQDM('%d: %s retrieved (%s).' % (i+1, variablePairs[i][1], tablePairs[i][1]), err=False)     \n",
    "\n",
    "        if len(t1)<1 or len(y1)<1 or len(t2)<1 or len(y2)<1:\n",
    "            continue\n",
    "        if (len(t1)-len(t2) != 0) or (len(y1)-len(y2) != 0):   \n",
    "            continue\n",
    "        p1 = figure(tools=TOOLS, toolbar_location=\"above\", plot_width=w, plot_height=h)\n",
    "        p1.xaxis.axis_label = variablePairs[i][0] + ' [' + db.getVar(tablePairs[i][0], variablePairs[i][0]).iloc[0]['Unit'] + ']'\n",
    "        p1.yaxis.axis_label = variablePairs[i][1] + ' [' + db.getVar(tablePairs[i][1], variablePairs[i][1]).iloc[0]['Unit'] + ']'\n",
    "        leg = variablePairs[i][0] + ' / ' + variablePairs[i][1]\n",
    "        fill_alpha = 0.3       \n",
    "        cr = p1.circle(y1, y2, fill_color=\"grey\", hover_fill_color=\"firebrick\", fill_alpha=fill_alpha, hover_alpha=0.6, line_color=None, hover_line_color=\"white\", legend=leg, size=msize)\n",
    "        #p1.line(y1, y2, line_color=clr, line_width=lw, legend=leg)\n",
    "        p1.add_tools(HoverTool(tooltips=None, renderers=[cr], mode='hline'))    \n",
    "        p.append(p1)\n",
    "    dirPath = 'embed/'\n",
    "    if not os.path.exists(dirPath):\n",
    "        os.makedirs(dirPath)        \n",
    "    if not inline:      ## if jupyter is not the caller\n",
    "        output_file(dirPath + fname + \".html\", title=\"XY\")\n",
    "    show(column(p))\n",
    "    return"
   ]
  },
  {
   "cell_type": "markdown",
   "metadata": {},
   "source": [
    "### NetCDF Compatible Function"
   ]
  },
  {
   "cell_type": "code",
   "execution_count": 5,
   "metadata": {},
   "outputs": [],
   "source": [
    "def xarrayPlotXY(tables, variables, startDate, endDate, lat1, lat2, lon1, lon2, depth1, depth2, fname, exportDataFlag, marker='-', msize=15, clr='green'):\n",
    "    p = []\n",
    "    lw = 2\n",
    "    w = 500\n",
    "    h = 500\n",
    "    TOOLS = 'pan,wheel_zoom,zoom_in,zoom_out,box_zoom, undo,redo,reset,tap,save,box_select,poly_select,lasso_select'\n",
    "    tablePairs = list(itt.combinations(tables, 2))\n",
    "    variablePairs = list(itt.combinations(variables, 2))\n",
    "    for i in tqdm(range(len(tablePairs)), desc='overall'):\n",
    "        t1, y1, y_std1 = TS.timeSeries(tablePairs[i][0], variablePairs[i][0], startDate, endDate, lat1, lat2, lon1, lon2, depth1, depth2)\n",
    "        t2, y2, y_std2 = TS.timeSeries(tablePairs[i][1], variablePairs[i][1], startDate, endDate, lat1, lat2, lon1, lon2, depth1, depth2)\n",
    "        if exportDataFlag:\n",
    "            exportData(t1, y1, y_std1, t2, y2, y_std2, tablePairs[i][0], variablePairs[i][0], tablePairs[i][1], variablePairs[i][1], lat1, lat2, lon1, lon2, depth1, depth2)\n",
    "\n",
    "        if len(y1[~np.isnan(y1)]) < 1:\n",
    "            com.printTQDM('%d: No matching entry found: Table: %s, Variable: %s ' % (i+1, tablePairs[i][0], variablePairs[i][0]), err=True )\n",
    "            # continue\n",
    "        com.printTQDM('%d: %s retrieved (%s).' % (i+1, variablePairs[i][0], tablePairs[i][0]), err=False)    \n",
    "        if len(y2[~np.isnan(y2)]) < 1:\n",
    "            com.printTQDM('%d: No matching entry found: Table: %s, Variable: %s ' % (i+1, tablePairs[i][1], variablePairs[i][1]), err=True )\n",
    "            # continue\n",
    "        com.printTQDM('%d: %s retrieved (%s).' % (i+1, variablePairs[i][1], tablePairs[i][1]), err=False)     \n",
    "\n",
    "        if len(t1)<1 or len(y1)<1 or len(t2)<1 or len(y2)<1:\n",
    "            continue\n",
    "        if (len(t1)-len(t2) != 0) or (len(y1)-len(y2) != 0):   \n",
    "            continue\n",
    "        p1 = figure(tools=TOOLS, toolbar_location=\"above\", plot_width=w, plot_height=h)\n",
    "        p1.xaxis.axis_label = variablePairs[i][0] + ' [' + db.getVar(tablePairs[i][0], variablePairs[i][0]).iloc[0]['Unit'] + ']'\n",
    "        p1.yaxis.axis_label = variablePairs[i][1] + ' [' + db.getVar(tablePairs[i][1], variablePairs[i][1]).iloc[0]['Unit'] + ']'\n",
    "        leg = variablePairs[i][0] + ' / ' + variablePairs[i][1]\n",
    "        fill_alpha = 0.3       \n",
    "        cr = p1.circle(y1, y2, fill_color=\"grey\", hover_fill_color=\"firebrick\", fill_alpha=fill_alpha, hover_alpha=0.6, line_color=None, hover_line_color=\"white\", legend=leg, size=msize)\n",
    "        #p1.line(y1, y2, line_color=clr, line_width=lw, legend=leg)\n",
    "        p1.add_tools(HoverTool(tooltips=None, renderers=[cr], mode='hline'))    \n",
    "        p.append(p1)\n",
    "    dirPath = 'embed/'\n",
    "    if not os.path.exists(dirPath):\n",
    "        os.makedirs(dirPath)        \n",
    "    if not inline:      ## if jupyter is not the caller\n",
    "        print('test')\n",
    "        output_file(dirPath + fname + \".html\", title=\"XY\")\n",
    "    show(column(p))\n",
    "    return"
   ]
  },
  {
   "cell_type": "markdown",
   "metadata": {},
   "source": [
    "#### Helper Functions"
   ]
  },
  {
   "cell_type": "code",
   "execution_count": null,
   "metadata": {},
   "outputs": [],
   "source": []
  }
 ],
 "metadata": {
  "kernelspec": {
   "display_name": "Python 3",
   "language": "python",
   "name": "python3"
  },
  "language_info": {
   "codemirror_mode": {
    "name": "ipython",
    "version": 3
   },
   "file_extension": ".py",
   "mimetype": "text/x-python",
   "name": "python",
   "nbconvert_exporter": "python",
   "pygments_lexer": "ipython3",
   "version": "3.7.3"
  }
 },
 "nbformat": 4,
 "nbformat_minor": 2
}
